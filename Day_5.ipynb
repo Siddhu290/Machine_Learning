{
 "cells": [
  {
   "cell_type": "code",
   "execution_count": 2,
   "id": "68ed9d50-10ce-42d4-a3a8-0809acd95c95",
   "metadata": {},
   "outputs": [
    {
     "name": "stdout",
     "output_type": "stream",
     "text": [
      "check-in clear\n"
     ]
    }
   ],
   "source": [
    "airline = \"AirIndia\"\n",
    "luggage_weight = 28\n",
    "AI_weight_limit = 30\n",
    "EM_weight_limit = 35\n",
    "\n",
    "if airline == \"AirIndia\":\n",
    "    if luggage_weight <= AI_weight_limit:\n",
    "        print(\"check-in clear\")\n",
    "    else:\n",
    "        print(\"Remove some luggage and come back\")\n"
   ]
  },
  {
   "cell_type": "code",
   "execution_count": 3,
   "id": "04e05783-b27c-4f73-acdb-69e333be1ee0",
   "metadata": {},
   "outputs": [
    {
     "name": "stdout",
     "output_type": "stream",
     "text": [
      "The Zen of Python, by Tim Peters\n",
      "\n",
      "Beautiful is better than ugly.\n",
      "Explicit is better than implicit.\n",
      "Simple is better than complex.\n",
      "Complex is better than complicated.\n",
      "Flat is better than nested.\n",
      "Sparse is better than dense.\n",
      "Readability counts.\n",
      "Special cases aren't special enough to break the rules.\n",
      "Although practicality beats purity.\n",
      "Errors should never pass silently.\n",
      "Unless explicitly silenced.\n",
      "In the face of ambiguity, refuse the temptation to guess.\n",
      "There should be one-- and preferably only one --obvious way to do it.\n",
      "Although that way may not be obvious at first unless you're Dutch.\n",
      "Now is better than never.\n",
      "Although never is often better than *right* now.\n",
      "If the implementation is hard to explain, it's a bad idea.\n",
      "If the implementation is easy to explain, it may be a good idea.\n",
      "Namespaces are one honking great idea -- let's do more of those!\n"
     ]
    }
   ],
   "source": [
    "import this"
   ]
  },
  {
   "cell_type": "code",
   "execution_count": 4,
   "id": "dce64bab-82aa-4b42-90c4-d5fe14e79632",
   "metadata": {},
   "outputs": [
    {
     "name": "stdout",
     "output_type": "stream",
     "text": [
      "<class 'object'>\n"
     ]
    }
   ],
   "source": [
    "print(object,sep='',end='\\n')"
   ]
  },
  {
   "cell_type": "code",
   "execution_count": 5,
   "id": "f50713ec-6407-45a9-9ee1-059848f1c7f0",
   "metadata": {},
   "outputs": [
    {
     "name": "stdout",
     "output_type": "stream",
     "text": [
      "               *\n",
      "              ***\n",
      "             *****\n",
      "            *******\n",
      "           *********\n",
      "          ***********\n",
      "         *************\n",
      "        ***************\n",
      "       *****************\n",
      "             ||\n",
      "             ||\n",
      "             ||\n",
      "            \\======/\n",
      " \n"
     ]
    }
   ],
   "source": [
    "import numpy as np\n",
    "\n",
    "\n",
    "x = np.arange(7, 16)\n",
    "y = np.arange(1, 18, 2)\n",
    "\n",
    "\n",
    "z = np.column_stack((x[::-1], y))\n",
    "\n",
    "\n",
    "for i, j in z:\n",
    "    print(' ' * i + '*' * j)\n",
    "\n",
    "\n",
    "for r in range(3):\n",
    "    print(' ' * 13 + '||')\n",
    "\n",
    "\n",
    "print(' ' * 12 + r'\\======/')\n",
    "print(' ')\n"
   ]
  },
  {
   "cell_type": "code",
   "execution_count": 1,
   "id": "e5cbed1e-28c4-4d68-bb8d-f4946607b974",
   "metadata": {},
   "outputs": [],
   "source": [
    "import turtle\n",
    "\n",
    "# Create a turtle object and screen object\n",
    "t = turtle.Turtle()\n",
    "s = turtle.Screen()\n",
    "s.bgcolor(\"black\")\n",
    "\n",
    "# Configure the turtle object\n",
    "t.width(2)\n",
    "t.speed(15)\n",
    "\n",
    "# Define the colors to use\n",
    "col = (\"white\", \"pink\", \"cyan\")\n",
    "\n",
    "# Draw the pattern\n",
    "for i in range(300):\n",
    "    t.pencolor(col[i % 3])\n",
    "    t.forward(i * 4)\n",
    "    t.right(121)\n",
    "\n",
    "# Keep the window open until it is closed by the user\n",
    "turtle.done()\n"
   ]
  },
  {
   "cell_type": "code",
   "execution_count": 2,
   "id": "795df182-9957-49f2-a08c-ef565a02174d",
   "metadata": {},
   "outputs": [
    {
     "name": "stdout",
     "output_type": "stream",
     "text": [
      "\n",
      "Here is a list of the Python keywords.  Enter any keyword to get more help.\n",
      "\n",
      "False               class               from                or\n",
      "None                continue            global              pass\n",
      "True                def                 if                  raise\n",
      "and                 del                 import              return\n",
      "as                  elif                in                  try\n",
      "assert              else                is                  while\n",
      "async               except              lambda              with\n",
      "await               finally             nonlocal            yield\n",
      "break               for                 not                 \n",
      "\n"
     ]
    }
   ],
   "source": [
    "help(\"keywords\")"
   ]
  },
  {
   "cell_type": "code",
   "execution_count": 3,
   "id": "9de3b647-025b-45b5-9912-fb020a711c25",
   "metadata": {},
   "outputs": [
    {
     "name": "stdout",
     "output_type": "stream",
     "text": [
      "['False', 'None', 'True', 'and', 'as', 'assert', 'async', 'await', 'break', 'class', 'continue', 'def', 'del', 'elif', 'else', 'except', 'finally', 'for', 'from', 'global', 'if', 'import', 'in', 'is', 'lambda', 'nonlocal', 'not', 'or', 'pass', 'raise', 'return', 'try', 'while', 'with', 'yield']\n",
      "35\n"
     ]
    }
   ],
   "source": [
    "import keyword\n",
    "print(keyword.kwlist)\n",
    "print(len(keyword.kwlist))"
   ]
  },
  {
   "cell_type": "code",
   "execution_count": 4,
   "id": "c7dd7131-6a61-4489-9a60-309827018095",
   "metadata": {},
   "outputs": [
    {
     "name": "stdout",
     "output_type": "stream",
     "text": [
      "The \"global\" statement\n",
      "**********************\n",
      "\n",
      "   global_stmt ::= \"global\" identifier (\",\" identifier)*\n",
      "\n",
      "The \"global\" statement is a declaration which holds for the entire\n",
      "current code block.  It means that the listed identifiers are to be\n",
      "interpreted as globals.  It would be impossible to assign to a global\n",
      "variable without \"global\", although free variables may refer to\n",
      "globals without being declared global.\n",
      "\n",
      "Names listed in a \"global\" statement must not be used in the same code\n",
      "block textually preceding that \"global\" statement.\n",
      "\n",
      "Names listed in a \"global\" statement must not be defined as formal\n",
      "parameters, or as targets in \"with\" statements or \"except\" clauses, or\n",
      "in a \"for\" target list, \"class\" definition, function definition,\n",
      "\"import\" statement, or variable annotation.\n",
      "\n",
      "**CPython implementation detail:** The current implementation does not\n",
      "enforce some of these restrictions, but programs should not abuse this\n",
      "freedom, as future implementations may enforce them or silently change\n",
      "the meaning of the program.\n",
      "\n",
      "**Programmer’s note:** \"global\" is a directive to the parser.  It\n",
      "applies only to code parsed at the same time as the \"global\"\n",
      "statement. In particular, a \"global\" statement contained in a string\n",
      "or code object supplied to the built-in \"exec()\" function does not\n",
      "affect the code block *containing* the function call, and code\n",
      "contained in such a string is unaffected by \"global\" statements in the\n",
      "code containing the function call.  The same applies to the \"eval()\"\n",
      "and \"compile()\" functions.\n",
      "\n",
      "Related help topics: nonlocal, NAMESPACES\n",
      "\n"
     ]
    }
   ],
   "source": [
    "help(\"global\")"
   ]
  },
  {
   "cell_type": "code",
   "execution_count": 6,
   "id": "2da5ffea-3328-4de0-93cb-39762a4cb8e6",
   "metadata": {},
   "outputs": [
    {
     "data": {
      "text/plain": [
       "140737003800088"
      ]
     },
     "execution_count": 6,
     "metadata": {},
     "output_type": "execute_result"
    }
   ],
   "source": [
    "x=100\n",
    "id(x)\n",
    "\n"
   ]
  },
  {
   "cell_type": "code",
   "execution_count": 7,
   "id": "b064f0e5-fd20-4364-9eda-04a46b3efdaf",
   "metadata": {},
   "outputs": [
    {
     "data": {
      "text/plain": [
       "1638523763664"
      ]
     },
     "execution_count": 7,
     "metadata": {},
     "output_type": "execute_result"
    }
   ],
   "source": [
    "greet=\"Hello\"\n",
    "id(greet)"
   ]
  },
  {
   "cell_type": "code",
   "execution_count": 8,
   "id": "4746ff0d-7ccb-4213-a33f-30de87c25b04",
   "metadata": {},
   "outputs": [],
   "source": [
    "import pandas as pd"
   ]
  },
  {
   "cell_type": "code",
   "execution_count": 9,
   "id": "30cc2baf-208b-479f-a0bc-6e744b51928b",
   "metadata": {},
   "outputs": [
    {
     "data": {
      "text/html": [
       "<div>\n",
       "<style scoped>\n",
       "    .dataframe tbody tr th:only-of-type {\n",
       "        vertical-align: middle;\n",
       "    }\n",
       "\n",
       "    .dataframe tbody tr th {\n",
       "        vertical-align: top;\n",
       "    }\n",
       "\n",
       "    .dataframe thead th {\n",
       "        text-align: right;\n",
       "    }\n",
       "</style>\n",
       "<table border=\"1\" class=\"dataframe\">\n",
       "  <thead>\n",
       "    <tr style=\"text-align: right;\">\n",
       "      <th></th>\n",
       "      <th>provider</th>\n",
       "      <th>WARNING_UPGRADE_TO_V6</th>\n",
       "      <th>terms</th>\n",
       "      <th>base</th>\n",
       "      <th>date</th>\n",
       "      <th>time_last_updated</th>\n",
       "      <th>rates</th>\n",
       "    </tr>\n",
       "  </thead>\n",
       "  <tbody>\n",
       "    <tr>\n",
       "      <th>AED</th>\n",
       "      <td>https://www.exchangerate-api.com</td>\n",
       "      <td>https://www.exchangerate-api.com/docs/free</td>\n",
       "      <td>https://www.exchangerate-api.com/terms</td>\n",
       "      <td>INR</td>\n",
       "      <td>2024-06-20</td>\n",
       "      <td>1718841601</td>\n",
       "      <td>0.0440</td>\n",
       "    </tr>\n",
       "    <tr>\n",
       "      <th>AFN</th>\n",
       "      <td>https://www.exchangerate-api.com</td>\n",
       "      <td>https://www.exchangerate-api.com/docs/free</td>\n",
       "      <td>https://www.exchangerate-api.com/terms</td>\n",
       "      <td>INR</td>\n",
       "      <td>2024-06-20</td>\n",
       "      <td>1718841601</td>\n",
       "      <td>0.8480</td>\n",
       "    </tr>\n",
       "    <tr>\n",
       "      <th>ALL</th>\n",
       "      <td>https://www.exchangerate-api.com</td>\n",
       "      <td>https://www.exchangerate-api.com/docs/free</td>\n",
       "      <td>https://www.exchangerate-api.com/terms</td>\n",
       "      <td>INR</td>\n",
       "      <td>2024-06-20</td>\n",
       "      <td>1718841601</td>\n",
       "      <td>1.1200</td>\n",
       "    </tr>\n",
       "    <tr>\n",
       "      <th>AMD</th>\n",
       "      <td>https://www.exchangerate-api.com</td>\n",
       "      <td>https://www.exchangerate-api.com/docs/free</td>\n",
       "      <td>https://www.exchangerate-api.com/terms</td>\n",
       "      <td>INR</td>\n",
       "      <td>2024-06-20</td>\n",
       "      <td>1718841601</td>\n",
       "      <td>4.6600</td>\n",
       "    </tr>\n",
       "    <tr>\n",
       "      <th>ANG</th>\n",
       "      <td>https://www.exchangerate-api.com</td>\n",
       "      <td>https://www.exchangerate-api.com/docs/free</td>\n",
       "      <td>https://www.exchangerate-api.com/terms</td>\n",
       "      <td>INR</td>\n",
       "      <td>2024-06-20</td>\n",
       "      <td>1718841601</td>\n",
       "      <td>0.0215</td>\n",
       "    </tr>\n",
       "    <tr>\n",
       "      <th>...</th>\n",
       "      <td>...</td>\n",
       "      <td>...</td>\n",
       "      <td>...</td>\n",
       "      <td>...</td>\n",
       "      <td>...</td>\n",
       "      <td>...</td>\n",
       "      <td>...</td>\n",
       "    </tr>\n",
       "    <tr>\n",
       "      <th>XPF</th>\n",
       "      <td>https://www.exchangerate-api.com</td>\n",
       "      <td>https://www.exchangerate-api.com/docs/free</td>\n",
       "      <td>https://www.exchangerate-api.com/terms</td>\n",
       "      <td>INR</td>\n",
       "      <td>2024-06-20</td>\n",
       "      <td>1718841601</td>\n",
       "      <td>1.3300</td>\n",
       "    </tr>\n",
       "    <tr>\n",
       "      <th>YER</th>\n",
       "      <td>https://www.exchangerate-api.com</td>\n",
       "      <td>https://www.exchangerate-api.com/docs/free</td>\n",
       "      <td>https://www.exchangerate-api.com/terms</td>\n",
       "      <td>INR</td>\n",
       "      <td>2024-06-20</td>\n",
       "      <td>1718841601</td>\n",
       "      <td>3.0000</td>\n",
       "    </tr>\n",
       "    <tr>\n",
       "      <th>ZAR</th>\n",
       "      <td>https://www.exchangerate-api.com</td>\n",
       "      <td>https://www.exchangerate-api.com/docs/free</td>\n",
       "      <td>https://www.exchangerate-api.com/terms</td>\n",
       "      <td>INR</td>\n",
       "      <td>2024-06-20</td>\n",
       "      <td>1718841601</td>\n",
       "      <td>0.2160</td>\n",
       "    </tr>\n",
       "    <tr>\n",
       "      <th>ZMW</th>\n",
       "      <td>https://www.exchangerate-api.com</td>\n",
       "      <td>https://www.exchangerate-api.com/docs/free</td>\n",
       "      <td>https://www.exchangerate-api.com/terms</td>\n",
       "      <td>INR</td>\n",
       "      <td>2024-06-20</td>\n",
       "      <td>1718841601</td>\n",
       "      <td>0.3080</td>\n",
       "    </tr>\n",
       "    <tr>\n",
       "      <th>ZWL</th>\n",
       "      <td>https://www.exchangerate-api.com</td>\n",
       "      <td>https://www.exchangerate-api.com/docs/free</td>\n",
       "      <td>https://www.exchangerate-api.com/terms</td>\n",
       "      <td>INR</td>\n",
       "      <td>2024-06-20</td>\n",
       "      <td>1718841601</td>\n",
       "      <td>0.1620</td>\n",
       "    </tr>\n",
       "  </tbody>\n",
       "</table>\n",
       "<p>162 rows × 7 columns</p>\n",
       "</div>"
      ],
      "text/plain": [
       "                             provider  \\\n",
       "AED  https://www.exchangerate-api.com   \n",
       "AFN  https://www.exchangerate-api.com   \n",
       "ALL  https://www.exchangerate-api.com   \n",
       "AMD  https://www.exchangerate-api.com   \n",
       "ANG  https://www.exchangerate-api.com   \n",
       "..                                ...   \n",
       "XPF  https://www.exchangerate-api.com   \n",
       "YER  https://www.exchangerate-api.com   \n",
       "ZAR  https://www.exchangerate-api.com   \n",
       "ZMW  https://www.exchangerate-api.com   \n",
       "ZWL  https://www.exchangerate-api.com   \n",
       "\n",
       "                          WARNING_UPGRADE_TO_V6  \\\n",
       "AED  https://www.exchangerate-api.com/docs/free   \n",
       "AFN  https://www.exchangerate-api.com/docs/free   \n",
       "ALL  https://www.exchangerate-api.com/docs/free   \n",
       "AMD  https://www.exchangerate-api.com/docs/free   \n",
       "ANG  https://www.exchangerate-api.com/docs/free   \n",
       "..                                          ...   \n",
       "XPF  https://www.exchangerate-api.com/docs/free   \n",
       "YER  https://www.exchangerate-api.com/docs/free   \n",
       "ZAR  https://www.exchangerate-api.com/docs/free   \n",
       "ZMW  https://www.exchangerate-api.com/docs/free   \n",
       "ZWL  https://www.exchangerate-api.com/docs/free   \n",
       "\n",
       "                                      terms base       date  \\\n",
       "AED  https://www.exchangerate-api.com/terms  INR 2024-06-20   \n",
       "AFN  https://www.exchangerate-api.com/terms  INR 2024-06-20   \n",
       "ALL  https://www.exchangerate-api.com/terms  INR 2024-06-20   \n",
       "AMD  https://www.exchangerate-api.com/terms  INR 2024-06-20   \n",
       "ANG  https://www.exchangerate-api.com/terms  INR 2024-06-20   \n",
       "..                                      ...  ...        ...   \n",
       "XPF  https://www.exchangerate-api.com/terms  INR 2024-06-20   \n",
       "YER  https://www.exchangerate-api.com/terms  INR 2024-06-20   \n",
       "ZAR  https://www.exchangerate-api.com/terms  INR 2024-06-20   \n",
       "ZMW  https://www.exchangerate-api.com/terms  INR 2024-06-20   \n",
       "ZWL  https://www.exchangerate-api.com/terms  INR 2024-06-20   \n",
       "\n",
       "     time_last_updated   rates  \n",
       "AED         1718841601  0.0440  \n",
       "AFN         1718841601  0.8480  \n",
       "ALL         1718841601  1.1200  \n",
       "AMD         1718841601  4.6600  \n",
       "ANG         1718841601  0.0215  \n",
       "..                 ...     ...  \n",
       "XPF         1718841601  1.3300  \n",
       "YER         1718841601  3.0000  \n",
       "ZAR         1718841601  0.2160  \n",
       "ZMW         1718841601  0.3080  \n",
       "ZWL         1718841601  0.1620  \n",
       "\n",
       "[162 rows x 7 columns]"
      ]
     },
     "execution_count": 9,
     "metadata": {},
     "output_type": "execute_result"
    }
   ],
   "source": [
    "pd.read_json('https://api.exchangerate-api.com/v4/latest/INR')"
   ]
  },
  {
   "cell_type": "code",
   "execution_count": 1,
   "id": "4d7eb95c-1a5e-46e4-bc9f-10114bb1a504",
   "metadata": {},
   "outputs": [
    {
     "name": "stdout",
     "output_type": "stream",
     "text": [
      "10 10000\n",
      "9 9090.90909090909\n",
      "8 8264.462809917353\n",
      "7 7513.148009015775\n",
      "6 6830.134553650703\n",
      "5 6209.213230591548\n",
      "4 5644.739300537771\n",
      "3 5131.5811823070635\n",
      "2 4665.07380209733\n",
      "1 4240.976183724845\n"
     ]
    }
   ],
   "source": [
    "curr_pop=10000\n",
    "\n",
    "for i in range(10,0,-1):\n",
    "    print(i,curr_pop)\n",
    "    curr_pop=curr_pop/1.1\n"
   ]
  },
  {
   "cell_type": "code",
   "execution_count": 3,
   "id": "ded3de8b-97cf-48c4-8f13-e9f1ba771ef0",
   "metadata": {},
   "outputs": [
    {
     "name": "stdout",
     "output_type": "stream",
     "text": [
      "[1, 2, 3, 4, 5, 6, 7, 8, 9]\n"
     ]
    }
   ],
   "source": [
    "import pandas as pd \n"
   ]
  },
  {
   "cell_type": "code",
   "execution_count": 4,
   "id": "5b4a2463-8333-436f-ae5f-a38ad6b5ef20",
   "metadata": {},
   "outputs": [
    {
     "name": "stdout",
     "output_type": "stream",
     "text": [
      "[1, 2, 3, 4, 5, 6, 7, 8, 9]\n"
     ]
    }
   ],
   "source": [
    "matrix = [\n",
    "    [1, 2, 3],\n",
    "    [4, 5, 6],\n",
    "    [7, 8, 9]\n",
    "]\n",
    "\n",
    "flattened_matrix = [element for sublist in matrix for element in sublist]\n",
    "\n",
    "print(flattened_matrix)"
   ]
  },
  {
   "cell_type": "code",
   "execution_count": 6,
   "id": "4d8cc8f3-0e22-431d-8b08-ba5176d74b96",
   "metadata": {},
   "outputs": [
    {
     "name": "stdout",
     "output_type": "stream",
     "text": [
      "[1, 2, 3, 4, 5, 6, 7, 8, 9]\n"
     ]
    }
   ],
   "source": [
    "import numpy as np\n",
    "\n",
    "\n",
    "matrix = [\n",
    "    [1, 2, 3],  \n",
    "    [4, 5, 6],  \n",
    "    [7, 8, 9]   \n",
    "]\n",
    "\n",
    "\n",
    "np_matrix = np.array(matrix)\n",
    "\n",
    "\n",
    "flattened_matrix = np_matrix.flatten()\n",
    "\n",
    "\n",
    "flattened_matrix = flattened_matrix.tolist()\n",
    "\n",
    "\n",
    "print(flattened_matrix)\n"
   ]
  },
  {
   "cell_type": "code",
   "execution_count": 7,
   "id": "74035ca5-640f-4fcb-b132-072196d392df",
   "metadata": {},
   "outputs": [
    {
     "name": "stdout",
     "output_type": "stream",
     "text": [
      "[1, 2, 3, 4, 5, 6, 7, 8, 9]\n"
     ]
    }
   ],
   "source": [
    "import pandas as pd\n",
    "\n",
    "# Original matrix (nested list)\n",
    "matrix = [\n",
    "    [1, 2, 3],  # First row\n",
    "    [4, 5, 6],  # Second row\n",
    "    [7, 8, 9]   # Third row\n",
    "]\n",
    "\n",
    "# Convert the matrix (nested list) into a pandas DataFrame\n",
    "df = pd.DataFrame(matrix)\n",
    "\n",
    "# Flatten the DataFrame using the values attribute and flatten method\n",
    "flattened_matrix = df.values.flatten()\n",
    "\n",
    "\n",
    "# Print the flattened matrix\n",
    "print(flattened_matrix)\n"
   ]
  },
  {
   "cell_type": "code",
   "execution_count": 13,
   "id": "7c62c8e4-f462-4579-97ce-8d53bf25e6e7",
   "metadata": {},
   "outputs": [
    {
     "data": {
      "text/plain": [
       "list"
      ]
     },
     "execution_count": 13,
     "metadata": {},
     "output_type": "execute_result"
    }
   ],
   "source": [
    "type(flattened_matrix)"
   ]
  },
  {
   "cell_type": "code",
   "execution_count": null,
   "id": "7c078230-e6f1-4b9d-846a-3ff3ab6328ad",
   "metadata": {},
   "outputs": [],
   "source": []
  }
 ],
 "metadata": {
  "kernelspec": {
   "display_name": "Python 3 (ipykernel)",
   "language": "python",
   "name": "python3"
  },
  "language_info": {
   "codemirror_mode": {
    "name": "ipython",
    "version": 3
   },
   "file_extension": ".py",
   "mimetype": "text/x-python",
   "name": "python",
   "nbconvert_exporter": "python",
   "pygments_lexer": "ipython3",
   "version": "3.12.1"
  }
 },
 "nbformat": 4,
 "nbformat_minor": 5
}
