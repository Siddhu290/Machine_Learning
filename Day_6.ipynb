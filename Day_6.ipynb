{
 "cells": [
  {
   "cell_type": "code",
   "execution_count": 73,
   "id": "74e46959-f8ee-4248-9f36-e90914f23b13",
   "metadata": {},
   "outputs": [
    {
     "name": "stdout",
     "output_type": "stream",
     "text": [
      "Automatically created module for IPython interactive environment\n"
     ]
    }
   ],
   "source": [
    "import math\n",
    "print(__doc__)"
   ]
  },
  {
   "cell_type": "code",
   "execution_count": 74,
   "id": "a5e8c6b3-4d95-45b4-a55a-8ef788cacf58",
   "metadata": {},
   "outputs": [],
   "source": [
    "a=5+3"
   ]
  },
  {
   "cell_type": "code",
   "execution_count": 75,
   "id": "e88a39b5-a3a4-4e8f-98ad-b1e6901d3daf",
   "metadata": {},
   "outputs": [
    {
     "name": "stdout",
     "output_type": "stream",
     "text": [
      "int([x]) -> integer\n",
      "int(x, base=10) -> integer\n",
      "\n",
      "Convert a number or string to an integer, or return 0 if no arguments\n",
      "are given.  If x is a number, return x.__int__().  For floating point\n",
      "numbers, this truncates towards zero.\n",
      "\n",
      "If x is not a number or if base is given, then x must be a string,\n",
      "bytes, or bytearray instance representing an integer literal in the\n",
      "given base.  The literal can be preceded by '+' or '-' and be surrounded\n",
      "by whitespace.  The base defaults to 10.  Valid bases are 0 and 2-36.\n",
      "Base 0 means to interpret the base from the string as an integer literal.\n",
      ">>> int('0b100', base=0)\n",
      "4\n"
     ]
    }
   ],
   "source": [
    "print(a.__doc__)"
   ]
  },
  {
   "cell_type": "code",
   "execution_count": 76,
   "id": "74042fd6-e1c0-42e6-8d54-bf9c4b075819",
   "metadata": {},
   "outputs": [
    {
     "data": {
      "text/plain": [
       "12"
      ]
     },
     "execution_count": 76,
     "metadata": {},
     "output_type": "execute_result"
    }
   ],
   "source": [
    "\n",
    "def add (a,b):\n",
    "    return a+b\n",
    "add(5,7)"
   ]
  },
  {
   "cell_type": "code",
   "execution_count": 77,
   "id": "44feda08-65bd-464f-ba40-a2695643dc04",
   "metadata": {},
   "outputs": [
    {
     "name": "stdout",
     "output_type": "stream",
     "text": [
      "None\n"
     ]
    }
   ],
   "source": [
    "print(add.__doc__)"
   ]
  },
  {
   "cell_type": "markdown",
   "id": "cf443cec-aa2e-4551-87ba-e77cf054011f",
   "metadata": {},
   "source": [
    "## Type Conversion in python"
   ]
  },
  {
   "cell_type": "code",
   "execution_count": 78,
   "id": "bc04338e-5490-4490-8ac3-8c1e80e37319",
   "metadata": {},
   "outputs": [
    {
     "name": "stdout",
     "output_type": "stream",
     "text": [
      "123\n",
      "<class 'int'>\n",
      "45\n",
      "<class 'int'>\n",
      "8.0\n",
      "<class 'float'>\n",
      "8\n",
      "<class 'str'>\n",
      "(1, 2, 3)\n",
      "<class 'tuple'>\n",
      "[4, 5, 6]\n",
      "<class 'list'>\n"
     ]
    }
   ],
   "source": [
    "\n",
    "a = \"123\"        \n",
    "b = 45.67        \n",
    "c = 8            \n",
    "\n",
    "a_int = int(a)\n",
    "print(a_int)    \n",
    "print(type(a_int))  \n",
    "\n",
    "\n",
    "b_int = int(b)\n",
    "print(b_int)     \n",
    "print(type(b_int))  \n",
    "\n",
    "c_float = float(c)\n",
    "print(c_float)   \n",
    "print(type(c_float))  \n",
    "\n",
    "\n",
    "c_str = str(c)\n",
    "print(c_str)    \n",
    "print(type(c_str))  \n",
    "\n",
    "\n",
    "list_val = [1, 2, 3]\n",
    "tuple_val = tuple(list_val)\n",
    "print(tuple_val)   \n",
    "print(type(tuple_val))  \n",
    "\n",
    "\n",
    "tuple_val = (4, 5, 6)\n",
    "list_val = list(tuple_val)\n",
    "print(list_val)    \n",
    "print(type(list_val))  \n",
    "\n"
   ]
  },
  {
   "cell_type": "markdown",
   "id": "f73f5401-4bba-41f4-b8c3-a8dc2c55c472",
   "metadata": {},
   "source": [
    "## Conditional Statement"
   ]
  },
  {
   "cell_type": "code",
   "execution_count": 93,
   "id": "6d19efcc-aec2-42c2-ac91-bc6f12b25e1d",
   "metadata": {},
   "outputs": [
    {
     "name": "stdin",
     "output_type": "stream",
     "text": [
      "enter the number :- 3\n"
     ]
    },
    {
     "name": "stdout",
     "output_type": "stream",
     "text": [
      "number is possitive\n",
      "<class 'int'>\n"
     ]
    }
   ],
   "source": [
    "a=eval(input(\"enter the number :-\"))\n",
    "\n",
    "if a>0:\n",
    "      print(\"number is possitive\")\n",
    "    \n",
    "elif a==0:\n",
    "    print(\"number is 0\")\n",
    "\n",
    "else :\n",
    "    print(\"given Number is negative\")\n",
    "\n",
    "print(type(a))"
   ]
  },
  {
   "cell_type": "markdown",
   "id": "e4aa0cd0-8fee-4c9d-88f2-5ed9759ab643",
   "metadata": {},
   "source": [
    "## base on the percentage of marks (user inpute ) calculate the grade"
   ]
  },
  {
   "cell_type": "code",
   "execution_count": null,
   "id": "679dabe4-36cf-4499-9ff1-9cbf167f6860",
   "metadata": {},
   "outputs": [],
   "source": [
    "a=int(input(\"enter the marks\"))\n",
    "\n",
    "while True:\n",
    "    \n",
    "\n",
    "    if a>=75:\n",
    "        print(\"Distinction\")\n",
    "    elif a>=50:\n",
    "        print(\"second class\")\n",
    "    \n",
    "    elif a>=35:\n",
    "        print(\"student is pass\")\n",
    "    else:\n",
    "        print(\"student is fail\")\n",
    "       \n",
    "    intt=input(\"Do you want to enter marks for another student? (yes/no): \").strip().lower()\n",
    "    if intt !=\"yes\":\n",
    "        break\n",
    "\n",
    "    \n",
    "print(\"exiting the program\")\n",
    "\n",
    "\n",
    "\n"
   ]
  },
  {
   "cell_type": "code",
   "execution_count": null,
   "id": "ec230b15-5187-4771-911c-838de31cee69",
   "metadata": {},
   "outputs": [],
   "source": [
    "def calculate_grocery_totals(grocery_list):\n",
    "    total_quantity = {}\n",
    "    total_cost = {}\n",
    "    total_grocery_cost = 0.0\n",
    "    \n",
    "    for item in grocery_list:\n",
    "        name = item['name']\n",
    "        quantity = item['quantity']\n",
    "        price_per_unit = item['price_per_unit']\n",
    "        \n",
    "        \n",
    "        if name in total_quantity:\n",
    "            total_quantity[name] += quantity\n",
    "        else:\n",
    "            total_quantity[name] = quantity\n",
    "        \n",
    "       \n",
    "        item_cost = quantity * price_per_unit\n",
    "        if name in total_cost:\n",
    "            total_cost[name] += item_cost\n",
    "        else:\n",
    "            total_cost[name] = item_cost\n",
    "        \n",
    "        \n",
    "        total_grocery_cost += item_cost\n",
    "    \n",
    "    \n",
    "    print(\"Total quantity of each item:\")\n",
    "    for name, quantity in total_quantity.items():\n",
    "        print(f\"{name}: {quantity}\")\n",
    "    \n",
    "    print(\"\\nTotal cost of each item:\")\n",
    "    for name, cost in total_cost.items():\n",
    "        print(f\"{name}: ${cost:.2f}\")\n",
    "    \n",
    "    print(\"\\nTotal cost of entire grocery list:\", f\"${total_grocery_cost:.2f}\")\n",
    "\n",
    "def main():\n",
    "    \n",
    "    grocery_list = [\n",
    "        {'name': 'Apple', 'quantity': 5, 'price_per_unit': 1.20},\n",
    "        {'name': 'Banana', 'quantity': 3, 'price_per_unit': 0.80},\n",
    "        {'name': 'Milk', 'quantity': 2, 'price_per_unit': 2.50},\n",
    "        {'name': 'Bread', 'quantity': 1, 'price_per_unit': 3.00},\n",
    "        {'name': 'Eggs', 'quantity': 12, 'price_per_unit': 0.20}\n",
    "    ]\n",
    "    \n",
    "    \n",
    "    calculate_grocery_totals(grocery_list)\n",
    "\n",
    "if __name__ == \"__main__\":\n",
    "    main()\n"
   ]
  },
  {
   "cell_type": "code",
   "execution_count": null,
   "id": "56619bba-a916-44ed-a5da-e84b97e749d7",
   "metadata": {},
   "outputs": [],
   "source": [
    "a = {}\n",
    "print(type(a))  \n"
   ]
  },
  {
   "cell_type": "code",
   "execution_count": null,
   "id": "f9e801db-f3ae-4a43-99bb-3d4fba946f92",
   "metadata": {},
   "outputs": [],
   "source": [
    "a = {1}\n",
    "print(type(a))  \n"
   ]
  },
  {
   "cell_type": "markdown",
   "id": "8abc1d85-a500-4557-84b0-a2ad59e3977f",
   "metadata": {},
   "source": [
    "import re\n",
    "\n",
    "def validate_password(password):\n",
    "   \n",
    "    if len(password) < 8:\n",
    "        print(\"Password length should be at least 8 characters.\")\n",
    "        return False\n",
    "    \n",
    "    \n",
    "    if not re.search(r'[A-Z]', password):\n",
    "        print(\"Password should contain at least one uppercase letter.\")\n",
    "        return False\n",
    "    \n",
    "    \n",
    "    if not re.search(r'[a-z]', password):\n",
    "        print(\"Password should contain at least one lowercase letter.\")\n",
    "        return False\n",
    "    \n",
    "    \n",
    "    if not re.search(r'\\d', password):\n",
    "        print(\"Password should contain at least one number.\")\n",
    "        return False\n",
    "    \n",
    "    \n",
    "    print(\"Password is valid.\")\n",
    "    return True\n",
    "\n",
    "\n",
    "password = input(\"Enter your password: \")\n",
    "if validate_password(password):\n",
    "    print(\"Password meets all criteria.\")\n",
    "else:\n",
    "    print(\"Please choose a stronger password.\")\n"
   ]
  },
  {
   "cell_type": "markdown",
   "id": "869c1a02-3139-49e1-85ce-0c04811b945a",
   "metadata": {},
   "source": [
    "## File Handling"
   ]
  },
  {
   "cell_type": "code",
   "execution_count": null,
   "id": "72bf3ba3-805e-4f29-9ebb-d9c6c755853c",
   "metadata": {},
   "outputs": [],
   "source": [
    "file=open('prasad.txt','w')\n",
    "file.write(\"File handling in Python involves opening files with specific modes ('r', 'w', 'a', etc.), reading data from files, writing data to files, and closing files to release resources. The with statement simplifies file handling by ensuring that files are automatically closed after use. Proper error handling is crucial when working with files to manage exceptions and ensure robustness in your code.\")\n",
    "file.close()"
   ]
  },
  {
   "cell_type": "code",
   "execution_count": 80,
   "id": "40000b2f-838a-4a73-a8ce-0f7df3e05426",
   "metadata": {},
   "outputs": [
    {
     "data": {
      "text/plain": [
       "\"File handling in Python involves opening files with specific modes ('r', 'w', 'a', etc.), reading data from files, writing data to files, and closing files to release resources. The with statement simplifies file handling by ensuring that files are automatically closed after use. Proper error handling is crucial when working with files to manage exceptions and ensure robustness in your code.\""
      ]
     },
     "execution_count": 80,
     "metadata": {},
     "output_type": "execute_result"
    }
   ],
   "source": [
    "file=open('prasad.txt','r')\n",
    "file.read()\n"
   ]
  },
  {
   "cell_type": "code",
   "execution_count": 84,
   "id": "81e77310-f422-4b54-8dbc-4b388bb25a1e",
   "metadata": {},
   "outputs": [],
   "source": [
    "file=open('prasad.txt','a')\n",
    "file.write(\"prasad_thete\")\n",
    "file.close()"
   ]
  },
  {
   "cell_type": "code",
   "execution_count": 87,
   "id": "c62d65c0-b57b-4580-8167-72f7fb8ab769",
   "metadata": {},
   "outputs": [
    {
     "data": {
      "text/plain": [
       "\"File handling in Python involves opening files with specific modes ('r', 'w', 'a', etc.), reading data from files, writing data to files, and closing files to release resources. The with statement simplifies file handling by ensuring that files are automatically closed after use. Proper error handling is crucial when working with files to manage exceptions and ensure robustness in your code.prasad_thete\""
      ]
     },
     "execution_count": 87,
     "metadata": {},
     "output_type": "execute_result"
    }
   ],
   "source": [
    "file=open('prasad.txt','r')\n",
    "file.read()\n"
   ]
  },
  {
   "cell_type": "code",
   "execution_count": 97,
   "id": "c5eb85fc-b9eb-4726-ac59-17033605bc22",
   "metadata": {},
   "outputs": [
    {
     "name": "stdout",
     "output_type": "stream",
     "text": [
      "120\n"
     ]
    }
   ],
   "source": [
    "def factorial(n):\n",
    "    if n == 0:\n",
    "        return 1  \n",
    "    else:\n",
    "        return n * factorial(n - 1)\n",
    "\n",
    "\n",
    "result = factorial(5)\n",
    "print(result) \n"
   ]
  },
  {
   "cell_type": "code",
   "execution_count": 108,
   "id": "54116f5e-f844-4218-ac4c-3419a8abef71",
   "metadata": {},
   "outputs": [
    {
     "name": "stdout",
     "output_type": "stream",
     "text": [
      "Number of lowercase characters in the string: 18\n"
     ]
    }
   ],
   "source": [
    "a = \"gedhshjxwbdsxjkwna\"\n",
    "count_lower = sum(1 for char in a if char.islower())\n",
    "\n",
    "print(f\"Number of lowercase characters in the string: {count_lower}\")\n"
   ]
  },
  {
   "cell_type": "code",
   "execution_count": 110,
   "id": "d2a8795f-5b0c-44fe-9793-819ec8110e5e",
   "metadata": {},
   "outputs": [
    {
     "name": "stdin",
     "output_type": "stream",
     "text": [
      "enter the string : prasad\n"
     ]
    },
    {
     "name": "stdout",
     "output_type": "stream",
     "text": [
      "lower character is 6\n"
     ]
    }
   ],
   "source": [
    "string=input(\"enter the string :\")\n",
    "count=0\n",
    "for i in string:\n",
    "    if (i.islower()):\n",
    "        count=count+1\n",
    "print(f\"lower character is {count}\")"
   ]
  },
  {
   "cell_type": "code",
   "execution_count": null,
   "id": "818328d1-2500-4cb9-b9df-60ad5cbb1e18",
   "metadata": {},
   "outputs": [],
   "source": []
  }
 ],
 "metadata": {
  "kernelspec": {
   "display_name": "Python 3 (ipykernel)",
   "language": "python",
   "name": "python3"
  },
  "language_info": {
   "codemirror_mode": {
    "name": "ipython",
    "version": 3
   },
   "file_extension": ".py",
   "mimetype": "text/x-python",
   "name": "python",
   "nbconvert_exporter": "python",
   "pygments_lexer": "ipython3",
   "version": "3.12.1"
  }
 },
 "nbformat": 4,
 "nbformat_minor": 5
}
