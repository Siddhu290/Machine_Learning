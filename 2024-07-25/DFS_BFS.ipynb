{
  "nbformat": 4,
  "nbformat_minor": 0,
  "metadata": {
    "colab": {
      "provenance": [],
      "authorship_tag": "ABX9TyOF/D3jiXe+yq739wV0uMl7",
      "include_colab_link": true
    },
    "kernelspec": {
      "name": "python3",
      "display_name": "Python 3"
    },
    "language_info": {
      "name": "python"
    }
  },
  "cells": [
    {
      "cell_type": "markdown",
      "metadata": {
        "id": "view-in-github",
        "colab_type": "text"
      },
      "source": [
        "<a href=\"https://colab.research.google.com/github/Siddhu290/Machine_Learning/blob/main/2024-07-25/DFS_BFS.ipynb\" target=\"_parent\"><img src=\"https://colab.research.google.com/assets/colab-badge.svg\" alt=\"Open In Colab\"/></a>"
      ]
    },
    {
      "cell_type": "code",
      "execution_count": 2,
      "metadata": {
        "id": "XX2tQxoqpCna"
      },
      "outputs": [],
      "source": [
        "class node:\n",
        "  def __init__(self, val):\n",
        "    self.val = val\n",
        "    self.next = None\n",
        "    self.right = None\n",
        "    self.left = None\n",
        "\n",
        "\n",
        "root = node(1)\n",
        "root.left=node(2)\n",
        "root.right=node(3)\n",
        "root.left.left=node(4)\n",
        "root.left.right=node(5)\n"
      ]
    },
    {
      "cell_type": "code",
      "source": [
        "from collections import deque\n",
        "\n",
        "def BFS(root):\n",
        "  if root is None:\n",
        "    return\n",
        "\n",
        "  queue = deque([root])\n",
        "\n",
        "  while queue:\n",
        "    node = queue.popleft()\n",
        "    print(node.val, end=\" \")\n",
        "\n",
        "    if node.left:\n",
        "      queue.append(node.left)\n",
        "    if node.right:\n",
        "      queue.append(node.right)\n",
        "\n",
        "BFS(root)\n",
        ""
      ],
      "metadata": {
        "colab": {
          "base_uri": "https://localhost:8080/"
        },
        "id": "wmov6ZNhrP_T",
        "outputId": "4e324f99-3cb2-45d9-9f01-5d1351548ac5"
      },
      "execution_count": 3,
      "outputs": [
        {
          "output_type": "stream",
          "name": "stdout",
          "text": [
            "1 2 3 4 5 "
          ]
        }
      ]
    },
    {
      "cell_type": "code",
      "source": [
        "def DFS(root):\n",
        "  if root is None:\n",
        "    return\n",
        "\n",
        "  print(root.val, end=\" \")\n",
        "  DFS(root.left)\n",
        "  DFS(root.right)\n",
        "\n",
        "DFS(root)\n"
      ],
      "metadata": {
        "colab": {
          "base_uri": "https://localhost:8080/"
        },
        "id": "dGBnesW9srzH",
        "outputId": "7afdf418-6f5e-4ce4-b1e7-44795d5ed0f5"
      },
      "execution_count": 4,
      "outputs": [
        {
          "output_type": "stream",
          "name": "stdout",
          "text": [
            "1 2 4 5 3 "
          ]
        }
      ]
    },
    {
      "cell_type": "code",
      "source": [
        "graph = {\n",
        "    'A':['B','C'],\n",
        "    'B':['A','D','E'],\n",
        "    'C':['A','F'],\n",
        "    'D':['B'],\n",
        "    'E':['B','F'],\n",
        "    'F':['C','E']}\n"
      ],
      "metadata": {
        "id": "66dh-OgettqW"
      },
      "execution_count": 5,
      "outputs": []
    },
    {
      "cell_type": "code",
      "source": [
        "def DFS(Graph,start):\n",
        "  visited = set()\n",
        "  stack = [start]\n",
        "  while stack:\n",
        "    node = stack.pop()\n",
        "    if node not in visited:\n",
        "      visited.add(node)\n",
        "      print(node, end= ' ' )\n",
        "      stack.extend(Graph[node])\n",
        "\n",
        "\n",
        "DFS(graph,'A')"
      ],
      "metadata": {
        "colab": {
          "base_uri": "https://localhost:8080/"
        },
        "id": "IeZztcrd1Shh",
        "outputId": "67473a5e-0ac5-4e0d-f98d-caa3d518673a"
      },
      "execution_count": 6,
      "outputs": [
        {
          "output_type": "stream",
          "name": "stdout",
          "text": [
            "A C F E B D "
          ]
        }
      ]
    },
    {
      "cell_type": "code",
      "source": [
        "def BFS(Graph,start):\n",
        "  visited = set()\n",
        "  queue = [start]\n",
        "  while queue:\n",
        "    node = queue.pop(0)\n",
        "    if node not in visited:\n",
        "      visited.add(node)\n",
        "      print(node, end= ' ' )\n",
        "      queue.extend(Graph[node])\n",
        "\n",
        "\n",
        "BFS(graph,'A')"
      ],
      "metadata": {
        "colab": {
          "base_uri": "https://localhost:8080/"
        },
        "id": "AUV-hD_91j-f",
        "outputId": "a9dbf1d1-eb93-4b56-ad58-be09575a1bc0"
      },
      "execution_count": 7,
      "outputs": [
        {
          "output_type": "stream",
          "name": "stdout",
          "text": [
            "A B C D E F "
          ]
        }
      ]
    },
    {
      "cell_type": "code",
      "source": [],
      "metadata": {
        "id": "bFiqHQ8tznP4"
      },
      "execution_count": 6,
      "outputs": []
    }
  ]
}