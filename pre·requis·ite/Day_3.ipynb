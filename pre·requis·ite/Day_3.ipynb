{
 "cells": [
  {
   "cell_type": "markdown",
   "id": "08db45b6-f2f1-4e3b-8e58-a20d0d72c9ea",
   "metadata": {},
   "source": [
    "## demo on probability"
   ]
  },
  {
   "cell_type": "code",
   "execution_count": 40,
   "id": "8734850c-614a-49e2-a3ad-cef363498002",
   "metadata": {},
   "outputs": [
    {
     "name": "stdout",
     "output_type": "stream",
     "text": [
      "{4, 7}\n"
     ]
    }
   ],
   "source": [
    "set1={4,7}\n",
    "print(set1)"
   ]
  },
  {
   "cell_type": "code",
   "execution_count": 41,
   "id": "702444af-94a2-4209-89ab-706582f3e5ac",
   "metadata": {},
   "outputs": [
    {
     "name": "stdout",
     "output_type": "stream",
     "text": [
      "{1, 2, 3, 4, 5, 6}\n"
     ]
    }
   ],
   "source": [
    "my_list=[1,2,3,4,5,6]\n",
    "my_set_from_list=set(my_list)\n",
    "print(my_set_from_list)"
   ]
  },
  {
   "cell_type": "code",
   "execution_count": 42,
   "id": "ccefef9c-7b75-4421-bc58-45267b377d98",
   "metadata": {},
   "outputs": [
    {
     "name": "stdout",
     "output_type": "stream",
     "text": [
      "Here is my set :  {3, 5, 7}\n",
      "3 is in the set:  True\n",
      "1 is in the set:  False\n",
      "6 is NOT in the set: True\n"
     ]
    }
   ],
   "source": [
    "my_set = set([3,5,7])\n",
    "print('Here is my set : ',my_set)\n",
    "print('3 is in the set: ',3 in my_set)\n",
    "print('1 is in the set: ',1 in my_set)\n",
    "print('6 is NOT in the set:',6 not in my_set)"
   ]
  },
  {
   "cell_type": "code",
   "execution_count": 43,
   "id": "19ee6706-7411-4ce9-b841-8dab54bbc6ea",
   "metadata": {},
   "outputs": [
    {
     "name": "stdout",
     "output_type": "stream",
     "text": [
      "A is set of all possible outcomes of a dice: {1, 2, 3, 4, 5, 6}\n",
      "B is set of all possible outcomes of a dice: {1, 2, 3, 4, 5, 6}\n",
      "\n",
      " product of A and B is the all possible combinations A and B thrown together :\n",
      " [(1, 1), (1, 2), (1, 3), (1, 4), (1, 5), (1, 6), (2, 1), (2, 2), (2, 3), (2, 4), (2, 5), (2, 6), (3, 1), (3, 2), (3, 3), (3, 4), (3, 5), (3, 6), (4, 1), (4, 2), (4, 3), (4, 4), (4, 5), (4, 6), (5, 1), (5, 2), (5, 3), (5, 4), (5, 5), (5, 6), (6, 1), (6, 2), (6, 3), (6, 4), (6, 5), (6, 6)]\n"
     ]
    }
   ],
   "source": [
    "from  itertools import product as prod\n",
    "\n",
    "A=set([x for x in range(1,7)])\n",
    "B=set([x for x in range (1,7)])\n",
    "\n",
    "p=list(prod(A,B))\n",
    "\n",
    "print(\"A is set of all possible outcomes of a dice:\",A)\n",
    "print(\"B is set of all possible outcomes of a dice:\",B)\n",
    "print(\"\\n product of A and B is the all possible combinations A and B thrown together :\\n\",p)"
   ]
  },
  {
   "cell_type": "markdown",
   "id": "7090497a-0495-488d-9c36-84167fe120a5",
   "metadata": {},
   "source": []
  },
  {
   "cell_type": "code",
   "execution_count": 44,
   "id": "40bf2287-b674-4de3-bb79-42cc11389550",
   "metadata": {},
   "outputs": [],
   "source": [
    "import sympy as smp\n",
    "from sympy import *"
   ]
  },
  {
   "cell_type": "code",
   "execution_count": 45,
   "id": "1154e138-361f-4f13-bacf-3db71b3d1fce",
   "metadata": {},
   "outputs": [],
   "source": [
    "x,y=smp.symbols('x,y')"
   ]
  },
  {
   "cell_type": "code",
   "execution_count": 46,
   "id": "fcd3409c-0ad6-42ae-a78e-4bac45cf5488",
   "metadata": {},
   "outputs": [
    {
     "data": {
      "text/latex": [
       "$\\displaystyle x^{2}$"
      ],
      "text/plain": [
       "x**2"
      ]
     },
     "execution_count": 46,
     "metadata": {},
     "output_type": "execute_result"
    }
   ],
   "source": [
    "x**2"
   ]
  },
  {
   "cell_type": "code",
   "execution_count": 47,
   "id": "b65f3e0c-db3e-4332-9496-4de890aaafa9",
   "metadata": {},
   "outputs": [],
   "source": [
    "f=x**2+y"
   ]
  },
  {
   "cell_type": "code",
   "execution_count": 48,
   "id": "b8935e09-6c4b-47a8-bc8c-647f8773234e",
   "metadata": {},
   "outputs": [
    {
     "data": {
      "text/latex": [
       "$\\displaystyle x^{2} + y$"
      ],
      "text/plain": [
       "x**2 + y"
      ]
     },
     "execution_count": 48,
     "metadata": {},
     "output_type": "execute_result"
    }
   ],
   "source": [
    "f"
   ]
  },
  {
   "cell_type": "code",
   "execution_count": 49,
   "id": "87dab9d8-5185-4e01-a5b6-6cc94b9bc8f0",
   "metadata": {},
   "outputs": [
    {
     "data": {
      "text/latex": [
       "$\\displaystyle y + 16$"
      ],
      "text/plain": [
       "y + 16"
      ]
     },
     "execution_count": 49,
     "metadata": {},
     "output_type": "execute_result"
    }
   ],
   "source": [
    "f.subs(x,4)"
   ]
  },
  {
   "cell_type": "code",
   "execution_count": 50,
   "id": "a465a5e7-24c5-4d52-aca9-d226d9a3f351",
   "metadata": {},
   "outputs": [
    {
     "data": {
      "text/latex": [
       "$\\displaystyle \\sin{\\left(x \\right)}$"
      ],
      "text/plain": [
       "sin(x)"
      ]
     },
     "execution_count": 50,
     "metadata": {},
     "output_type": "execute_result"
    }
   ],
   "source": [
    "smp.sin(x)"
   ]
  },
  {
   "cell_type": "code",
   "execution_count": 51,
   "id": "5e26ec0e-f700-4375-bd77-f34bda5029bb",
   "metadata": {},
   "outputs": [
    {
     "data": {
      "text/latex": [
       "$\\displaystyle \\operatorname{asin}{\\left(x \\right)}$"
      ],
      "text/plain": [
       "asin(x)"
      ]
     },
     "execution_count": 51,
     "metadata": {},
     "output_type": "execute_result"
    }
   ],
   "source": [
    "smp.asin(x)"
   ]
  },
  {
   "cell_type": "code",
   "execution_count": 52,
   "id": "602339d2-7274-447e-aade-0250b70fb55f",
   "metadata": {},
   "outputs": [
    {
     "data": {
      "text/latex": [
       "$\\displaystyle \\sec{\\left(x \\right)}$"
      ],
      "text/plain": [
       "sec(x)"
      ]
     },
     "execution_count": 52,
     "metadata": {},
     "output_type": "execute_result"
    }
   ],
   "source": [
    "smp.sec(x)"
   ]
  },
  {
   "cell_type": "code",
   "execution_count": 53,
   "id": "b5e0bbc1-48e1-412c-8caa-fc60706e87a8",
   "metadata": {},
   "outputs": [
    {
     "data": {
      "text/latex": [
       "$\\displaystyle e^{x}$"
      ],
      "text/plain": [
       "exp(x)"
      ]
     },
     "execution_count": 53,
     "metadata": {},
     "output_type": "execute_result"
    }
   ],
   "source": [
    "smp.exp(x)"
   ]
  },
  {
   "cell_type": "code",
   "execution_count": 54,
   "id": "b8ffca01-b1cb-40de-88b2-8ec660424574",
   "metadata": {},
   "outputs": [
    {
     "data": {
      "text/latex": [
       "$\\displaystyle \\log{\\left(x \\right)}$"
      ],
      "text/plain": [
       "log(x)"
      ]
     },
     "execution_count": 54,
     "metadata": {},
     "output_type": "execute_result"
    }
   ],
   "source": [
    "smp.log(x)"
   ]
  },
  {
   "cell_type": "code",
   "execution_count": 55,
   "id": "62f53766-cbdc-49b5-a7be-39ace8c8e70c",
   "metadata": {},
   "outputs": [
    {
     "data": {
      "text/latex": [
       "$\\displaystyle \\frac{\\log{\\left(x \\right)}}{\\log{\\left(10 \\right)}}$"
      ],
      "text/plain": [
       "log(x)/log(10)"
      ]
     },
     "execution_count": 55,
     "metadata": {},
     "output_type": "execute_result"
    }
   ],
   "source": [
    "smp.log(x,10)"
   ]
  },
  {
   "cell_type": "code",
   "execution_count": 56,
   "id": "44fb86ac-0ad8-4975-b57d-8ac3059fd3a0",
   "metadata": {},
   "outputs": [
    {
     "data": {
      "text/latex": [
       "$\\displaystyle x^{1.5}$"
      ],
      "text/plain": [
       "x**1.5"
      ]
     },
     "execution_count": 56,
     "metadata": {},
     "output_type": "execute_result"
    }
   ],
   "source": [
    "x**(3/2)"
   ]
  },
  {
   "cell_type": "code",
   "execution_count": 57,
   "id": "8b9b6928-86f2-425b-aca1-afe92bc5ee7a",
   "metadata": {},
   "outputs": [
    {
     "data": {
      "text/latex": [
       "$\\displaystyle x^{\\frac{3}{2}}$"
      ],
      "text/plain": [
       "x**(3/2)"
      ]
     },
     "execution_count": 57,
     "metadata": {},
     "output_type": "execute_result"
    }
   ],
   "source": [
    "x**(smp.Rational(3,2))"
   ]
  },
  {
   "cell_type": "markdown",
   "id": "311b0240-ab15-4894-8c1d-52c50b0306ea",
   "metadata": {},
   "source": [
    "$$'(a)=\\lim_{x\\to a}\\frac{f(x)-f(a)}{x-a}$$"
   ]
  },
  {
   "cell_type": "markdown",
   "id": "fe1c20be-93ea-4d5a-ae8a-fab1e122583b",
   "metadata": {},
   "source": [
    "Python Operator| Discription |\n",
    ":-------:|:------:|\n",
    "|'+'|addition|\n",
    "|'-'|substraction|\n",
    "|'*\"|multiplication|\n",
    "|"
   ]
  },
  {
   "cell_type": "markdown",
   "id": "1493d6b4-a341-436a-b968-67a2cd045d14",
   "metadata": {},
   "source": [
    "## Derivatives"
   ]
  },
  {
   "cell_type": "code",
   "execution_count": 58,
   "id": "7101f3fa-d3c9-470b-8fc4-8fe1941dd53f",
   "metadata": {},
   "outputs": [
    {
     "data": {
      "text/latex": [
       "$\\displaystyle \\frac{2 \\left(\\sin{\\left(x \\right)} + 1\\right) \\cos{\\left(x \\right)}}{\\left(1 - \\cos{\\left(x \\right)}\\right)^{2}} - \\frac{2 \\left(\\sin{\\left(x \\right)} + 1\\right)^{2} \\sin{\\left(x \\right)}}{\\left(1 - \\cos{\\left(x \\right)}\\right)^{3}}$"
      ],
      "text/plain": [
       "2*(sin(x) + 1)*cos(x)/(1 - cos(x))**2 - 2*(sin(x) + 1)**2*sin(x)/(1 - cos(x))**3"
      ]
     },
     "execution_count": 58,
     "metadata": {},
     "output_type": "execute_result"
    }
   ],
   "source": [
    "smp.diff(((1+smp.sin(x))/(1-smp.cos(x)))**2,x)"
   ]
  },
  {
   "cell_type": "code",
   "execution_count": 59,
   "id": "48b5b375-cf86-42d3-b54c-b3abdc127e29",
   "metadata": {},
   "outputs": [
    {
     "data": {
      "text/latex": [
       "$\\displaystyle \\frac{\\left(\\sin{\\left(x \\right)} + 1\\right)^{2}}{\\left(1 - \\cos{\\left(x \\right)}\\right)^{2}}$"
      ],
      "text/plain": [
       "(sin(x) + 1)**2/(1 - cos(x))**2"
      ]
     },
     "execution_count": 59,
     "metadata": {},
     "output_type": "execute_result"
    }
   ],
   "source": [
    "((1+smp.sin(x))/(1-smp.cos(x)))**2"
   ]
  },
  {
   "cell_type": "code",
   "execution_count": 60,
   "id": "e39cba9e-b566-4e22-9643-2a89a74b4d0e",
   "metadata": {},
   "outputs": [],
   "source": [
    "f,g=smp.symbols('f g',cls=smp.Function)\n",
    "g=g(x)\n",
    "f=f(x+g)"
   ]
  },
  {
   "cell_type": "code",
   "execution_count": 61,
   "id": "957155e1-2b55-4873-ba83-43210d1e0caa",
   "metadata": {},
   "outputs": [
    {
     "data": {
      "text/latex": [
       "$\\displaystyle \\left(\\frac{d}{d x} g{\\left(x \\right)} + 1\\right) \\left. \\frac{d}{d \\xi_{1}} f{\\left(\\xi_{1} \\right)} \\right|_{\\substack{ \\xi_{1}=x + g{\\left(x \\right)} }}$"
      ],
      "text/plain": [
       "(Derivative(g(x), x) + 1)*Subs(Derivative(f(_xi_1), _xi_1), _xi_1, x + g(x))"
      ]
     },
     "execution_count": 61,
     "metadata": {},
     "output_type": "execute_result"
    }
   ],
   "source": [
    "smp.diff(f,x)"
   ]
  },
  {
   "cell_type": "code",
   "execution_count": 62,
   "id": "34ff1fd5-7acc-483d-807f-d8c4b1029495",
   "metadata": {},
   "outputs": [
    {
     "data": {
      "text/latex": [
       "$\\displaystyle - \\frac{1}{\\sin{\\left(x \\right)}}$"
      ],
      "text/plain": [
       "-1/sin(x)"
      ]
     },
     "execution_count": 62,
     "metadata": {},
     "output_type": "execute_result"
    }
   ],
   "source": [
    "smp.integrate(smp.csc(x)*smp.cot(x),x)"
   ]
  },
  {
   "cell_type": "code",
   "execution_count": 63,
   "id": "b8076cfe-6f86-46c7-9fe4-67243c41908e",
   "metadata": {},
   "outputs": [
    {
     "data": {
      "text/latex": [
       "$\\displaystyle \\frac{4}{3 \\cos{\\left(3 x \\right)}}$"
      ],
      "text/plain": [
       "4/(3*cos(3*x))"
      ]
     },
     "execution_count": 63,
     "metadata": {},
     "output_type": "execute_result"
    }
   ],
   "source": [
    "smp.integrate(4*smp.sec(3*x)*smp.tan(3*x),x)"
   ]
  },
  {
   "cell_type": "code",
   "execution_count": 64,
   "id": "2b8a3b07-5b35-4373-9cd1-a8eb83a15ebc",
   "metadata": {},
   "outputs": [
    {
     "data": {
      "text/latex": [
       "$\\displaystyle - \\frac{4 x^{\\frac{3}{4}}}{3} + 2 \\operatorname{asin}{\\left(x \\right)}$"
      ],
      "text/plain": [
       "-4*x**(3/4)/3 + 2*asin(x)"
      ]
     },
     "execution_count": 64,
     "metadata": {},
     "output_type": "execute_result"
    }
   ],
   "source": [
    "smp.integrate(2/smp.sqrt(1-x**2)-1/x**smp.Rational(1,4))"
   ]
  },
  {
   "cell_type": "markdown",
   "id": "77491fb2-9116-41f2-8de0-70befa257165",
   "metadata": {},
   "source": [
    "## Initial Value Problems"
   ]
  },
  {
   "cell_type": "code",
   "execution_count": 65,
   "id": "b52a736e-de5e-46f1-a5ff-4f53e7bedd05",
   "metadata": {},
   "outputs": [],
   "source": [
    "integral=smp.integrate(8*x+smp.csc(x)**2,x)"
   ]
  },
  {
   "cell_type": "code",
   "execution_count": 66,
   "id": "9c4f1ae8-b164-4c6b-8c87-0e1b67b77821",
   "metadata": {},
   "outputs": [
    {
     "data": {
      "text/latex": [
       "$\\displaystyle 4 x^{2} - \\frac{\\cos{\\left(x \\right)}}{\\sin{\\left(x \\right)}}$"
      ],
      "text/plain": [
       "4*x**2 - cos(x)/sin(x)"
      ]
     },
     "execution_count": 66,
     "metadata": {},
     "output_type": "execute_result"
    }
   ],
   "source": [
    "integral"
   ]
  },
  {
   "cell_type": "code",
   "execution_count": 67,
   "id": "6a49a633-d75e-4856-88e3-dcf7ff670960",
   "metadata": {},
   "outputs": [
    {
     "data": {
      "text/latex": [
       "$\\displaystyle \\pi^{2}$"
      ],
      "text/plain": [
       "pi**2"
      ]
     },
     "execution_count": 67,
     "metadata": {},
     "output_type": "execute_result"
    }
   ],
   "source": [
    "integral.subs(x,smp.pi/2)"
   ]
  },
  {
   "cell_type": "code",
   "execution_count": 68,
   "id": "03d7a91c-9b86-4171-9c89-2eda117a0059",
   "metadata": {},
   "outputs": [
    {
     "data": {
      "text/latex": [
       "$\\displaystyle \\frac{\\sqrt[3]{\\sqrt{x} + 1}}{\\sqrt{x}}$"
      ],
      "text/plain": [
       "(sqrt(x) + 1)**(1/3)/sqrt(x)"
      ]
     },
     "execution_count": 68,
     "metadata": {},
     "output_type": "execute_result"
    }
   ],
   "source": [
    "(1+smp.sqrt(x))**smp.Rational(1,3)/smp.sqrt(x)"
   ]
  },
  {
   "cell_type": "code",
   "execution_count": 69,
   "id": "d9ebdf1d-4ee1-42c0-814b-fe0a9aa41b74",
   "metadata": {},
   "outputs": [
    {
     "data": {
      "text/latex": [
       "$\\displaystyle \\frac{3 \\sqrt{x} \\sqrt[3]{\\sqrt{x} + 1}}{2} + \\frac{3 \\sqrt[3]{\\sqrt{x} + 1}}{2}$"
      ],
      "text/plain": [
       "3*sqrt(x)*(sqrt(x) + 1)**(1/3)/2 + 3*(sqrt(x) + 1)**(1/3)/2"
      ]
     },
     "execution_count": 69,
     "metadata": {},
     "output_type": "execute_result"
    }
   ],
   "source": [
    "smp.integrate((1+smp.sqrt(x))**smp.Rational(1,3)/smp.sqrt(x),x)"
   ]
  },
  {
   "cell_type": "code",
   "execution_count": 70,
   "id": "14fc1aec-4d26-491b-928a-1dbf58223938",
   "metadata": {},
   "outputs": [
    {
     "data": {
      "text/latex": [
       "$\\displaystyle x \\sqrt[4]{1 - x^{2}}$"
      ],
      "text/plain": [
       "x*(1 - x**2)**(1/4)"
      ]
     },
     "execution_count": 70,
     "metadata": {},
     "output_type": "execute_result"
    }
   ],
   "source": [
    "x*(1-x**2)**smp.Rational(1/4)"
   ]
  },
  {
   "cell_type": "code",
   "execution_count": 71,
   "id": "61dace8f-eae7-47fd-8f02-54219d631ead",
   "metadata": {},
   "outputs": [
    {
     "data": {
      "text/latex": [
       "$\\displaystyle \\frac{2 x^{2} \\sqrt[4]{1 - x^{2}}}{5} - \\frac{2 \\sqrt[4]{1 - x^{2}}}{5}$"
      ],
      "text/plain": [
       "2*x**2*(1 - x**2)**(1/4)/5 - 2*(1 - x**2)**(1/4)/5"
      ]
     },
     "execution_count": 71,
     "metadata": {},
     "output_type": "execute_result"
    }
   ],
   "source": [
    "smp.integrate(x*(1-x**2)**smp.Rational(1/4),x)"
   ]
  },
  {
   "cell_type": "code",
   "execution_count": 72,
   "id": "bcd42c93-e1e9-4120-8d04-a9c9ccdccd08",
   "metadata": {},
   "outputs": [],
   "source": [
    "import numpy as sp"
   ]
  },
  {
   "cell_type": "code",
   "execution_count": 73,
   "id": "19eb4954-246c-4f8c-84b8-26986be39a71",
   "metadata": {},
   "outputs": [
    {
     "data": {
      "text/latex": [
       "$\\displaystyle \\frac{2 x^{2} \\sqrt[4]{1 - x^{2}}}{5} - \\frac{2 \\sqrt[4]{1 - x^{2}}}{5}$"
      ],
      "text/plain": [
       "2*x**2*(1 - x**2)**(1/4)/5 - 2*(1 - x**2)**(1/4)/5"
      ]
     },
     "execution_count": 73,
     "metadata": {},
     "output_type": "execute_result"
    }
   ],
   "source": [
    "smp.integrate(x*(1-x**2)**smp.Rational(1/4),x)"
   ]
  },
  {
   "cell_type": "code",
   "execution_count": 74,
   "id": "4cbfae9c-287f-4744-9f9c-d6ce5836bd21",
   "metadata": {},
   "outputs": [
    {
     "data": {
      "text/latex": [
       "$\\displaystyle \\frac{\\left(2 x - 1\\right) \\cos{\\left(\\sqrt{3 \\left(2 x - 1\\right)^{2} + 6} \\right)}}{\\sqrt{3 \\left(2 x - 1\\right)^{2} + 6}}$"
      ],
      "text/plain": [
       "(2*x - 1)*cos(sqrt(3*(2*x - 1)**2 + 6))/sqrt(3*(2*x - 1)**2 + 6)"
      ]
     },
     "execution_count": 74,
     "metadata": {},
     "output_type": "execute_result"
    }
   ],
   "source": [
    "(2*x-1)*smp.cos(smp.sqrt(3*(2*x-1)**2+6))/smp.sqrt(3*(2*x-1)**2+6)"
   ]
  },
  {
   "cell_type": "code",
   "execution_count": 75,
   "id": "6ad035e4-4b2b-4cba-ac44-c38e26d2dac2",
   "metadata": {},
   "outputs": [
    {
     "data": {
      "text/latex": [
       "$\\displaystyle - \\operatorname{asinh}{\\left(\\frac{1}{3} \\right)} + \\operatorname{asinh}{\\left(\\frac{4}{3} \\right)}$"
      ],
      "text/plain": [
       "-asinh(1/3) + asinh(4/3)"
      ]
     },
     "execution_count": 75,
     "metadata": {},
     "output_type": "execute_result"
    }
   ],
   "source": [
    "smp.integrate(smp.exp(x)/smp.sqrt(smp.exp(2*x)+9),(x,0,smp.log(4)))"
   ]
  },
  {
   "cell_type": "code",
   "execution_count": 76,
   "id": "be6af0c9-4568-4b01-8f2d-f36bc2ba720c",
   "metadata": {},
   "outputs": [],
   "source": [
    "t=smp.symbols('t')"
   ]
  },
  {
   "cell_type": "code",
   "execution_count": 77,
   "id": "9acc22ce-ae1b-49b6-846b-6336fec6ab6c",
   "metadata": {},
   "outputs": [
    {
     "data": {
      "text/latex": [
       "$\\displaystyle \\left(t^{10} - 10 t^{9} + 90 t^{8} - 720 t^{7} + 5040 t^{6} - 30240 t^{5} + 151200 t^{4} - 604800 t^{3} + 1814400 t^{2} - 3628800 t + 3628800\\right) e^{t} - 1334961 e$"
      ],
      "text/plain": [
       "(t**10 - 10*t**9 + 90*t**8 - 720*t**7 + 5040*t**6 - 30240*t**5 + 151200*t**4 - 604800*t**3 + 1814400*t**2 - 3628800*t + 3628800)*exp(t) - 1334961*E"
      ]
     },
     "execution_count": 77,
     "metadata": {},
     "output_type": "execute_result"
    }
   ],
   "source": [
    "smp.integrate(x**10*smp.exp(x),(x,1,t))"
   ]
  },
  {
   "cell_type": "code",
   "execution_count": 78,
   "id": "af387762-ebb3-41d0-805a-322a1d52128a",
   "metadata": {},
   "outputs": [
    {
     "data": {
      "text/latex": [
       "$\\displaystyle \\frac{16 \\operatorname{atan}{\\left(x \\right)}}{x^{2} + 1}$"
      ],
      "text/plain": [
       "16*atan(x)/(x**2 + 1)"
      ]
     },
     "execution_count": 78,
     "metadata": {},
     "output_type": "execute_result"
    }
   ],
   "source": [
    "16*smp.atan(x)/(1+x**2)"
   ]
  },
  {
   "cell_type": "code",
   "execution_count": 79,
   "id": "53772088-2a50-45c3-8401-614f7fc17963",
   "metadata": {},
   "outputs": [
    {
     "data": {
      "text/latex": [
       "$\\displaystyle 2 \\pi^{2}$"
      ],
      "text/plain": [
       "2*pi**2"
      ]
     },
     "execution_count": 79,
     "metadata": {},
     "output_type": "execute_result"
    }
   ],
   "source": [
    "smp.integrate(16*smp.atan(x)/(1+x**2),(x,0,smp.oo))"
   ]
  },
  {
   "cell_type": "code",
   "execution_count": 84,
   "id": "92887fd5-2eec-4d9a-b48c-985d7a683481",
   "metadata": {},
   "outputs": [],
   "source": [
    "n=smp.symbols('n')"
   ]
  },
  {
   "cell_type": "code",
   "execution_count": 85,
   "id": "079cf3cd-f910-47dc-907e-80d773ee5c73",
   "metadata": {},
   "outputs": [
    {
     "data": {
      "text/latex": [
       "$\\displaystyle \\frac{10}{3}$"
      ],
      "text/plain": [
       "10/3"
      ]
     },
     "execution_count": 85,
     "metadata": {},
     "output_type": "execute_result"
    }
   ],
   "source": [
    "smp.Sum(2**(n+1)/5**n,(n,0,smp.oo)).doit()"
   ]
  },
  {
   "cell_type": "code",
   "execution_count": 86,
   "id": "d8b69bec-9f13-4d73-b21f-ff7a972ad12b",
   "metadata": {},
   "outputs": [
    {
     "data": {
      "text/latex": [
       "$\\displaystyle \\sum_{n=0}^{\\infty} \\frac{\\operatorname{atan}{\\left(n \\right)}}{n^{\\frac{11}{10}}}$"
      ],
      "text/plain": [
       "Sum(atan(n)/n**(11/10), (n, 0, oo))"
      ]
     },
     "execution_count": 86,
     "metadata": {},
     "output_type": "execute_result"
    }
   ],
   "source": [
    "smp.Sum(smp.atan(n)/n**smp.Rational(11,10),(n,0,smp.oo))"
   ]
  },
  {
   "cell_type": "code",
   "execution_count": null,
   "id": "b62d6244-23c5-42ee-8291-127c18ccdb16",
   "metadata": {},
   "outputs": [],
   "source": [
    "smp.Sum((1+smp.cos"
   ]
  }
 ],
 "metadata": {
  "kernelspec": {
   "display_name": "Python 3 (ipykernel)",
   "language": "python",
   "name": "python3"
  },
  "language_info": {
   "codemirror_mode": {
    "name": "ipython",
    "version": 3
   },
   "file_extension": ".py",
   "mimetype": "text/x-python",
   "name": "python",
   "nbconvert_exporter": "python",
   "pygments_lexer": "ipython3",
   "version": "3.12.1"
  }
 },
 "nbformat": 4,
 "nbformat_minor": 5
}
