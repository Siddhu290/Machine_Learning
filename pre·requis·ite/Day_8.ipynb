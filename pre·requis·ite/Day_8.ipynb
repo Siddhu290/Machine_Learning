{
 "cells": [
  {
   "cell_type": "markdown",
   "id": "2be5bb09-13a5-4e47-9e3e-40e24834b110",
   "metadata": {},
   "source": [
    "$$\\begin{matrix} a & b\\\\ c & d \\end{matrix}$$"
   ]
  },
  {
   "cell_type": "markdown",
   "id": "45dc7ed7-51cd-4a8c-b3ee-2ea3f2a8d864",
   "metadata": {},
   "source": [
    "$$\\begin{bmatrix} 1 & 2 & 1 \\\\ 3 & 0 & 1 \\\\ 0 & 2 & 4 \\end{bmatrix}$$"
   ]
  },
  {
   "cell_type": "markdown",
   "id": "bf977491-1dd4-4a4a-a218-f73441471330",
   "metadata": {},
   "source": [
    "$$\\left(\\frac{p}{q}\\right)$$"
   ]
  },
  {
   "cell_type": "markdown",
   "id": "58d13acc-7e00-426d-8d4b-3ce83df4960f",
   "metadata": {},
   "source": [
    "$$\\lim_{x \\to a^-} f(x) = f(a) =\\lim_{x \\to a^+} f(x)$$"
   ]
  },
  {
   "cell_type": "markdown",
   "id": "ec46e6fd-2899-4ce3-96cf-4b229e77ded6",
   "metadata": {},
   "source": [
    "## write program to print the natural number summation pattern"
   ]
  },
  {
   "cell_type": "code",
   "execution_count": 6,
   "id": "61fd46f8-18ca-466d-bb84-9e82ff609342",
   "metadata": {},
   "outputs": [
    {
     "name": "stdout",
     "output_type": "stream",
     "text": [
      "Sum of first 1 natural numbers: 1\n",
      "Sum of first 2 natural numbers: 3\n",
      "Sum of first 3 natural numbers: 6\n",
      "Sum of first 4 natural numbers: 10\n",
      "Sum of first 5 natural numbers: 15\n",
      "Sum of first 6 natural numbers: 21\n",
      "Sum of first 7 natural numbers: 28\n",
      "Sum of first 8 natural numbers: 36\n",
      "Sum of first 9 natural numbers: 45\n",
      "Sum of first 10 natural numbers: 55\n"
     ]
    }
   ],
   "source": [
    "def print_natural_number_summation_pattern(n):\n",
    "    for i in range(1, n+1):\n",
    "        sum_ = sum(range(1, i+1))\n",
    "        print(f\"Sum of first {i} natural numbers: {sum_}\")\n",
    "\n",
    "\n",
    "n = 10  \n",
    "print_natural_number_summation_pattern(n)\n"
   ]
  },
  {
   "cell_type": "markdown",
   "id": "242a7e3f-6881-4e8c-b529-8ffe81307ea3",
   "metadata": {},
   "source": []
  }
 ],
 "metadata": {
  "kernelspec": {
   "display_name": "Python 3 (ipykernel)",
   "language": "python",
   "name": "python3"
  },
  "language_info": {
   "codemirror_mode": {
    "name": "ipython",
    "version": 3
   },
   "file_extension": ".py",
   "mimetype": "text/x-python",
   "name": "python",
   "nbconvert_exporter": "python",
   "pygments_lexer": "ipython3",
   "version": "3.12.1"
  }
 },
 "nbformat": 4,
 "nbformat_minor": 5
}
