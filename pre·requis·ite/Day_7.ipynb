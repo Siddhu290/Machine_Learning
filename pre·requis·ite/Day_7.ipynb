{
 "cells": [
  {
   "cell_type": "markdown",
   "id": "3fc9938f-7b77-46da-ac5c-aeb71a7641b1",
   "metadata": {},
   "source": [
    "## Write a program that will give you in hand monthly salary after deduction on CTC-HRA (10%) DA (5%),PF(3%),and taxes deduction as below "
   ]
  },
  {
   "cell_type": "code",
   "execution_count": null,
   "id": "141c6ff1-4af0-4569-8bce-a261d897ae91",
   "metadata": {},
   "outputs": [],
   "source": [
    "\n",
    "ctc = int(input(\"Enter the salary: \"))\n",
    "\n",
    "\n",
    "if ctc < 500000:\n",
    "    salary = ctc * 0.82\n",
    "elif ctc < 1000000:\n",
    "    salary = ctc * 0.72\n",
    "elif ctc < 2000000:\n",
    "    salary = ctc * 0.62\n",
    "else:\n",
    "    salary = ctc * 0.52\n",
    "\n",
    "\n",
    "monthly_salary = salary / 12\n",
    "\n",
    "\n",
    "print(\"Your monthly income is:\", monthly_salary)\n",
    "print(\"Your take-home monthly will be\", round(monthly_salary))\n"
   ]
  },
  {
   "cell_type": "markdown",
   "id": "135b6e46-e628-42e7-a48e-cb7aaa57a014",
   "metadata": {},
   "source": [
    "## Write a program which will find all such numbers which are divisible by 7 but are not a multiple of 5, between 2000 and 3200 (both included). The numbers obtained should be printed in a comma-separated sequence on a single line."
   ]
  },
  {
   "cell_type": "code",
   "execution_count": null,
   "id": "bc25777e-abd1-4161-8c45-361718136b3e",
   "metadata": {},
   "outputs": [],
   "source": [
    "def find_numbers():\n",
    "    numbers = []\n",
    "\n",
    "    for num in range(2000, 3200):\n",
    "        if num % 7 == 0 and num % 5 != 0:\n",
    "            numbers.append(str(num))\n",
    "\n",
    "    result = \", \".join(numbers)\n",
    "    print(result)\n",
    "\n",
    "if __name__ == \"__main__\":\n",
    "    find_numbers()\n"
   ]
  },
  {
   "cell_type": "markdown",
   "id": "2ec7ab53-b0fb-4a75-bc8c-9ff2e42b0ec4",
   "metadata": {},
   "source": [
    "## Write a program, which will find all such numbers between 1000 and 3000 (both included) such that each digit of the number is an even number. The numbers obtained should be printed in a space-separated sequence on a single line."
   ]
  },
  {
   "cell_type": "code",
   "execution_count": 4,
   "id": "8e621f57-cc33-4770-a958-38f07d188b3f",
   "metadata": {},
   "outputs": [
    {
     "name": "stdout",
     "output_type": "stream",
     "text": [
      "2000 2002 2004 2006 2008 2020 2022 2024 2026 2028 2040 2042 2044 2046 2048 2060 2062 2064 2066 2068 2080 2082 2084 2086 2088 2200 2202 2204 2206 2208 2220 2222 2224 2226 2228 2240 2242 2244 2246 2248 2260 2262 2264 2266 2268 2280 2282 2284 2286 2288 2400 2402 2404 2406 2408 2420 2422 2424 2426 2428 2440 2442 2444 2446 2448 2460 2462 2464 2466 2468 2480 2482 2484 2486 2488 2600 2602 2604 2606 2608 2620 2622 2624 2626 2628 2640 2642 2644 2646 2648 2660 2662 2664 2666 2668 2680 2682 2684 2686 2688 2800 2802 2804 2806 2808 2820 2822 2824 2826 2828 2840 2842 2844 2846 2848 2860 2862 2864 2866 2868 2880 2882 2884 2886 2888\n"
     ]
    }
   ],
   "source": [
    "def is_all_even_digits(number):\n",
    "    # Convert number to a string and check if all digits are even\n",
    "    return all(int(digit) % 2 == 0 for digit in str(number))\n",
    "\n",
    "def find_even_digit_numbers():\n",
    "    even_digit_numbers = []\n",
    "\n",
    "    # Iterate through the range 1000 to 3000 (inclusive)\n",
    "    for num in range(1000, 3001):\n",
    "        if is_all_even_digits(num):\n",
    "            even_digit_numbers.append(str(num))\n",
    "\n",
    "    # Join the list into a space-separated string\n",
    "    result = \" \".join(even_digit_numbers)\n",
    "    print(result)\n",
    "\n",
    "if __name__ == \"__main__\":\n",
    "    find_even_digit_numbers()\n",
    "    \n",
    "def is_all_even_digits(number):\n",
    "    return all(int(digit) % 2 == 0 for digit in str(number))\n",
    "\n",
    "def find_even_digit_numbers():\n",
    "    even_digit_numbers = []\n",
    "\n",
    "    for num in range(1000, 3001):\n",
    "        if is_all_even_digits(num):\n",
    "            even_digit_numbers.append(str(num))\n",
    "\n",
    "    result = \" \".join(even_digit_numbers)\n",
    "    print(result)\n",
    "\n"
   ]
  },
  {
   "cell_type": "markdown",
   "id": "6a99115a-ff35-46dd-aaba-2ef602c53175",
   "metadata": {},
   "source": [
    "## A robot moves in a plane starting from the original point (0,0). The robot can move toward UP, DOWN, LEFT and RIGHT with a given steps."
   ]
  },
  {
   "cell_type": "code",
   "execution_count": null,
   "id": "f887aebe-ef6c-4826-a190-8aa3d2c19614",
   "metadata": {},
   "outputs": [
    {
     "name": "stdout",
     "output_type": "stream",
     "text": [
      "Enter movements in the format 'DIRECTION STEPS'. Type 'STOP' to end.\n"
     ]
    }
   ],
   "source": [
    "def move_robot(movements):\n",
    "    position = [0, 0]  # Starting at origin (0, 0)\n",
    "    \n",
    "    for movement in movements:\n",
    "        direction, steps = movement.split()\n",
    "        steps = int(steps)\n",
    "        \n",
    "        if direction == \"UP\":\n",
    "            position[1] += steps\n",
    "        elif direction == \"DOWN\":\n",
    "            position[1] -= steps\n",
    "        elif direction == \"LEFT\":\n",
    "            position[0] -= steps\n",
    "        elif direction == \"RIGHT\":\n",
    "            position[0] += steps\n",
    "    \n",
    "    return position\n",
    "\n",
    "def main():\n",
    "    movements = []\n",
    "    print(\"Enter movements in the format 'DIRECTION STEPS'. Type 'STOP' to end.\")\n",
    "    \n",
    "    while True:\n",
    "        movement = input(\"Enter movement: \")\n",
    "        if movement == \"STOP\":\n",
    "            break\n",
    "        movements.append(movement)\n",
    "    \n",
    "    final_position = move_robot(movements)\n",
    "    print(f\"Final position of the robot: ({final_position[0]}, {final_position[1]})\")\n",
    "\n",
    "if __name__ == \"__main__\":\n",
    "    main()\n"
   ]
  },
  {
   "cell_type": "code",
   "execution_count": null,
   "id": "5491e6b9-ea3a-4e0d-bda0-c23834c50e4e",
   "metadata": {},
   "outputs": [],
   "source": []
  }
 ],
 "metadata": {
  "kernelspec": {
   "display_name": "Python 3 (ipykernel)",
   "language": "python",
   "name": "python3"
  },
  "language_info": {
   "codemirror_mode": {
    "name": "ipython",
    "version": 3
   },
   "file_extension": ".py",
   "mimetype": "text/x-python",
   "name": "python",
   "nbconvert_exporter": "python",
   "pygments_lexer": "ipython3",
   "version": "3.12.1"
  }
 },
 "nbformat": 4,
 "nbformat_minor": 5
}
