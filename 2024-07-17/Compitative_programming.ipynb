{
  "nbformat": 4,
  "nbformat_minor": 0,
  "metadata": {
    "colab": {
      "provenance": [],
      "authorship_tag": "ABX9TyMOg74gNcEs9nDZv8ZylWP1",
      "include_colab_link": true
    },
    "kernelspec": {
      "name": "python3",
      "display_name": "Python 3"
    },
    "language_info": {
      "name": "python"
    }
  },
  "cells": [
    {
      "cell_type": "markdown",
      "metadata": {
        "id": "view-in-github",
        "colab_type": "text"
      },
      "source": [
        "<a href=\"https://colab.research.google.com/github/Siddhu290/Machine_Learning/blob/main/2024-07-17/Compitative_programming.ipynb\" target=\"_parent\"><img src=\"https://colab.research.google.com/assets/colab-badge.svg\" alt=\"Open In Colab\"/></a>"
      ]
    },
    {
      "cell_type": "code",
      "execution_count": null,
      "metadata": {
        "id": "CYOvxrYUlGYx"
      },
      "outputs": [],
      "source": [
        "list_var=list()\n",
        "\n"
      ]
    },
    {
      "cell_type": "code",
      "source": [
        "list_var.__sizeof__()"
      ],
      "metadata": {
        "colab": {
          "base_uri": "https://localhost:8080/"
        },
        "id": "69QtpezylaTf",
        "outputId": "111b2a2c-89ee-481c-9e04-670d4158e82d"
      },
      "execution_count": null,
      "outputs": [
        {
          "output_type": "execute_result",
          "data": {
            "text/plain": [
              "40"
            ]
          },
          "metadata": {},
          "execution_count": 2
        }
      ]
    },
    {
      "cell_type": "code",
      "source": [
        "list_var.append(1)\n",
        "list_var.__sizeof__()"
      ],
      "metadata": {
        "colab": {
          "base_uri": "https://localhost:8080/"
        },
        "id": "eFtaQFfhliMX",
        "outputId": "438ee796-3f36-4127-f7f8-2c9431726389"
      },
      "execution_count": null,
      "outputs": [
        {
          "output_type": "execute_result",
          "data": {
            "text/plain": [
              "72"
            ]
          },
          "metadata": {},
          "execution_count": 4
        }
      ]
    },
    {
      "cell_type": "code",
      "source": [
        "old_list=[1,2]\n",
        "old_list.append(3)\n",
        "old_list"
      ],
      "metadata": {
        "id": "omOF3O2bln97",
        "colab": {
          "base_uri": "https://localhost:8080/"
        },
        "outputId": "36c2ab1c-a68b-4a32-f167-100a56bcf8d5"
      },
      "execution_count": null,
      "outputs": [
        {
          "output_type": "execute_result",
          "data": {
            "text/plain": [
              "[1, 2, 3]"
            ]
          },
          "metadata": {},
          "execution_count": 5
        }
      ]
    },
    {
      "cell_type": "code",
      "source": [
        "id(old_list)"
      ],
      "metadata": {
        "colab": {
          "base_uri": "https://localhost:8080/"
        },
        "id": "RM3SNuFkmJeM",
        "outputId": "583a41b9-72fb-45d0-cc33-803934ef561e"
      },
      "execution_count": null,
      "outputs": [
        {
          "output_type": "execute_result",
          "data": {
            "text/plain": [
              "136250883992128"
            ]
          },
          "metadata": {},
          "execution_count": 6
        }
      ]
    },
    {
      "cell_type": "code",
      "source": [
        "old_list.__sizeof__()"
      ],
      "metadata": {
        "colab": {
          "base_uri": "https://localhost:8080/"
        },
        "id": "yY576c0vmLYm",
        "outputId": "0df052f9-d963-4465-9440-668c973503ca"
      },
      "execution_count": null,
      "outputs": [
        {
          "output_type": "execute_result",
          "data": {
            "text/plain": [
              "104"
            ]
          },
          "metadata": {},
          "execution_count": 7
        }
      ]
    },
    {
      "cell_type": "code",
      "source": [
        "new_list=list(old_list)\n",
        "id(new_list)"
      ],
      "metadata": {
        "colab": {
          "base_uri": "https://localhost:8080/"
        },
        "id": "4nowAtdVmR8u",
        "outputId": "db7d80c1-e8b5-4c0d-ffd2-a9f34c9f30c8"
      },
      "execution_count": null,
      "outputs": [
        {
          "output_type": "execute_result",
          "data": {
            "text/plain": [
              "136251870900288"
            ]
          },
          "metadata": {},
          "execution_count": 8
        }
      ]
    },
    {
      "cell_type": "code",
      "source": [
        "new_list.__sizeof__()"
      ],
      "metadata": {
        "colab": {
          "base_uri": "https://localhost:8080/"
        },
        "id": "XDenlIYKmXvL",
        "outputId": "c0fdb442-4b3c-4b3d-d30c-c5a8f942f756"
      },
      "execution_count": null,
      "outputs": [
        {
          "output_type": "execute_result",
          "data": {
            "text/plain": [
              "72"
            ]
          },
          "metadata": {},
          "execution_count": 9
        }
      ]
    },
    {
      "cell_type": "code",
      "source": [
        "old_tuple=(1,2)\n",
        "old_tuple"
      ],
      "metadata": {
        "colab": {
          "base_uri": "https://localhost:8080/"
        },
        "id": "6LQjGqXemeDv",
        "outputId": "c5e31f74-b7f4-4c83-dbe3-9b8592b5a060"
      },
      "execution_count": null,
      "outputs": [
        {
          "output_type": "execute_result",
          "data": {
            "text/plain": [
              "(1, 2)"
            ]
          },
          "metadata": {},
          "execution_count": 11
        }
      ]
    },
    {
      "cell_type": "code",
      "source": [
        "id(old_tuple)"
      ],
      "metadata": {
        "colab": {
          "base_uri": "https://localhost:8080/"
        },
        "id": "ZC7Q8UXgnBQB",
        "outputId": "cc743464-b4ec-4da3-a143-726e2bca65c0"
      },
      "execution_count": null,
      "outputs": [
        {
          "output_type": "execute_result",
          "data": {
            "text/plain": [
              "136250885956352"
            ]
          },
          "metadata": {},
          "execution_count": 13
        }
      ]
    },
    {
      "cell_type": "markdown",
      "source": [
        "---\n",
        "#**Exception_handeling**\n",
        "\n",
        "## Exception Handling (Python)\n",
        "\n",
        "* **What it is:** A mechanism to gracefully handle errors (exceptions) that might occur during program execution.\n",
        "* **Why it't important:** Makes your code more robust and prevents crashes.\n",
        "\n",
        "**Basic Structure:**\n",
        "\n",
        "```python\n",
        "try:\n",
        "  # Code that might raise an exception\n",
        "except ExceptionType:\n",
        "  # Code to handle the exception\n"
      ],
      "metadata": {
        "id": "qCvnjlugnuB9"
      }
    },
    {
      "cell_type": "code",
      "source": [
        "# Example 1: Handling ZeroDivisionError\n",
        "try:\n",
        "  result = 10 / 0\n",
        "except ZeroDivisionError:\n",
        "  print(\"Error: Division by zero\")\n",
        "\n",
        "# Example 2: Handling FileNotFoundError\n",
        "try:\n",
        "  with open(\"nonexistent_file.txt\", \"r\") as file:\n",
        "    content = file.read()\n",
        "except FileNotFoundError:\n",
        "  print(\"Error: File not found\")\n",
        "\n",
        "# Example 3: Handling multiple exceptions\n",
        "try:\n",
        "  num = int(input(\"Enter a number: \"))\n",
        "  result = 10 / num\n",
        "except ValueError:\n",
        "  print(\"Error: Invalid input. Please enter a number.\")\n",
        "except ZeroDivisionError:\n",
        "  print(\"Error: Division by zero\")\n",
        "\n",
        "# Example 4: Using else and finally\n",
        "try:\n",
        "  num1 = int(input(\"Enter first number: \"))\n",
        "  num2 = int(input(\"Enter second number: \"))\n",
        "  result = num1 / num2\n",
        "except (ValueError, ZeroDivisionError) as e:\n",
        "  print(\"Error:\", e)\n",
        "else:\n",
        "  print(\"Result:\", result)\n",
        "finally:\n",
        "  print(\"This block always executes.\")\n"
      ],
      "metadata": {
        "colab": {
          "base_uri": "https://localhost:8080/"
        },
        "id": "LL7-HpKTpX2O",
        "outputId": "5cb9df92-bedc-456a-da56-6c5ccc1b6025"
      },
      "execution_count": null,
      "outputs": [
        {
          "output_type": "stream",
          "name": "stdout",
          "text": [
            "Error: Division by zero\n",
            "Error: File not found\n",
            "Enter a number: 5\n",
            "Enter first number: 1\n",
            "Enter second number: 2\n",
            "Result: 0.5\n",
            "This block always executes.\n"
          ]
        }
      ]
    },
    {
      "cell_type": "markdown",
      "source": [
        "## Generators in Python\n",
        "\n",
        "**Simple Definition:**\n",
        "\n",
        "Generators are functions that produce a sequence of values on-demand, making them memory-efficient for large datasets.\n",
        "\n",
        "**Key Idea:**\n",
        "\n",
        "- Use `yield` instead of `return` to pause execution and yield values one at a time.\n",
        "\n",
        "**Example:**\n",
        "\n",
        "```python\n",
        "def number_generator(n):\n",
        "  for i in range(n):\n",
        "    yield i * 2\n"
      ],
      "metadata": {
        "id": "4T1UqIOxqc7T"
      }
    },
    {
      "cell_type": "code",
      "source": [
        "def number_generator(n):\n",
        "  for i in range(n):\n",
        "    yield i * 2"
      ],
      "metadata": {
        "id": "pqQe_Pl2panP"
      },
      "execution_count": null,
      "outputs": []
    },
    {
      "cell_type": "code",
      "source": [
        "number_generator(5)"
      ],
      "metadata": {
        "colab": {
          "base_uri": "https://localhost:8080/"
        },
        "id": "6EvEAlepqf1j",
        "outputId": "249b0058-d507-469c-c81a-b412374cc204"
      },
      "execution_count": null,
      "outputs": [
        {
          "output_type": "execute_result",
          "data": {
            "text/plain": [
              "<generator object number_generator at 0x7beb618f47b0>"
            ]
          },
          "metadata": {},
          "execution_count": 20
        }
      ]
    },
    {
      "cell_type": "code",
      "source": [
        "## Generator Example: Fibonacci Sequence\n",
        "\n",
        "def fibonacci_generator(n):\n",
        "  a, b = 0, 1\n",
        "  for _ in range(n):\n",
        "    yield a\n",
        "    a, b = b, a + b\n"
      ],
      "metadata": {
        "id": "stgshSz6qj-J"
      },
      "execution_count": null,
      "outputs": []
    },
    {
      "cell_type": "code",
      "source": [
        "# Get the first 5 Fibonacci numbers\n",
        "fib_numbers = fibonacci_generator(5)\n",
        "\n",
        "for num in fib_numbers:\n",
        "  print(num)\n"
      ],
      "metadata": {
        "colab": {
          "base_uri": "https://localhost:8080/"
        },
        "id": "NBnwwKYlr88y",
        "outputId": "f0d0835f-0eb3-4d81-a277-18cd4389b9aa"
      },
      "execution_count": null,
      "outputs": [
        {
          "output_type": "stream",
          "name": "stdout",
          "text": [
            "0\n",
            "1\n",
            "1\n",
            "2\n",
            "3\n"
          ]
        }
      ]
    },
    {
      "cell_type": "markdown",
      "source": [
        "---\n",
        "\n",
        "## Exceptions (Python)\n",
        "\n",
        "* Unexpected errors during program execution.\n",
        "* Prevent crashes and allow graceful error handling.\n",
        "\n",
        "**Key Idea:**\n",
        "\n",
        "Use `try...except` blocks to handle exceptions:\n",
        "\n",
        "- `try`: Code that might raise an exception.\n",
        "- `except`: Catches specific exception types and executes code.\n",
        "\n",
        "**Example:**\n",
        "\n",
        "```python\n",
        "try:\n",
        "  result = 10 / 0  # Would raise ZeroDivisionError\n",
        "except ZeroDivisionError:\n",
        "  print(\"Error: Division by zero\")\n"
      ],
      "metadata": {
        "id": "vqw4eyJ8sFtp"
      }
    },
    {
      "cell_type": "code",
      "source": [
        "try:\n",
        "  result = 10 / 0  # Would raise ZeroDivisionError\n",
        "except ZeroDivisionError:\n",
        "  print(\"Error: Division by zero\")\n"
      ],
      "metadata": {
        "colab": {
          "base_uri": "https://localhost:8080/"
        },
        "id": "50LWCmFKsU_S",
        "outputId": "d669c623-02eb-4465-90ec-a7e2762aff82"
      },
      "execution_count": null,
      "outputs": [
        {
          "output_type": "stream",
          "name": "stdout",
          "text": [
            "Error: Division by zero\n"
          ]
        }
      ]
    },
    {
      "cell_type": "code",
      "source": [],
      "metadata": {
        "id": "DF6vMMzxspSX"
      },
      "execution_count": null,
      "outputs": []
    }
  ]
}