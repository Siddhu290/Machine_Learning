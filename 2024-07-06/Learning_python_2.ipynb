{
  "nbformat": 4,
  "nbformat_minor": 0,
  "metadata": {
    "colab": {
      "provenance": [],
      "authorship_tag": "ABX9TyNZaPsXaZH4wJ8dRwoQCNwt",
      "include_colab_link": true
    },
    "kernelspec": {
      "name": "python3",
      "display_name": "Python 3"
    },
    "language_info": {
      "name": "python"
    }
  },
  "cells": [
    {
      "cell_type": "markdown",
      "metadata": {
        "id": "view-in-github",
        "colab_type": "text"
      },
      "source": [
        "<a href=\"https://colab.research.google.com/github/Siddhu290/Machine_Learning/blob/main/2024-07-06/Learning_python_2.ipynb\" target=\"_parent\"><img src=\"https://colab.research.google.com/assets/colab-badge.svg\" alt=\"Open In Colab\"/></a>"
      ]
    },
    {
      "cell_type": "code",
      "execution_count": 7,
      "metadata": {
        "colab": {
          "base_uri": "https://localhost:8080/"
        },
        "id": "uOI8qy6dAD9a",
        "outputId": "1ff0da61-f499-42eb-c52c-9c320a962582"
      },
      "outputs": [
        {
          "output_type": "stream",
          "name": "stdout",
          "text": [
            "Enter student name: sidd\n",
            "Enter student marks: 85\n",
            "Enter grace marks (or leave blank): \n",
            "sidd\n",
            "Result: B\n"
          ]
        }
      ],
      "source": [
        "class Student:\n",
        "    def __init__(self, name, marks):\n",
        "        self.name = name\n",
        "        self.marks = marks\n",
        "        self.grades = None\n",
        "\n",
        "\n",
        "    def add_grace_marks(self, grace):\n",
        "        self.marks += grace\n",
        "\n",
        "    def calculate_result(self):\n",
        "\n",
        "        if self.marks >= 90:\n",
        "            self.grades = \"A\"\n",
        "        elif self.marks >= 80:\n",
        "            self.grades = \"B\"\n",
        "\n",
        "name = input(\"Enter student name: \")\n",
        "marks_str = input(\"Enter student marks: \")\n",
        "marks = int(marks_str)\n",
        "\n",
        "student = Student(name, marks)\n",
        "\n",
        "grace_str = input(\"Enter grace marks (or leave blank): \")\n",
        "if grace_str:\n",
        "   grace = int(grace_str)\n",
        "   student.add_grace_marks(grace)\n",
        "student.calculate_result()\n",
        "print(f\"{student.name}\\nResult: {student.grades}\")"
      ]
    },
    {
      "cell_type": "markdown",
      "source": [
        "**Octal, Hexa, Binary**\n",
        "---"
      ],
      "metadata": {
        "id": "Igfggh9OHPYK"
      }
    },
    {
      "cell_type": "markdown",
      "source": [
        "# Octal, Hexadecimal, and Binary Numbers\n",
        "\n",
        "**Octal Numbers**\n",
        "\n",
        "Octal numbers use a base-8 number system, meaning they use digits from 0 to 7. In Python, octal numbers are represented with a leading \"0o\". For example, 0o17 represents the decimal number 15 (1 * 8^1 + 7 * 8^0).\n",
        "\n",
        "**Hexadecimal Numbers**\n",
        "\n",
        "Hexadecimal numbers use a base-16 number system, employing digits from 0 to 9 and letters A to F (representing values 10 to 15). In Python, hexadecimal numbers are denoted with a leading \"0x\". For instance, 0xA3 represents the decimal number 163 (10 * 16^1 + 3 * 16^0).\n",
        "\n",
        "**Binary Numbers**\n",
        "\n",
        "Binary numbers operate on a base-2 system, utilizing only digits 0 and 1. Python represents binary numbers with a leading \"0b\". For example, 0b1101 corresponds to the decimal number 13 (1 * 2^3 + 1 * 2^2 + 0 * 2^1 + 1 * 2^0)."
      ],
      "metadata": {
        "id": "1EVqK0TGKghB"
      }
    },
    {
      "cell_type": "code",
      "source": [
        "0o1,0o20,0o377 #octal"
      ],
      "metadata": {
        "colab": {
          "base_uri": "https://localhost:8080/"
        },
        "id": "FYcE8sybHfhl",
        "outputId": "aa08092f-08bd-47f7-962e-386ff63d575e"
      },
      "execution_count": 9,
      "outputs": [
        {
          "output_type": "execute_result",
          "data": {
            "text/plain": [
              "(1, 16, 255)"
            ]
          },
          "metadata": {},
          "execution_count": 9
        }
      ]
    },
    {
      "cell_type": "code",
      "source": [
        "0x01,0x10,0xff #hexa"
      ],
      "metadata": {
        "colab": {
          "base_uri": "https://localhost:8080/"
        },
        "id": "Hj7RRsBKKCE0",
        "outputId": "ae2e0cc1-cbfd-4994-9336-bf8af6475446"
      },
      "execution_count": 11,
      "outputs": [
        {
          "output_type": "execute_result",
          "data": {
            "text/plain": [
              "(1, 16, 255)"
            ]
          },
          "metadata": {},
          "execution_count": 11
        }
      ]
    },
    {
      "cell_type": "code",
      "source": [
        "0b1,0b10,0b11111111 #binary"
      ],
      "metadata": {
        "colab": {
          "base_uri": "https://localhost:8080/"
        },
        "id": "_L2dB2aDKMyn",
        "outputId": "7ce74bb1-0d5b-4ab5-ae02-1233635504a6"
      },
      "execution_count": 12,
      "outputs": [
        {
          "output_type": "execute_result",
          "data": {
            "text/plain": [
              "(1, 2, 255)"
            ]
          },
          "metadata": {},
          "execution_count": 12
        }
      ]
    },
    {
      "cell_type": "code",
      "source": [
        "oct(255)"
      ],
      "metadata": {
        "colab": {
          "base_uri": "https://localhost:8080/",
          "height": 36
        },
        "id": "13pTZgpkKTiw",
        "outputId": "36c957ea-af32-41f3-c217-a4557960e85b"
      },
      "execution_count": 14,
      "outputs": [
        {
          "output_type": "execute_result",
          "data": {
            "text/plain": [
              "'0o377'"
            ],
            "application/vnd.google.colaboratory.intrinsic+json": {
              "type": "string"
            }
          },
          "metadata": {},
          "execution_count": 14
        }
      ]
    },
    {
      "cell_type": "code",
      "source": [
        "hex(255)"
      ],
      "metadata": {
        "colab": {
          "base_uri": "https://localhost:8080/",
          "height": 36
        },
        "id": "5pvdBvhbKsKE",
        "outputId": "938dbb5b-b33e-4059-f656-02eb8e083913"
      },
      "execution_count": 16,
      "outputs": [
        {
          "output_type": "execute_result",
          "data": {
            "text/plain": [
              "'0xff'"
            ],
            "application/vnd.google.colaboratory.intrinsic+json": {
              "type": "string"
            }
          },
          "metadata": {},
          "execution_count": 16
        }
      ]
    },
    {
      "cell_type": "code",
      "source": [
        "bin(255)"
      ],
      "metadata": {
        "colab": {
          "base_uri": "https://localhost:8080/",
          "height": 36
        },
        "id": "OvOHRpDfK0aR",
        "outputId": "d00727f6-4c5a-43d4-bb90-75c2f1430937"
      },
      "execution_count": 17,
      "outputs": [
        {
          "output_type": "execute_result",
          "data": {
            "text/plain": [
              "'0b11111111'"
            ],
            "application/vnd.google.colaboratory.intrinsic+json": {
              "type": "string"
            }
          },
          "metadata": {},
          "execution_count": 17
        }
      ]
    },
    {
      "cell_type": "code",
      "source": [
        "oct(0xff)"
      ],
      "metadata": {
        "colab": {
          "base_uri": "https://localhost:8080/",
          "height": 36
        },
        "id": "t67YkzpeK4so",
        "outputId": "8147b895-9175-4206-aead-28f18933805b"
      },
      "execution_count": 20,
      "outputs": [
        {
          "output_type": "execute_result",
          "data": {
            "text/plain": [
              "'0o377'"
            ],
            "application/vnd.google.colaboratory.intrinsic+json": {
              "type": "string"
            }
          },
          "metadata": {},
          "execution_count": 20
        }
      ]
    },
    {
      "cell_type": "code",
      "source": [
        "int('64'), int('100', 8), int('40',16), int('1000000', 2)"
      ],
      "metadata": {
        "colab": {
          "base_uri": "https://localhost:8080/"
        },
        "id": "VhSq5qlyLV8k",
        "outputId": "b7b79aa4-62a9-476e-cd26-c39665b1587c"
      },
      "execution_count": 26,
      "outputs": [
        {
          "output_type": "execute_result",
          "data": {
            "text/plain": [
              "(64, 64, 64, 64)"
            ]
          },
          "metadata": {},
          "execution_count": 26
        }
      ]
    },
    {
      "cell_type": "code",
      "source": [
        "eval('64'), eval('0o100'), eval('0x40'), eval('0b1000000')"
      ],
      "metadata": {
        "colab": {
          "base_uri": "https://localhost:8080/"
        },
        "id": "3Ccl3Xg-MeeA",
        "outputId": "4ea4650f-1f88-4325-fbb2-f6a850ca18c9"
      },
      "execution_count": 27,
      "outputs": [
        {
          "output_type": "execute_result",
          "data": {
            "text/plain": [
              "(64, 64, 64, 64)"
            ]
          },
          "metadata": {},
          "execution_count": 27
        }
      ]
    },
    {
      "cell_type": "code",
      "source": [
        "'{0:o}, {0:x}, {0:b}'.format(64,64,64)"
      ],
      "metadata": {
        "colab": {
          "base_uri": "https://localhost:8080/",
          "height": 36
        },
        "id": "j_-4GYFJNnhb",
        "outputId": "848551ce-0c86-42b4-9607-b558ea2f76b6"
      },
      "execution_count": 28,
      "outputs": [
        {
          "output_type": "execute_result",
          "data": {
            "text/plain": [
              "'100, 40, 1000000'"
            ],
            "application/vnd.google.colaboratory.intrinsic+json": {
              "type": "string"
            }
          },
          "metadata": {},
          "execution_count": 28
        }
      ]
    },
    {
      "cell_type": "code",
      "source": [
        "\"%o, %x, %X\" % (64,255,255)"
      ],
      "metadata": {
        "colab": {
          "base_uri": "https://localhost:8080/",
          "height": 36
        },
        "id": "SbDyHK3kN4id",
        "outputId": "c6a078e4-a385-4d06-ed3a-e02c681dadc0"
      },
      "execution_count": 31,
      "outputs": [
        {
          "output_type": "execute_result",
          "data": {
            "text/plain": [
              "'100, ff, FF'"
            ],
            "application/vnd.google.colaboratory.intrinsic+json": {
              "type": "string"
            }
          },
          "metadata": {},
          "execution_count": 31
        }
      ]
    },
    {
      "cell_type": "markdown",
      "source": [
        "#Bitwise Operation"
      ],
      "metadata": {
        "id": "yoPZHUSRRGzH"
      }
    },
    {
      "cell_type": "code",
      "source": [
        "x=2"
      ],
      "metadata": {
        "id": "xN0fLPNbO4CR"
      },
      "execution_count": 38,
      "outputs": []
    },
    {
      "cell_type": "code",
      "source": [
        "x<<2"
      ],
      "metadata": {
        "colab": {
          "base_uri": "https://localhost:8080/"
        },
        "id": "r6fH2R7aRxP-",
        "outputId": "e6c8a291-83a1-4c2e-df73-9715494180c9"
      },
      "execution_count": 39,
      "outputs": [
        {
          "output_type": "execute_result",
          "data": {
            "text/plain": [
              "8"
            ]
          },
          "metadata": {},
          "execution_count": 39
        }
      ]
    },
    {
      "cell_type": "code",
      "source": [
        "x|2"
      ],
      "metadata": {
        "colab": {
          "base_uri": "https://localhost:8080/"
        },
        "id": "xPoa-3A0Ryck",
        "outputId": "2db0a146-b229-4c5a-b135-641d4c20c909"
      },
      "execution_count": 40,
      "outputs": [
        {
          "output_type": "execute_result",
          "data": {
            "text/plain": [
              "2"
            ]
          },
          "metadata": {},
          "execution_count": 40
        }
      ]
    },
    {
      "cell_type": "code",
      "source": [
        "x&1"
      ],
      "metadata": {
        "colab": {
          "base_uri": "https://localhost:8080/"
        },
        "id": "X19ahqhKR1sw",
        "outputId": "ebf2e207-b8de-4da5-d9a4-123b1a79641b"
      },
      "execution_count": 41,
      "outputs": [
        {
          "output_type": "execute_result",
          "data": {
            "text/plain": [
              "0"
            ]
          },
          "metadata": {},
          "execution_count": 41
        }
      ]
    },
    {
      "cell_type": "code",
      "source": [
        "n=0b0001\n",
        "n=n<<2\n",
        "print(n)"
      ],
      "metadata": {
        "colab": {
          "base_uri": "https://localhost:8080/"
        },
        "id": "rcHtvsehR4Lz",
        "outputId": "6fb963ab-59d0-4438-f8de-c34acef4be9c"
      },
      "execution_count": 43,
      "outputs": [
        {
          "output_type": "stream",
          "name": "stdout",
          "text": [
            "4\n"
          ]
        }
      ]
    },
    {
      "cell_type": "code",
      "source": [
        "bin(n<<2)"
      ],
      "metadata": {
        "colab": {
          "base_uri": "https://localhost:8080/",
          "height": 36
        },
        "id": "6D2WIbtlSuRj",
        "outputId": "5ef8fffa-f930-4237-ed6f-d96d34797ceb"
      },
      "execution_count": 44,
      "outputs": [
        {
          "output_type": "execute_result",
          "data": {
            "text/plain": [
              "'0b10000'"
            ],
            "application/vnd.google.colaboratory.intrinsic+json": {
              "type": "string"
            }
          },
          "metadata": {},
          "execution_count": 44
        }
      ]
    },
    {
      "cell_type": "code",
      "source": [
        "bin(x | 0b010)"
      ],
      "metadata": {
        "colab": {
          "base_uri": "https://localhost:8080/",
          "height": 36
        },
        "id": "GnoD4g2RTFEj",
        "outputId": "da0c723f-85b0-469c-f6be-cc0a24ffe3d0"
      },
      "execution_count": 46,
      "outputs": [
        {
          "output_type": "execute_result",
          "data": {
            "text/plain": [
              "'0b110'"
            ],
            "application/vnd.google.colaboratory.intrinsic+json": {
              "type": "string"
            }
          },
          "metadata": {},
          "execution_count": 46
        }
      ]
    },
    {
      "cell_type": "code",
      "source": [
        "bin(n & 0b1)"
      ],
      "metadata": {
        "colab": {
          "base_uri": "https://localhost:8080/",
          "height": 36
        },
        "id": "kf1_5if0TJmS",
        "outputId": "5dbf0d0c-370b-421b-a373-ad312e768a22"
      },
      "execution_count": 47,
      "outputs": [
        {
          "output_type": "execute_result",
          "data": {
            "text/plain": [
              "'0b0'"
            ],
            "application/vnd.google.colaboratory.intrinsic+json": {
              "type": "string"
            }
          },
          "metadata": {},
          "execution_count": 47
        }
      ]
    },
    {
      "cell_type": "code",
      "source": [
        "X= 0xff\n",
        "bin(x)"
      ],
      "metadata": {
        "colab": {
          "base_uri": "https://localhost:8080/",
          "height": 36
        },
        "id": "smSJjgv7TSoX",
        "outputId": "d3146073-1a1e-4f23-f447-831ec473bef9"
      },
      "execution_count": 48,
      "outputs": [
        {
          "output_type": "execute_result",
          "data": {
            "text/plain": [
              "'0b100'"
            ],
            "application/vnd.google.colaboratory.intrinsic+json": {
              "type": "string"
            }
          },
          "metadata": {},
          "execution_count": 48
        }
      ]
    },
    {
      "cell_type": "markdown",
      "source": [
        "Find weather the given number can be represented in the power of 2"
      ],
      "metadata": {
        "id": "pkgyMOn5T-s0"
      }
    },
    {
      "cell_type": "code",
      "source": [
        "a=99\n",
        "bin(a),a.bit_length()"
      ],
      "metadata": {
        "colab": {
          "base_uri": "https://localhost:8080/"
        },
        "id": "nNokwqdtTghU",
        "outputId": "d8f3233e-ced6-4274-fc5a-f39a1faa914f"
      },
      "execution_count": 49,
      "outputs": [
        {
          "output_type": "execute_result",
          "data": {
            "text/plain": [
              "('0b1100011', 7)"
            ]
          },
          "metadata": {},
          "execution_count": 49
        }
      ]
    },
    {
      "cell_type": "code",
      "source": [
        "bin(256),(256).bit_length()"
      ],
      "metadata": {
        "colab": {
          "base_uri": "https://localhost:8080/"
        },
        "id": "Ez8_SIYLT0z2",
        "outputId": "30a71ea2-a317-4770-9a1e-40e88b06d49e"
      },
      "execution_count": 50,
      "outputs": [
        {
          "output_type": "execute_result",
          "data": {
            "text/plain": [
              "('0b100000000', 9)"
            ]
          },
          "metadata": {},
          "execution_count": 50
        }
      ]
    },
    {
      "cell_type": "code",
      "source": [
        "len(bin(256))-2"
      ],
      "metadata": {
        "colab": {
          "base_uri": "https://localhost:8080/"
        },
        "id": "WdiKxJgPT6l4",
        "outputId": "ca5f448b-a3c0-4bcd-b684-520eaeecdfaa"
      },
      "execution_count": 51,
      "outputs": [
        {
          "output_type": "execute_result",
          "data": {
            "text/plain": [
              "9"
            ]
          },
          "metadata": {},
          "execution_count": 51
        }
      ]
    },
    {
      "cell_type": "markdown",
      "source": [
        "min, max, abs, sum, pow"
      ],
      "metadata": {
        "id": "9C7L4-DIUqRW"
      }
    },
    {
      "cell_type": "code",
      "source": [
        "pow(2,4), 2**4"
      ],
      "metadata": {
        "colab": {
          "base_uri": "https://localhost:8080/"
        },
        "id": "4S0vKwwfUK4z",
        "outputId": "7b81f1c2-bd2b-4b17-f5c6-51669297e8b9"
      },
      "execution_count": 54,
      "outputs": [
        {
          "output_type": "execute_result",
          "data": {
            "text/plain": [
              "(16, 16)"
            ]
          },
          "metadata": {},
          "execution_count": 54
        }
      ]
    },
    {
      "cell_type": "code",
      "source": [
        "abs(-42.0), sum((1,2,3,4))"
      ],
      "metadata": {
        "colab": {
          "base_uri": "https://localhost:8080/"
        },
        "id": "rmBIxsKDUg2D",
        "outputId": "7c362a28-6e6c-4618-b7b7-04e6589fb0e1"
      },
      "execution_count": 55,
      "outputs": [
        {
          "output_type": "execute_result",
          "data": {
            "text/plain": [
              "(42.0, 10)"
            ]
          },
          "metadata": {},
          "execution_count": 55
        }
      ]
    },
    {
      "cell_type": "code",
      "source": [
        "min([3,1,2,4]), max([3,1,2,4])"
      ],
      "metadata": {
        "colab": {
          "base_uri": "https://localhost:8080/"
        },
        "id": "-MAy5zDUU_wj",
        "outputId": "8f62676e-beb0-46c5-a801-f1f49bbfe001"
      },
      "execution_count": 60,
      "outputs": [
        {
          "output_type": "execute_result",
          "data": {
            "text/plain": [
              "(1, 4)"
            ]
          },
          "metadata": {},
          "execution_count": 60
        }
      ]
    },
    {
      "cell_type": "code",
      "source": [
        "import numpy as\n",
        "np.sqrt(16)"
      ],
      "metadata": {
        "colab": {
          "base_uri": "https://localhost:8080/"
        },
        "id": "WYmfE8cgVGcO",
        "outputId": "731593e2-6f5d-49aa-8027-b57a3bd437f5"
      },
      "execution_count": 63,
      "outputs": [
        {
          "output_type": "execute_result",
          "data": {
            "text/plain": [
              "4.0"
            ]
          },
          "metadata": {},
          "execution_count": 63
        }
      ]
    },
    {
      "cell_type": "code",
      "source": [
        "np.trunc(2.567), np.trunc(-2.567)"
      ],
      "metadata": {
        "colab": {
          "base_uri": "https://localhost:8080/"
        },
        "id": "5Xmp4OIRVaIu",
        "outputId": "7b1276a7-1609-465e-8a27-893137fd33c9"
      },
      "execution_count": 64,
      "outputs": [
        {
          "output_type": "execute_result",
          "data": {
            "text/plain": [
              "(2.0, -2.0)"
            ]
          },
          "metadata": {},
          "execution_count": 64
        }
      ]
    },
    {
      "cell_type": "code",
      "source": [
        "round(2.567), round(-2.567), round(2.567,2)"
      ],
      "metadata": {
        "colab": {
          "base_uri": "https://localhost:8080/"
        },
        "id": "pHxBVW4WWFDa",
        "outputId": "cf4d387d-a260-4602-8374-702eb6c29298"
      },
      "execution_count": 65,
      "outputs": [
        {
          "output_type": "execute_result",
          "data": {
            "text/plain": [
              "(3, -3, 2.57)"
            ]
          },
          "metadata": {},
          "execution_count": 65
        }
      ]
    },
    {
      "cell_type": "code",
      "source": [
        "'%.2f' % 2.567"
      ],
      "metadata": {
        "colab": {
          "base_uri": "https://localhost:8080/",
          "height": 36
        },
        "id": "r3F1DtQqWab3",
        "outputId": "7fa6a737-b2df-4ac5-d0c3-8b3b1395ff5e"
      },
      "execution_count": 66,
      "outputs": [
        {
          "output_type": "execute_result",
          "data": {
            "text/plain": [
              "'2.57'"
            ],
            "application/vnd.google.colaboratory.intrinsic+json": {
              "type": "string"
            }
          },
          "metadata": {},
          "execution_count": 66
        }
      ]
    },
    {
      "cell_type": "code",
      "source": [
        "import random\n",
        "random.random()"
      ],
      "metadata": {
        "colab": {
          "base_uri": "https://localhost:8080/"
        },
        "id": "jB_nIrc9XKwd",
        "outputId": "828d60cf-f1e1-4d30-d702-57c4de4e2a08"
      },
      "execution_count": 67,
      "outputs": [
        {
          "output_type": "execute_result",
          "data": {
            "text/plain": [
              "0.7708659004513969"
            ]
          },
          "metadata": {},
          "execution_count": 67
        }
      ]
    },
    {
      "cell_type": "code",
      "source": [
        "random.randint(1,10)"
      ],
      "metadata": {
        "colab": {
          "base_uri": "https://localhost:8080/"
        },
        "id": "ZJzUz_BvXrht",
        "outputId": "e31a2e5a-3ad9-4d34-a479-023ede374f47"
      },
      "execution_count": 68,
      "outputs": [
        {
          "output_type": "execute_result",
          "data": {
            "text/plain": [
              "10"
            ]
          },
          "metadata": {},
          "execution_count": 68
        }
      ]
    },
    {
      "cell_type": "code",
      "source": [
        "random.randrange(1,10)"
      ],
      "metadata": {
        "colab": {
          "base_uri": "https://localhost:8080/"
        },
        "id": "en7FPeZJXu-j",
        "outputId": "dddd6c61-3919-4fe6-d45f-91f8bde238d6"
      },
      "execution_count": 69,
      "outputs": [
        {
          "output_type": "execute_result",
          "data": {
            "text/plain": [
              "3"
            ]
          },
          "metadata": {},
          "execution_count": 69
        }
      ]
    },
    {
      "cell_type": "code",
      "source": [
        "random.choice([1,2,3,4])\n"
      ],
      "metadata": {
        "colab": {
          "base_uri": "https://localhost:8080/"
        },
        "id": "s22sBdz7Xxj5",
        "outputId": "8b5b8225-a47c-4042-893a-56133e33686e"
      },
      "execution_count": 71,
      "outputs": [
        {
          "output_type": "execute_result",
          "data": {
            "text/plain": [
              "2"
            ]
          },
          "metadata": {},
          "execution_count": 71
        }
      ]
    },
    {
      "cell_type": "code",
      "source": [
        "import decimal\n"
      ],
      "metadata": {
        "id": "Nrj0zIiVX4Oc"
      },
      "execution_count": 75,
      "outputs": []
    },
    {
      "cell_type": "code",
      "source": [
        "decimal.Decimal(1) / decimal.Decimal(7)\n"
      ],
      "metadata": {
        "colab": {
          "base_uri": "https://localhost:8080/"
        },
        "id": "bd_L5dYDZUNj",
        "outputId": "caa6e756-5d74-4f13-9c57-c57257c92394"
      },
      "execution_count": 78,
      "outputs": [
        {
          "output_type": "execute_result",
          "data": {
            "text/plain": [
              "Decimal('0.1428571428571428571428571429')"
            ]
          },
          "metadata": {},
          "execution_count": 78
        }
      ]
    },
    {
      "cell_type": "code",
      "source": [
        "from fractions import Fraction"
      ],
      "metadata": {
        "id": "IqdvZnvsZk_I"
      },
      "execution_count": 81,
      "outputs": []
    },
    {
      "cell_type": "code",
      "source": [
        "x=Fraction(1,3)\n",
        "y=Fraction(1,7)"
      ],
      "metadata": {
        "id": "lTczc-FkZ6gT"
      },
      "execution_count": 82,
      "outputs": []
    },
    {
      "cell_type": "code",
      "source": [
        "x\n"
      ],
      "metadata": {
        "colab": {
          "base_uri": "https://localhost:8080/"
        },
        "id": "SZz3MJdmaKuZ",
        "outputId": "704a428f-d5d8-41d5-e9ce-85b38aa7f0f4"
      },
      "execution_count": 83,
      "outputs": [
        {
          "output_type": "execute_result",
          "data": {
            "text/plain": [
              "Fraction(1, 3)"
            ]
          },
          "metadata": {},
          "execution_count": 83
        }
      ]
    },
    {
      "cell_type": "code",
      "source": [
        "y"
      ],
      "metadata": {
        "colab": {
          "base_uri": "https://localhost:8080/"
        },
        "id": "qq5uLPFaaL3r",
        "outputId": "8f9810ad-8c57-4980-e857-edb05b34fcbc"
      },
      "execution_count": 84,
      "outputs": [
        {
          "output_type": "execute_result",
          "data": {
            "text/plain": [
              "Fraction(1, 7)"
            ]
          },
          "metadata": {},
          "execution_count": 84
        }
      ]
    },
    {
      "cell_type": "code",
      "source": [
        "x*y"
      ],
      "metadata": {
        "colab": {
          "base_uri": "https://localhost:8080/"
        },
        "id": "EuNTKhG-aMUt",
        "outputId": "2c12421e-e4af-477e-d8ed-31574fb75640"
      },
      "execution_count": 85,
      "outputs": [
        {
          "output_type": "execute_result",
          "data": {
            "text/plain": [
              "Fraction(1, 21)"
            ]
          },
          "metadata": {},
          "execution_count": 85
        }
      ]
    },
    {
      "cell_type": "code",
      "source": [
        "x+y"
      ],
      "metadata": {
        "colab": {
          "base_uri": "https://localhost:8080/"
        },
        "id": "R21eeEhraO_n",
        "outputId": "bb342e1a-9c98-4a38-ca8f-9db70ae98fa2"
      },
      "execution_count": 86,
      "outputs": [
        {
          "output_type": "execute_result",
          "data": {
            "text/plain": [
              "Fraction(10, 21)"
            ]
          },
          "metadata": {},
          "execution_count": 86
        }
      ]
    },
    {
      "cell_type": "markdown",
      "source": [
        "SETS"
      ],
      "metadata": {
        "id": "JLmcc4Mdausz"
      }
    },
    {
      "cell_type": "code",
      "source": [
        "x=set('abcde')\n",
        "y=set('bcdf')"
      ],
      "metadata": {
        "id": "Nwlon6umaRgl"
      },
      "execution_count": 87,
      "outputs": []
    },
    {
      "cell_type": "code",
      "source": [
        "x"
      ],
      "metadata": {
        "colab": {
          "base_uri": "https://localhost:8080/"
        },
        "id": "yiXuByiLa6oC",
        "outputId": "9afcd427-54c4-4ec8-d811-c1d123980270"
      },
      "execution_count": 88,
      "outputs": [
        {
          "output_type": "execute_result",
          "data": {
            "text/plain": [
              "{'a', 'b', 'c', 'd', 'e'}"
            ]
          },
          "metadata": {},
          "execution_count": 88
        }
      ]
    },
    {
      "cell_type": "code",
      "source": [
        "y"
      ],
      "metadata": {
        "colab": {
          "base_uri": "https://localhost:8080/"
        },
        "id": "y0wMO7e4a8rX",
        "outputId": "127ecdfa-20d0-4739-bd76-d05f4d02b0bb"
      },
      "execution_count": 89,
      "outputs": [
        {
          "output_type": "execute_result",
          "data": {
            "text/plain": [
              "{'b', 'c', 'd', 'f'}"
            ]
          },
          "metadata": {},
          "execution_count": 89
        }
      ]
    },
    {
      "cell_type": "code",
      "source": [
        "'e' in x"
      ],
      "metadata": {
        "colab": {
          "base_uri": "https://localhost:8080/"
        },
        "id": "ERtOOfVfa9Ky",
        "outputId": "048f1bf5-4aff-4f30-d28b-f65e23a22d30"
      },
      "execution_count": 90,
      "outputs": [
        {
          "output_type": "execute_result",
          "data": {
            "text/plain": [
              "True"
            ]
          },
          "metadata": {},
          "execution_count": 90
        }
      ]
    },
    {
      "cell_type": "code",
      "source": [
        "x-y"
      ],
      "metadata": {
        "colab": {
          "base_uri": "https://localhost:8080/"
        },
        "id": "qlGiGeEHbAN1",
        "outputId": "1e4f2fbc-8bac-461f-a40f-66759fd49bfa"
      },
      "execution_count": 95,
      "outputs": [
        {
          "output_type": "execute_result",
          "data": {
            "text/plain": [
              "{'a', 'e'}"
            ]
          },
          "metadata": {},
          "execution_count": 95
        }
      ]
    },
    {
      "cell_type": "code",
      "source": [
        "x|y"
      ],
      "metadata": {
        "colab": {
          "base_uri": "https://localhost:8080/"
        },
        "id": "Z1Q-BtjgbCGC",
        "outputId": "fd5506b2-2988-406e-f8c1-84e1af101dd7"
      },
      "execution_count": 92,
      "outputs": [
        {
          "output_type": "execute_result",
          "data": {
            "text/plain": [
              "{'a', 'b', 'c', 'd', 'e', 'f'}"
            ]
          },
          "metadata": {},
          "execution_count": 92
        }
      ]
    },
    {
      "cell_type": "code",
      "source": [
        "x&y"
      ],
      "metadata": {
        "colab": {
          "base_uri": "https://localhost:8080/"
        },
        "id": "5ZnLL2l3bEwB",
        "outputId": "beca51bd-d2f0-420f-e0dd-3d618c0b1251"
      },
      "execution_count": 93,
      "outputs": [
        {
          "output_type": "execute_result",
          "data": {
            "text/plain": [
              "{'b', 'c', 'd'}"
            ]
          },
          "metadata": {},
          "execution_count": 93
        }
      ]
    },
    {
      "cell_type": "code",
      "source": [
        "x^y"
      ],
      "metadata": {
        "colab": {
          "base_uri": "https://localhost:8080/"
        },
        "id": "STZDaJl0bU6-",
        "outputId": "aa8175ba-961e-4c7c-bc01-d412643beaa9"
      },
      "execution_count": 94,
      "outputs": [
        {
          "output_type": "execute_result",
          "data": {
            "text/plain": [
              "{'a', 'e', 'f'}"
            ]
          },
          "metadata": {},
          "execution_count": 94
        }
      ]
    },
    {
      "cell_type": "code",
      "source": [
        "y-x"
      ],
      "metadata": {
        "colab": {
          "base_uri": "https://localhost:8080/"
        },
        "id": "Jok1U1tkbXZL",
        "outputId": "50096635-d700-4bd5-ef78-56e9bcdcfdbc"
      },
      "execution_count": 96,
      "outputs": [
        {
          "output_type": "execute_result",
          "data": {
            "text/plain": [
              "{'f'}"
            ]
          },
          "metadata": {},
          "execution_count": 96
        }
      ]
    },
    {
      "cell_type": "code",
      "source": [
        "z=x.intersection(y)"
      ],
      "metadata": {
        "id": "n_1ioUsSbkxv"
      },
      "execution_count": 97,
      "outputs": []
    },
    {
      "cell_type": "code",
      "source": [
        "z"
      ],
      "metadata": {
        "colab": {
          "base_uri": "https://localhost:8080/"
        },
        "id": "i1wn-d_BdKbH",
        "outputId": "0eab523e-6600-4959-d97c-688f5ff62304"
      },
      "execution_count": 99,
      "outputs": [
        {
          "output_type": "execute_result",
          "data": {
            "text/plain": [
              "{'b', 'c', 'd'}"
            ]
          },
          "metadata": {},
          "execution_count": 99
        }
      ]
    },
    {
      "cell_type": "code",
      "source": [
        "z.add(\"SPAM\")"
      ],
      "metadata": {
        "id": "WxX6xGjvdQJJ"
      },
      "execution_count": 100,
      "outputs": []
    },
    {
      "cell_type": "code",
      "source": [
        "z"
      ],
      "metadata": {
        "colab": {
          "base_uri": "https://localhost:8080/"
        },
        "id": "Uagj-e9PdZZ8",
        "outputId": "588e254c-8f4f-4c07-dcaa-b42f3cf64d75"
      },
      "execution_count": 101,
      "outputs": [
        {
          "output_type": "execute_result",
          "data": {
            "text/plain": [
              "{'SPAM', 'b', 'c', 'd'}"
            ]
          },
          "metadata": {},
          "execution_count": 101
        }
      ]
    },
    {
      "cell_type": "code",
      "source": [
        "z.remove('b')"
      ],
      "metadata": {
        "id": "K-GGbkuUda8Q"
      },
      "execution_count": 102,
      "outputs": []
    },
    {
      "cell_type": "code",
      "source": [
        "z"
      ],
      "metadata": {
        "colab": {
          "base_uri": "https://localhost:8080/"
        },
        "id": "avTQ9_KMdj_h",
        "outputId": "1bc7df0f-106f-4c62-9933-38443f7f455c"
      },
      "execution_count": 103,
      "outputs": [
        {
          "output_type": "execute_result",
          "data": {
            "text/plain": [
              "{'SPAM', 'c', 'd'}"
            ]
          },
          "metadata": {},
          "execution_count": 103
        }
      ]
    },
    {
      "cell_type": "code",
      "source": [
        "for item in set ('abcde'):\n",
        "  print(item*3)"
      ],
      "metadata": {
        "colab": {
          "base_uri": "https://localhost:8080/"
        },
        "id": "Qz-k8UjOdkti",
        "outputId": "37c3d3fc-105e-461e-e020-70bf89e9efaa"
      },
      "execution_count": 104,
      "outputs": [
        {
          "output_type": "stream",
          "name": "stdout",
          "text": [
            "aaa\n",
            "ddd\n",
            "ccc\n",
            "eee\n",
            "bbb\n"
          ]
        }
      ]
    },
    {
      "cell_type": "code",
      "source": [
        "for item in dict(a=1,b=2,c=3):\n",
        "  print(item)\n",
        "\n",
        ""
      ],
      "metadata": {
        "colab": {
          "base_uri": "https://localhost:8080/"
        },
        "id": "ICH3nCHaeZvb",
        "outputId": "8dbf9187-75c5-4d53-80d7-d261b3509e06"
      },
      "execution_count": 106,
      "outputs": [
        {
          "output_type": "stream",
          "name": "stdout",
          "text": [
            "a\n",
            "b\n",
            "c\n"
          ]
        }
      ]
    },
    {
      "cell_type": "code",
      "source": [
        "lst=[1,23,4,6,4]\n",
        "for item in lst:\n",
        "  print(item)"
      ],
      "metadata": {
        "colab": {
          "base_uri": "https://localhost:8080/"
        },
        "id": "C7nFTkipe6O7",
        "outputId": "03a27670-4deb-4610-f384-c5c25cb4a718"
      },
      "execution_count": 110,
      "outputs": [
        {
          "output_type": "stream",
          "name": "stdout",
          "text": [
            "1\n",
            "23\n",
            "4\n",
            "6\n",
            "4\n"
          ]
        }
      ]
    },
    {
      "cell_type": "code",
      "source": [
        "set([1,2,3,4]) #built in call\n",
        "{1,2,3,4} #3.0 set Literals"
      ],
      "metadata": {
        "colab": {
          "base_uri": "https://localhost:8080/"
        },
        "id": "Upb0eN4NfSvF",
        "outputId": "2837540d-f712-4531-c062-0fb57b5c5a1c"
      },
      "execution_count": 112,
      "outputs": [
        {
          "output_type": "execute_result",
          "data": {
            "text/plain": [
              "{1, 2, 3, 4}"
            ]
          },
          "metadata": {},
          "execution_count": 112
        }
      ]
    },
    {
      "cell_type": "markdown",
      "source": [
        "The int(S, base) function can be used to convert from octal and hexadecimal\n",
        " strings to normal integers (pass in 8, 16, or 2 for the base). The eval(S) function\n",
        " can be used for this purpose too, but it’s more expensive to run and can have\n",
        " security issues. Note that integers are always stored in binary in computer memory;\n",
        " these are just display string format conversions."
      ],
      "metadata": {
        "id": "LLdSo10XiifI"
      }
    },
    {
      "cell_type": "code",
      "source": [
        "print(int('64'), int('100', 8), int('40',16), int('1000000', 2))\n",
        "print(eval('64'), eval('0o100'), eval('0x40'), eval('0b1000000'))\n",
        "print('{0:o}, {0:x}, {0:b}'.format(64,64,64))\n",
        "print(\"%o, %x, %X\" % (64,255,255))\n"
      ],
      "metadata": {
        "colab": {
          "base_uri": "https://localhost:8080/"
        },
        "id": "R0VGeWE5gIxZ",
        "outputId": "d34ae318-8e8c-440e-e0ad-b34729536123"
      },
      "execution_count": 113,
      "outputs": [
        {
          "output_type": "stream",
          "name": "stdout",
          "text": [
            "64 64 64 64\n",
            "64 64 64 64\n",
            "100, 40, 1000000\n",
            "100, ff, FF\n"
          ]
        }
      ]
    },
    {
      "cell_type": "markdown",
      "source": [
        "in python types are determined automatically at runrime, not in responce to declaratoion in your code\n",
        "\n"
      ],
      "metadata": {
        "id": "mngDKEiFieVj"
      }
    },
    {
      "cell_type": "markdown",
      "source": [
        "## Variable Creation and Types in Python\n",
        "\n",
        "**Variable Creation**\n",
        "\n",
        "* Variables are created by assigning a value to a name.\n",
        "* Naming conventions: start with a letter or underscore, letters, numbers, and underscores only, case-sensitive, not a reserved keyword.\n",
        "\n",
        "**Variable Types**\n",
        "\n",
        "* Python is dynamically typed.\n",
        "* Variables themselves don't have types, they refer to objects with types.\n",
        "* Common data types: numbers, strings, lists, tuples, dictionaries, booleans.\n",
        "\n",
        "**Variable Use**\n",
        "\n",
        "* Variables are replaced with their current values in expressions.\n",
        "* Variables must be assigned before use.\n"
      ],
      "metadata": {
        "id": "NvxYaimfkRTi"
      }
    },
    {
      "cell_type": "markdown",
      "source": [
        "## Memory Management in a System\n",
        "\n",
        "This section describes how variables and objects interact in memory:\n",
        "\n",
        "* **Variables:** Entries in a system table holding links (pointers) to objects.\n",
        "* **Objects:** Allocated memory units storing the actual data values.\n",
        "* **References:** Variables automatically follow pointers to access objects and their data.\n"
      ],
      "metadata": {
        "id": "sxp3NG-nkxxV"
      }
    },
    {
      "cell_type": "markdown",
      "source": [
        "## Python's Garbage Collection\n",
        "\n",
        "Python automatically manages memory by reclaiming space used by objects that are no longer referenced. This memory cleanup process is known as garbage collection.\n"
      ],
      "metadata": {
        "id": "KTNmG5eTl6Du"
      }
    },
    {
      "cell_type": "markdown",
      "source": [
        "## Shared References in Python\n",
        "\n",
        "Python allows multiple variable names to point to the same object in memory. This creates a shared reference. Changes made through one variable name will affect the object's value, which is then reflected by all other variables referencing it.\n"
      ],
      "metadata": {
        "id": "zqvZdWKtmzyO"
      }
    },
    {
      "cell_type": "code",
      "source": [
        "a=3\n",
        "b=a\n",
        "a='Spam'"
      ],
      "metadata": {
        "id": "nbbK7uAChwVZ"
      },
      "execution_count": 114,
      "outputs": []
    },
    {
      "cell_type": "code",
      "source": [
        "a\n"
      ],
      "metadata": {
        "colab": {
          "base_uri": "https://localhost:8080/",
          "height": 36
        },
        "id": "FAvWhcWCnRn7",
        "outputId": "7301ffe4-3ffd-40c4-8fca-94582286ff88"
      },
      "execution_count": 115,
      "outputs": [
        {
          "output_type": "execute_result",
          "data": {
            "text/plain": [
              "'Spam'"
            ],
            "application/vnd.google.colaboratory.intrinsic+json": {
              "type": "string"
            }
          },
          "metadata": {},
          "execution_count": 115
        }
      ]
    },
    {
      "cell_type": "code",
      "source": [
        "b"
      ],
      "metadata": {
        "colab": {
          "base_uri": "https://localhost:8080/"
        },
        "id": "Lqp3cHBHnU4Q",
        "outputId": "7f073be9-96b2-4ac9-934e-fc81b24024b7"
      },
      "execution_count": 116,
      "outputs": [
        {
          "output_type": "execute_result",
          "data": {
            "text/plain": [
              "3"
            ]
          },
          "metadata": {},
          "execution_count": 116
        }
      ]
    },
    {
      "cell_type": "markdown",
      "source": [
        "create class shape and calculate area and circumference"
      ],
      "metadata": {
        "id": "WFcLIvFz4HuM"
      }
    },
    {
      "cell_type": "code",
      "source": [
        "import math"
      ],
      "metadata": {
        "id": "AHo06uLN4fdS"
      },
      "execution_count": 117,
      "outputs": []
    },
    {
      "cell_type": "code",
      "source": [
        "class Shape:\n",
        "    def __init__(self, radius,length,breadth):\n",
        "        self.radius = radius\n",
        "        self.length=length\n",
        "        self.breadth=breadth\n",
        "\n",
        "    def rarea(self):\n",
        "        return self.length*self.breadth\n",
        "\n",
        "    def rperimeter(self):\n",
        "        return 2*(self.length+self.breadth)\n",
        "\n",
        "    def area(self):\n",
        "        return math.pi * self.radius ** 2\n",
        "\n",
        "    def circumference(self):\n",
        "        return 2 * math.pi * self.radius\n",
        "\n",
        "cir=Shape(10,0,0)\n",
        "print(cir.area())\n",
        "print(cir.circumference())\n",
        "\n",
        "rec=Shape(0,10,10)\n",
        "print(rec.rarea())\n",
        "print(rec.rperimeter())"
      ],
      "metadata": {
        "colab": {
          "base_uri": "https://localhost:8080/"
        },
        "id": "2E3dmr5Z4vNs",
        "outputId": "115c838d-d9e6-4a5a-d176-81e11e2e7a67"
      },
      "execution_count": 135,
      "outputs": [
        {
          "output_type": "stream",
          "name": "stdout",
          "text": [
            "314.1592653589793\n",
            "62.83185307179586\n",
            "100\n",
            "40\n"
          ]
        }
      ]
    },
    {
      "cell_type": "markdown",
      "source": [
        "| Operation                           | Interpretation                                      |\n",
        "|-------------------------------------|-----------------------------------------------------|\n",
        "| S = ''                              | Empty string                                        |\n",
        "| S = \"spam's\"                        | Double quotes, same as single                       |\n",
        "| S = '\\s\\np\\t\\ta\\x00m'               | Escape sequences                                    |\n",
        "| S = \"\"\"...\"\"\"                       | Triple-quoted block strings                         |\n",
        "| S = r'\\temp\\spam'                   | Raw strings                                         |\n",
        "| S = b'spam'                         | Byte strings in 3.0 (Chapter 36)                    |\n",
        "| S = u'spam'                         | Unicode strings in 2.6 only (Chapter 37)            |\n",
        "| S1 + S2                             | Concatenate, repeat                                 |\n",
        "| S * 3                               |                                                     |\n",
        "| S[i]                                | Index, slice, length                                |\n",
        "| S[i:j]                              |                                                     |\n",
        "| len(S)                              |                                                     |\n",
        "| \"a %s parrot\" % kind                | String formatting expression                        |\n",
        "| \"a {0} parrot\".format(kind)         | String formatting method in 2.6 and 3.0             |\n",
        "| S.find('pa')                        | String method calls: search,                        |\n",
        "| S.rstrip()                          | remove whitespace,                                  |\n",
        "| S.replace('pa', 'xx')               | replacement,                                        |\n",
        "| S.split(',')                        | split on delimiter,                                 |\n",
        "| S.isdigit()                         | content test,                                       |\n",
        "| S.lower()                           | case conversion,                                    |\n",
        "| S.endswith('spam')                  | end test,                                           |\n",
        "| 'spam'.join(strlist)                | delimiter join,                                     |\n",
        "| S.encode('latin-1')                 | Unicode encoding, etc.                              |\n",
        "| for x in S: print(x)                | Iteration, membership                               |\n",
        "| 'spam' in S                         |                                                     |\n",
        "| [c * 2 for c in S]                  |                                                     |\n",
        "| map(ord, S)                         |                                                     |\n"
      ],
      "metadata": {
        "id": "UA2oXfxYDitF"
      }
    },
    {
      "cell_type": "code",
      "source": [
        "S = ''\n",
        "print(S)  # Output: ''\n"
      ],
      "metadata": {
        "colab": {
          "base_uri": "https://localhost:8080/"
        },
        "id": "W1dCPUB2D_Mw",
        "outputId": "cacd5fd8-429b-4f54-a6d4-2e81c0f58ba1"
      },
      "execution_count": 136,
      "outputs": [
        {
          "output_type": "stream",
          "name": "stdout",
          "text": [
            "\n"
          ]
        }
      ]
    },
    {
      "cell_type": "code",
      "source": [
        "S = \"spam's\"\n",
        "print(S)  # Output: spam's\n"
      ],
      "metadata": {
        "colab": {
          "base_uri": "https://localhost:8080/"
        },
        "id": "v0Ma1NdeEAG5",
        "outputId": "91c7b602-1f85-4f0a-d80e-65dbb6118a97"
      },
      "execution_count": 137,
      "outputs": [
        {
          "output_type": "stream",
          "name": "stdout",
          "text": [
            "spam's\n"
          ]
        }
      ]
    },
    {
      "cell_type": "code",
      "source": [
        "S = 's\\np\\tal\\x00m'\n",
        "print(S)  # Output:\n",
        "          # s\n",
        "          # p\n"
      ],
      "metadata": {
        "colab": {
          "base_uri": "https://localhost:8080/"
        },
        "id": "u_pVgojEECN1",
        "outputId": "233d6908-ff76-4211-be1b-4b47540f0876"
      },
      "execution_count": 161,
      "outputs": [
        {
          "output_type": "stream",
          "name": "stdout",
          "text": [
            "s\n",
            "p\tal\u0000m\n"
          ]
        }
      ]
    },
    {
      "cell_type": "code",
      "source": [
        "S = \"\"\"spam\"\"\"\n",
        "print(S)  # Output: spam\n"
      ],
      "metadata": {
        "colab": {
          "base_uri": "https://localhost:8080/"
        },
        "id": "z-QBS5KUEEfe",
        "outputId": "3572cc23-1ca2-40ff-fa85-fc8a51e45723"
      },
      "execution_count": 139,
      "outputs": [
        {
          "output_type": "stream",
          "name": "stdout",
          "text": [
            "spam\n"
          ]
        }
      ]
    },
    {
      "cell_type": "code",
      "source": [
        "S = r'\\temp\\spam'\n",
        "print(S)  # Output: \\temp\\spam\n"
      ],
      "metadata": {
        "colab": {
          "base_uri": "https://localhost:8080/"
        },
        "id": "jZ9y-jLzEIjT",
        "outputId": "a4d46967-80f7-48a1-f2db-fb5f09605a40"
      },
      "execution_count": 140,
      "outputs": [
        {
          "output_type": "stream",
          "name": "stdout",
          "text": [
            "\\temp\\spam\n"
          ]
        }
      ]
    },
    {
      "cell_type": "code",
      "source": [
        "S = b'spam'\n",
        "print(S)  # Output: b'spam'\n"
      ],
      "metadata": {
        "colab": {
          "base_uri": "https://localhost:8080/"
        },
        "id": "xiRa0t_xEMBA",
        "outputId": "e289462f-2ef9-4104-8d1e-bee6a68ea0b8"
      },
      "execution_count": 141,
      "outputs": [
        {
          "output_type": "stream",
          "name": "stdout",
          "text": [
            "b'spam'\n"
          ]
        }
      ]
    },
    {
      "cell_type": "code",
      "source": [
        "S = u'spam'\n",
        "print(S)  # Output: spam\n"
      ],
      "metadata": {
        "colab": {
          "base_uri": "https://localhost:8080/"
        },
        "id": "U84DxPtSEN4-",
        "outputId": "282c9e6f-e80d-4ee6-ae03-ac0a61cc54dd"
      },
      "execution_count": 142,
      "outputs": [
        {
          "output_type": "stream",
          "name": "stdout",
          "text": [
            "spam\n"
          ]
        }
      ]
    },
    {
      "cell_type": "code",
      "source": [
        "S1 = \"spam\"\n",
        "S2 = \"s\"\n",
        "result = S1 + S2\n",
        "print(result)  # Output: spams\n",
        "\n",
        "result = S1 * 3\n",
        "print(result)  # Output: spamspamspam\n"
      ],
      "metadata": {
        "colab": {
          "base_uri": "https://localhost:8080/"
        },
        "id": "EZXD66ZHEPv9",
        "outputId": "b6d432a3-e672-46ae-d5a0-3378fe42c680"
      },
      "execution_count": 143,
      "outputs": [
        {
          "output_type": "stream",
          "name": "stdout",
          "text": [
            "spams\n",
            "spamspamspam\n"
          ]
        }
      ]
    },
    {
      "cell_type": "code",
      "source": [
        "S = \"spam\"\n",
        "print(S[0])  # Output: s\n",
        "print(S[1:3])  # Output: pa\n",
        "print(len(S))  # Output: 4\n"
      ],
      "metadata": {
        "colab": {
          "base_uri": "https://localhost:8080/"
        },
        "id": "rYy3szmQESEJ",
        "outputId": "c75c6e78-fa91-4408-ec81-6f2d23879f79"
      },
      "execution_count": 144,
      "outputs": [
        {
          "output_type": "stream",
          "name": "stdout",
          "text": [
            "s\n",
            "pa\n",
            "4\n"
          ]
        }
      ]
    },
    {
      "cell_type": "code",
      "source": [
        "kind = \"parrot\"\n",
        "S = \"a %s parrot\" % kind\n",
        "print(S)  # Output: a parrot parrot\n"
      ],
      "metadata": {
        "colab": {
          "base_uri": "https://localhost:8080/"
        },
        "id": "siU4TklxEUef",
        "outputId": "8467fcba-4255-4d0a-950d-20e122c82d65"
      },
      "execution_count": 145,
      "outputs": [
        {
          "output_type": "stream",
          "name": "stdout",
          "text": [
            "a parrot parrot\n"
          ]
        }
      ]
    },
    {
      "cell_type": "code",
      "source": [
        "S = \"spam\"\n",
        "print(S.find('pa'))  # Output: 1\n"
      ],
      "metadata": {
        "colab": {
          "base_uri": "https://localhost:8080/"
        },
        "id": "Ah7pncs_EWix",
        "outputId": "f5157da1-55ac-4558-a513-a24a9fcd9c70"
      },
      "execution_count": 146,
      "outputs": [
        {
          "output_type": "stream",
          "name": "stdout",
          "text": [
            "1\n"
          ]
        }
      ]
    },
    {
      "cell_type": "code",
      "source": [
        "S = \"spam \"\n",
        "print(S.rstrip())  # Output: spam\n"
      ],
      "metadata": {
        "colab": {
          "base_uri": "https://localhost:8080/"
        },
        "id": "5d6nPzYYEYj4",
        "outputId": "b3956f8f-68ad-4e5d-f121-a73992bf2537"
      },
      "execution_count": 147,
      "outputs": [
        {
          "output_type": "stream",
          "name": "stdout",
          "text": [
            "spam\n"
          ]
        }
      ]
    },
    {
      "cell_type": "code",
      "source": [
        "S = \"spam\"\n",
        "print(S.replace('pa', 'xx'))  # Output: sxxm\n"
      ],
      "metadata": {
        "colab": {
          "base_uri": "https://localhost:8080/"
        },
        "id": "05TslW-WEaYn",
        "outputId": "d1aa224f-02ad-4952-faf2-b79de52670dd"
      },
      "execution_count": 148,
      "outputs": [
        {
          "output_type": "stream",
          "name": "stdout",
          "text": [
            "sxxm\n"
          ]
        }
      ]
    },
    {
      "cell_type": "code",
      "source": [
        "S = \"spam\"\n",
        "print(S.split('a'))  # Output: ['sp', 'm']\n"
      ],
      "metadata": {
        "colab": {
          "base_uri": "https://localhost:8080/"
        },
        "id": "nk3a7y2kEeZe",
        "outputId": "50b9594c-1924-446f-88d1-2a9999cfb2aa"
      },
      "execution_count": 149,
      "outputs": [
        {
          "output_type": "stream",
          "name": "stdout",
          "text": [
            "['sp', 'm']\n"
          ]
        }
      ]
    },
    {
      "cell_type": "code",
      "source": [
        "S = \"12345\"\n",
        "print(S.isdigit())  # Output: True\n"
      ],
      "metadata": {
        "colab": {
          "base_uri": "https://localhost:8080/"
        },
        "id": "QZix-KmdEjP4",
        "outputId": "6b488d91-e045-4a7a-dd44-f6ff573a7a71"
      },
      "execution_count": 150,
      "outputs": [
        {
          "output_type": "stream",
          "name": "stdout",
          "text": [
            "True\n"
          ]
        }
      ]
    },
    {
      "cell_type": "code",
      "source": [
        "S = \"Spam\"\n",
        "print(S.lower())  # Output: spam\n",
        "\n"
      ],
      "metadata": {
        "colab": {
          "base_uri": "https://localhost:8080/"
        },
        "id": "R37n-kGgEksZ",
        "outputId": "29832a4e-1e8a-43d2-a4b7-90df75f3f780"
      },
      "execution_count": 151,
      "outputs": [
        {
          "output_type": "stream",
          "name": "stdout",
          "text": [
            "spam\n"
          ]
        }
      ]
    },
    {
      "cell_type": "code",
      "source": [
        "S = \"spam\"\n",
        "print(S.endswith('pam'))  # Output: True\n"
      ],
      "metadata": {
        "colab": {
          "base_uri": "https://localhost:8080/"
        },
        "id": "RDXaZuh4Emuf",
        "outputId": "e53d9dfa-4c23-4e29-e8b1-f452fee5e423"
      },
      "execution_count": 152,
      "outputs": [
        {
          "output_type": "stream",
          "name": "stdout",
          "text": [
            "True\n"
          ]
        }
      ]
    },
    {
      "cell_type": "code",
      "source": [
        "strlist = ['eggs', 'and', 'spam']\n",
        "print(' '.join(strlist))  # Output: eggs and spam\n"
      ],
      "metadata": {
        "colab": {
          "base_uri": "https://localhost:8080/"
        },
        "id": "6WtVnKABEonX",
        "outputId": "302fb17c-15ae-4828-af58-e275ddc246d8"
      },
      "execution_count": 153,
      "outputs": [
        {
          "output_type": "stream",
          "name": "stdout",
          "text": [
            "eggs and spam\n"
          ]
        }
      ]
    },
    {
      "cell_type": "code",
      "source": [
        "S = \"spam\"\n",
        "print(S.encode('latin-1'))  # Output: b'spam'\n"
      ],
      "metadata": {
        "colab": {
          "base_uri": "https://localhost:8080/"
        },
        "id": "UNHWe52eEq8n",
        "outputId": "64b4a0e8-cc16-42e1-92b8-22a782f4a7ef"
      },
      "execution_count": 154,
      "outputs": [
        {
          "output_type": "stream",
          "name": "stdout",
          "text": [
            "b'spam'\n"
          ]
        }
      ]
    },
    {
      "cell_type": "code",
      "source": [
        "S = \"spam\"\n",
        "for x in S:\n",
        "    print(x)  # Output:\n",
        "              # s\n",
        "              # p\n",
        "              # a\n",
        "              # m\n"
      ],
      "metadata": {
        "colab": {
          "base_uri": "https://localhost:8080/"
        },
        "id": "UXfw_kxTEt1n",
        "outputId": "e9f04d35-7bf9-424a-d996-1212e4beef54"
      },
      "execution_count": 155,
      "outputs": [
        {
          "output_type": "stream",
          "name": "stdout",
          "text": [
            "s\n",
            "p\n",
            "a\n",
            "m\n"
          ]
        }
      ]
    },
    {
      "cell_type": "code",
      "source": [
        "S = \"spam\"\n",
        "print('spam' in S)  # Output: True\n"
      ],
      "metadata": {
        "colab": {
          "base_uri": "https://localhost:8080/"
        },
        "id": "jiqWUccoEvQc",
        "outputId": "9d426f8f-4278-4837-812e-19b4af80aae6"
      },
      "execution_count": 156,
      "outputs": [
        {
          "output_type": "stream",
          "name": "stdout",
          "text": [
            "True\n"
          ]
        }
      ]
    },
    {
      "cell_type": "code",
      "source": [
        "S = \"spam\"\n",
        "result = [c * 2 for c in S]\n",
        "print(result)  # Output: ['ss', 'pp', 'aa', 'mm']\n"
      ],
      "metadata": {
        "colab": {
          "base_uri": "https://localhost:8080/"
        },
        "id": "a_qiwCFbExhF",
        "outputId": "d03ef7a6-6342-4e5f-a56f-f06d579670d5"
      },
      "execution_count": 157,
      "outputs": [
        {
          "output_type": "stream",
          "name": "stdout",
          "text": [
            "['ss', 'pp', 'aa', 'mm']\n"
          ]
        }
      ]
    },
    {
      "cell_type": "code",
      "source": [
        "S = \"spam\"\n",
        "result = list(map(ord, S))\n",
        "print(result)  # Output: [115, 112, 97, 109]\n"
      ],
      "metadata": {
        "colab": {
          "base_uri": "https://localhost:8080/"
        },
        "id": "TfD7DrWHE0Jq",
        "outputId": "880a83dc-1560-467a-cb81-b8e1c8581faf"
      },
      "execution_count": 158,
      "outputs": [
        {
          "output_type": "stream",
          "name": "stdout",
          "text": [
            "[115, 112, 97, 109]\n"
          ]
        }
      ]
    },
    {
      "cell_type": "code",
      "source": [
        "ord('s')"
      ],
      "metadata": {
        "colab": {
          "base_uri": "https://localhost:8080/"
        },
        "id": "zf-E8pMxE2No",
        "outputId": "0725a3ce-add4-41e6-d1fb-ae4e5e1fe44d"
      },
      "execution_count": 159,
      "outputs": [
        {
          "output_type": "execute_result",
          "data": {
            "text/plain": [
              "115"
            ]
          },
          "metadata": {},
          "execution_count": 159
        }
      ]
    },
    {
      "cell_type": "code",
      "source": [
        "chr(115)"
      ],
      "metadata": {
        "colab": {
          "base_uri": "https://localhost:8080/",
          "height": 36
        },
        "id": "vdY6VeTYFY5d",
        "outputId": "5eb10801-0a94-488a-90d3-3033bfb08127"
      },
      "execution_count": 160,
      "outputs": [
        {
          "output_type": "execute_result",
          "data": {
            "text/plain": [
              "'s'"
            ],
            "application/vnd.google.colaboratory.intrinsic+json": {
              "type": "string"
            }
          },
          "metadata": {},
          "execution_count": 160
        }
      ]
    },
    {
      "cell_type": "markdown",
      "source": [
        "| Operation                                | Interpretation                                                            |\n",
        "|------------------------------------------|---------------------------------------------------------------------------|\n",
        "| S.capitalize()                           | Capitalize the first character of S                                       |\n",
        "| S.center(width [, fill])                 | Center S in a string of length width, padding with fill (default is space)|\n",
        "| S.count(sub [, start [, end]])           | Count the occurrences of substring sub in S[start:end]                    |\n",
        "| S.encode([encoding [,errors]])           | Encode S using the given encoding and error handling scheme               |\n",
        "| S.ljust(width [, fill])                  | Left-justify S in a string of length width, padding with fill (default is space)|\n",
        "| S.lower()                                | Convert all characters in S to lowercase                                  |\n",
        "| S.lstrip([chars])                        | Remove leading characters from S (default is whitespace)                  |\n",
        "| S.maketrans(x[, y[, z]])                 | Return a translation table usable for str.translate()                     |\n",
        "| S.endswith(suffix [, start [, end]])     | Check if S ends with the specified suffix in S[start:end]                 |\n",
        "| S.partition(sep)                         | Split S at the first occurrence of sep, returning a 3-tuple               |\n",
        "| S.expandtabs([tabsize])                  | Expand tabs in S to multiple spaces (default tabsize is 8)                |\n",
        "| S.find(sub [, start [, end]])            | Return the lowest index in S where substring sub is found                 |\n",
        "| S.format(fmtstr, *args, **kwargs)        | Perform string formatting on S                                            |\n",
        "| S.index(sub [, start [, end]])           | Like S.find() but raise ValueError if substring not found                 |\n",
        "| S.isalnum()                              | Check if all characters in S are alphanumeric                             |\n",
        "| S.isalpha()                              | Check if all characters in S are alphabetic                               |\n",
        "| S.isdecimal()                            | Check if all characters in S are decimal                                  |\n",
        "| S.isdigit()                              | Check if all characters in S are digits                                   |\n",
        "| S.replace(old, new [, count])            | Return a copy of S with all occurrences of substring old replaced by new  |\n",
        "| S.rfind(sub [,start [,end]])             | Return the highest index in S where substring sub is found                |\n",
        "| S.rindex(sub [, start [, end]])          | Like S.rfind() but raise ValueError if substring not found                |\n",
        "| S.rjust(width [, fill])                  | Right-justify S in a string of length width, padding with fill (default is space)|\n",
        "| S.rpartition(sep)                        | Split S at the last occurrence of sep, returning a 3-tuple                |\n",
        "| S.rsplit([sep[, maxsplit]])              | Split S from the right at sep into a list of strings                      |\n",
        "| S.rstrip([chars])                        | Remove trailing characters from S (default is whitespace)                 |\n",
        "| S.split([sep [,maxsplit]])               | Split S at sep into a list of strings                                     |\n",
        "| S.isidentifier()                         | Check if S is a valid identifier                                          |\n",
        "| S.splitlines([keepends])                 | Split S at line breaks, optionally keeping them                           |\n",
        "| S.islower()                              | Check if all characters in S are lowercase                                |\n",
        "| S.isnumeric()                            | Check if all characters in S are numeric                                  |\n",
        "| S.isprintable()                          | Check if all characters in S are printable                                |\n",
        "| S.isspace()                              | Check if all characters in S are whitespace                               |\n",
        "| S.istitle()                              | Check if S is titlecased                                                  |\n",
        "| S.isupper()                              | Check if all characters in S are uppercase                                |\n",
        "| S.join(iterable)                         | Join elements of iterable with S as delimiter                             |\n",
        "| S.startswith(prefix [, start [, end]])   | Check if S starts with the specified prefix in S[start:end]               |\n",
        "| S.strip([chars])                         | Remove leading and trailing characters from S (default is whitespace)     |\n",
        "| S.swapcase()                             | Convert uppercase characters to lowercase and vice versa                  |\n",
        "| S.title()                                | Convert S to titlecase                                                    |\n",
        "| S.translate(map)                         | Return a copy of S translated by the given translation table              |\n",
        "| S.upper()                                | Convert all characters in S to uppercase                                  |\n",
        "| S.zfill(width)                           | Pad S on the left with zeros to fill a string of length width             |\n"
      ],
      "metadata": {
        "id": "L126HoM_HMuQ"
      }
    },
    {
      "cell_type": "code",
      "source": [
        "s='nfnfhbfhb'\n",
        "s=s.replace('n','m')\n",
        "s"
      ],
      "metadata": {
        "colab": {
          "base_uri": "https://localhost:8080/",
          "height": 36
        },
        "id": "SBRr6wgeFbwT",
        "outputId": "07597786-e7ac-4064-9fec-494c7c5f96bf"
      },
      "execution_count": 162,
      "outputs": [
        {
          "output_type": "execute_result",
          "data": {
            "text/plain": [
              "'mfmfhbfhb'"
            ],
            "application/vnd.google.colaboratory.intrinsic+json": {
              "type": "string"
            }
          },
          "metadata": {},
          "execution_count": 162
        }
      ]
    },
    {
      "cell_type": "code",
      "source": [
        "s='jaedcndkjbshdvsdspamdjnujdvhbvspam'\n",
        "s.find('spam')"
      ],
      "metadata": {
        "colab": {
          "base_uri": "https://localhost:8080/"
        },
        "id": "fmuAzvSaGe6P",
        "outputId": "77f8bcf6-7e4d-4a23-cddf-db33036a4294"
      },
      "execution_count": 163,
      "outputs": [
        {
          "output_type": "execute_result",
          "data": {
            "text/plain": [
              "16"
            ]
          },
          "metadata": {},
          "execution_count": 163
        }
      ]
    },
    {
      "cell_type": "code",
      "source": [],
      "metadata": {
        "id": "aQ6GOnfVHikE"
      },
      "execution_count": null,
      "outputs": []
    }
  ]
}