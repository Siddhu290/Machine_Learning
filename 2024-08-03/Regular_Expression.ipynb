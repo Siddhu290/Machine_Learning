{
  "cells": [
    {
      "cell_type": "markdown",
      "metadata": {
        "id": "view-in-github",
        "colab_type": "text"
      },
      "source": [
        "<a href=\"https://colab.research.google.com/github/Siddhu290/Machine_Learning/blob/main/2024-08-03/Regular_Expression.ipynb\" target=\"_parent\"><img src=\"https://colab.research.google.com/assets/colab-badge.svg\" alt=\"Open In Colab\"/></a>"
      ]
    },
    {
      "cell_type": "markdown",
      "source": [
        "# Regex\n",
        "\n",
        "## Key Points\n",
        "\n",
        "1. **Definition**\n",
        "   - Regex is a sequence of characters that define a search pattern, primarily used for string-matching algorithms.\n",
        "\n",
        "2. **Pattern Matching**\n",
        "   - Regex allows you to find and manipulate strings based on specific patterns, such as identifying email addresses, phone numbers, dates, or specific words.\n",
        "\n",
        "3. **Metacharacters**\n",
        "   - `.`: Matches any character except a newline.\n",
        "   - `^`: Matches the start of a string.\n",
        "   - `$`: Matches the end of a string.\n",
        "   - `*`: Matches 0 or more repetitions of the preceding element.\n",
        "   - `+`: Matches 1 or more repetitions of the preceding element.\n",
        "   - `?`: Matches 0 or 1 repetition of the preceding element.\n",
        "   - `[]`: Matches any one of the enclosed characters.\n",
        "   - `|`: Acts like a boolean OR.\n",
        "   - `()`: Groups patterns together.\n",
        "\n",
        "4. **Character Classes**\n",
        "   - `\\d`: Matches any digit.\n",
        "   - `\\D`: Matches any non-digit.\n",
        "   - `\\w`: Matches any word character (alphanumeric plus underscore).\n",
        "   - `\\W`: Matches any non-word character.\n",
        "   - `\\s`: Matches any whitespace character.\n",
        "   - `\\S`: Matches any non-whitespace character.\n",
        "\n",
        "5. **Quantifiers**\n",
        "   - `{n}`: Matches exactly n occurrences of the preceding element.\n",
        "   - `{n,}`: Matches n or more occurrences.\n",
        "   - `{n,m}`: Matches between n and m occurrences.\n",
        "\n",
        "6. **Escaping Special Characters**\n",
        "   - Use a backslash (`\\`) to escape special characters if you need to match them literally.\n",
        "\n",
        "7. **Anchors**\n",
        "   - `\\b`: Matches a word boundary.\n",
        "   - `\\B`: Matches a non-word boundary.\n",
        "\n",
        "8. **Substitution and Replacement**\n",
        "   - Regex can be used to replace parts of a string using patterns and replacement strings.\n",
        "\n",
        "9. **Regex Tools and Libraries**\n",
        "   - Many programming languages have built-in support for regex, such as Python's `re` module, JavaScript's `RegExp` object, and similar functionalities in languages like Perl, Java, and PHP.\n",
        "\n",
        "10. **Use Cases**\n",
        "    - **Data Validation**: Checking formats of email addresses, phone numbers, postal codes, etc.\n",
        "    - **Text Processing**: Extracting information, cleaning text, and modifying strings.\n",
        "    - **Data Extraction**: Pulling out specific information from large text datasets.\n",
        "    - **Search and Replace**: Modifying parts of text based on patterns.\n",
        "\n",
        "Understanding and effectively using regex can significantly enhance text processing and analysis capabilities, making it a valuable skill in data science and software development.\n"
      ],
      "metadata": {
        "id": "obo5eAPGSH-G"
      },
      "id": "obo5eAPGSH-G"
    },
    {
      "cell_type": "code",
      "execution_count": 80,
      "id": "627d533c",
      "metadata": {
        "colab": {
          "base_uri": "https://localhost:8080/"
        },
        "id": "627d533c",
        "outputId": "2853c226-cf51-4027-93cf-063a238e4cbf"
      },
      "outputs": [
        {
          "output_type": "stream",
          "name": "stdout",
          "text": [
            "matchObj.group() :  Cats are smarter than dogs\n",
            "matchObj.group(1) :  Cats\n",
            "matchObj.group(2) :  smarter\n"
          ]
        }
      ],
      "source": [
        "import re\n",
        "line = \"Cats are smarter than dogs\"\n",
        "matchObj = re.match( r'(.*) are (.*?) .*', line, re.M|re.I)\n",
        "if matchObj:\n",
        "    print(\"matchObj.group() : \", matchObj.group())\n",
        "    print(\"matchObj.group(1) : \", matchObj.group(1))\n",
        "    print(\"matchObj.group(2) : \", matchObj.group(2))\n",
        "else:\n",
        "    print(\"No match!!\"  )"
      ]
    },
    {
      "cell_type": "markdown",
      "id": "9cf85ffc",
      "metadata": {
        "id": "9cf85ffc"
      },
      "source": [
        "- match is done in start only and search is done over any position"
      ]
    },
    {
      "cell_type": "code",
      "execution_count": 81,
      "id": "ab0d576c",
      "metadata": {
        "colab": {
          "base_uri": "https://localhost:8080/"
        },
        "id": "ab0d576c",
        "outputId": "8f205bd0-aea8-4737-84f0-0f6d8464b710"
      },
      "outputs": [
        {
          "output_type": "stream",
          "name": "stdout",
          "text": [
            "No match!!\n",
            "search --> matchObj.group() :  dogs\n"
          ]
        }
      ],
      "source": [
        "line = \"Cats are smarter than dogs\";\n",
        "matchObj = re.match( r'dogs', line, re.M|re.I)\n",
        "if matchObj:\n",
        "    print(\"match --> matchObj.group() : \", matchObj.group())\n",
        "else:\n",
        "    print(\"No match!!\")\n",
        "    matchObj = re.search( r'dogs', line)\n",
        "if matchObj:\n",
        "    print(\"search --> matchObj.group() : \", matchObj.group())\n",
        "else:\n",
        "    print(\"No match!!\")\n"
      ]
    },
    {
      "cell_type": "markdown",
      "id": "39a1585c",
      "metadata": {
        "id": "39a1585c"
      },
      "source": [
        "# replace"
      ]
    },
    {
      "cell_type": "code",
      "execution_count": 82,
      "id": "16f8d767",
      "metadata": {
        "colab": {
          "base_uri": "https://localhost:8080/"
        },
        "id": "16f8d767",
        "outputId": "1b182d6a-548a-4fd9-e73a-20589a508a68"
      },
      "outputs": [
        {
          "output_type": "stream",
          "name": "stdout",
          "text": [
            "Phone Num :  2004-959-559 \n",
            "Phone Num :  2004959559\n"
          ]
        }
      ],
      "source": [
        "\n",
        "phone = \"2004-959-559 # This is Phone Number\"\n",
        "# Delete Python-style comments\n",
        "num = re.sub(r'#.*$', \"\", phone)\n",
        "print(\"Phone Num : \", num)\n",
        "# Remove anything other than digits\n",
        "num = re.sub(r'\\D', \"\", phone)\n",
        "print(\"Phone Num : \", num)\n"
      ]
    },
    {
      "cell_type": "markdown",
      "id": "aa88504d",
      "metadata": {
        "id": "aa88504d"
      },
      "source": [
        "#### regular expression patterns\n",
        "\n"
      ]
    },
    {
      "cell_type": "markdown",
      "id": "1130a5f1",
      "metadata": {
        "id": "1130a5f1"
      },
      "source": [
        "#### write a program in python where in given stirng there is noise in form of special character use regular expression to fetch string without noise\n"
      ]
    },
    {
      "cell_type": "code",
      "execution_count": 83,
      "id": "a406abec",
      "metadata": {
        "scrolled": true,
        "colab": {
          "base_uri": "https://localhost:8080/"
        },
        "id": "a406abec",
        "outputId": "9137743e-6e86-45ac-c47a-704d84c5c78e"
      },
      "outputs": [
        {
          "output_type": "stream",
          "name": "stdout",
          "text": [
            "hjksafd\n"
          ]
        }
      ],
      "source": [
        "str1='hjksafd@@,,'\n",
        "num = re.sub(r'[^a-zA-Z0-9]',\"\", str1)\n",
        "print( num)\n"
      ]
    },
    {
      "cell_type": "code",
      "execution_count": 84,
      "id": "464f464f",
      "metadata": {
        "colab": {
          "base_uri": "https://localhost:8080/"
        },
        "id": "464f464f",
        "outputId": "b4defffd-df48-40c6-b61b-0ccf2e20539a"
      },
      "outputs": [
        {
          "output_type": "stream",
          "name": "stdout",
          "text": [
            "6\n"
          ]
        }
      ],
      "source": [
        "s=123456       # print the last element of it\n",
        "x=s%10\n",
        "print(x)\n"
      ]
    },
    {
      "cell_type": "code",
      "execution_count": 85,
      "id": "0e97b088",
      "metadata": {
        "id": "0e97b088"
      },
      "outputs": [],
      "source": [
        "# which removes repeated charcters in start of the string\n"
      ]
    },
    {
      "cell_type": "code",
      "execution_count": 86,
      "id": "ab37d740",
      "metadata": {
        "colab": {
          "base_uri": "https://localhost:8080/"
        },
        "id": "ab37d740",
        "outputId": "01666188-8507-49a0-8c73-94b55f484399"
      },
      "outputs": [
        {
          "output_type": "stream",
          "name": "stdout",
          "text": [
            "['12', '89', '34']\n"
          ]
        }
      ],
      "source": [
        "# find all\n",
        "import re\n",
        "string='hello 12 hi 89 .howdy 34'\n",
        "pattern='\\d+'  #small d is used for digits and D is used for non digits\n",
        "\n",
        "result=re.findall(pattern,string)\n",
        "print(result)\n"
      ]
    },
    {
      "cell_type": "code",
      "execution_count": 87,
      "id": "e602037b",
      "metadata": {
        "colab": {
          "base_uri": "https://localhost:8080/"
        },
        "id": "e602037b",
        "outputId": "8233adc7-362f-4a9d-c2b5-29330d44a726"
      },
      "outputs": [
        {
          "output_type": "stream",
          "name": "stdout",
          "text": [
            "['h', 'e', 'l', 'l', 'o', 'h', 'i', 'h', 'o', 'w', 'd', 'y']\n"
          ]
        }
      ],
      "source": [
        "# find all\n",
        "import re\n",
        "string='hello 12 hi 89 .howdy 34'\n",
        "pattern='[A-Za-z]'  #small d is used for digits and D is used for non digits\n",
        "\n",
        "result=re.findall(pattern,string)\n",
        "print(result)\n"
      ]
    },
    {
      "cell_type": "code",
      "execution_count": 88,
      "id": "cb55238f",
      "metadata": {
        "colab": {
          "base_uri": "https://localhost:8080/"
        },
        "id": "cb55238f",
        "outputId": "08cde606-a7df-4ff5-d876-3ccf0727166c"
      },
      "outputs": [
        {
          "output_type": "stream",
          "name": "stdout",
          "text": [
            "['hello ', ' hi ', ' .howdy ', '']\n"
          ]
        }
      ],
      "source": [
        "#split\n",
        "# find all\n",
        "import re\n",
        "string='hello 12 hi 89 .howdy 34'\n",
        "pattern='\\d+'  #small d is used for digits and D is used for non digits\n",
        "\n",
        "result=re.split(pattern,string)\n",
        "print(result)\n"
      ]
    },
    {
      "cell_type": "code",
      "execution_count": 89,
      "id": "e7206943",
      "metadata": {
        "colab": {
          "base_uri": "https://localhost:8080/"
        },
        "id": "e7206943",
        "outputId": "cc6e24c1-9eb0-445e-a3fb-0a36d2d780b8"
      },
      "outputs": [
        {
          "output_type": "stream",
          "name": "stdout",
          "text": [
            "['hello ', ' hi 89 .howdy 34']\n",
            "2\n"
          ]
        }
      ],
      "source": [
        "#split\n",
        "# find all\n",
        "import re\n",
        "string='hello 12 hi 89 .howdy 34'\n",
        "pattern='\\d+'\n",
        "\n",
        "result=re.split(pattern,string,1)\n",
        "print(result)\n",
        "print(len(result))\n"
      ]
    },
    {
      "cell_type": "code",
      "execution_count": 90,
      "id": "2e23c2c9",
      "metadata": {
        "colab": {
          "base_uri": "https://localhost:8080/"
        },
        "id": "2e23c2c9",
        "outputId": "229216e2-54df-4265-c099-04b9de1e908a"
      },
      "outputs": [
        {
          "output_type": "stream",
          "name": "stdout",
          "text": [
            "abc12\\de23f456\n"
          ]
        }
      ],
      "source": [
        "# mitiline stirng\n",
        "string='abc 12\\ de 23 \\n f45 6'\n",
        "\n",
        "# matches all whitespace character\n",
        "pattern='\\s+'\n",
        "\n",
        "# empty string\n",
        "replace=''\n",
        "\n",
        "new_string=re.sub(pattern,replace,string)\n",
        "print(new_string)"
      ]
    },
    {
      "cell_type": "code",
      "execution_count": 91,
      "id": "791b188d",
      "metadata": {
        "colab": {
          "base_uri": "https://localhost:8080/"
        },
        "id": "791b188d",
        "outputId": "476609b4-f85e-4cfc-8f39-54cf51d62db5"
      },
      "outputs": [
        {
          "output_type": "stream",
          "name": "stdout",
          "text": [
            "6\n"
          ]
        }
      ],
      "source": [
        "import re\n",
        "string='hello 12 hi 89 .howdy 34 '\n",
        "pattern='\\S+'\n",
        "\n",
        "result=re.sub(pattern,'',string)\n",
        "print(len(result))"
      ]
    },
    {
      "cell_type": "code",
      "execution_count": 92,
      "id": "246ea75c",
      "metadata": {
        "colab": {
          "base_uri": "https://localhost:8080/"
        },
        "id": "246ea75c",
        "outputId": "8b62674c-fcec-4d71-a354-faa07a23fedd"
      },
      "outputs": [
        {
          "output_type": "stream",
          "name": "stdout",
          "text": [
            "abc12\\ de 23 \n",
            " f45 6\n"
          ]
        }
      ],
      "source": [
        "# mitiline stirng\n",
        "string='abc 12\\ de 23 \\n f45 6'\n",
        "\n",
        "# matches all whitespace character\n",
        "pattern='\\s+'\n",
        "replace=''\n",
        "\n",
        "new_string=re.sub(pattern,replace,string,1)\n",
        "print(new_string)"
      ]
    },
    {
      "cell_type": "markdown",
      "id": "5406bcfc",
      "metadata": {
        "id": "5406bcfc"
      },
      "source": [
        "### subn() it returns a tuple of 2 items\n",
        "\n"
      ]
    },
    {
      "cell_type": "code",
      "execution_count": 93,
      "id": "b84046ce",
      "metadata": {
        "colab": {
          "base_uri": "https://localhost:8080/"
        },
        "id": "b84046ce",
        "outputId": "cadd532b-05bd-41cc-e579-ffd41ae21a78"
      },
      "outputs": [
        {
          "output_type": "stream",
          "name": "stdout",
          "text": [
            "('abc12\\\\de23f456', 5)\n"
          ]
        }
      ],
      "source": [
        "# mitiline stirng\n",
        "string='abc 12\\ de 23 \\n f45 6'\n",
        "\n",
        "# matches all whitespace character\n",
        "pattern='\\s+'\n",
        "replace=''\n",
        "\n",
        "new_string=re.subn(pattern,replace,string)\n",
        "print(new_string)"
      ]
    },
    {
      "cell_type": "code",
      "execution_count": 94,
      "id": "bb52ed00",
      "metadata": {
        "colab": {
          "base_uri": "https://localhost:8080/"
        },
        "id": "bb52ed00",
        "outputId": "f84c9333-3a78-448b-f15b-a81a28a310aa"
      },
      "outputs": [
        {
          "output_type": "stream",
          "name": "stdout",
          "text": [
            "pattern found inside the string\n"
          ]
        }
      ],
      "source": [
        "# mitiline stirng\n",
        "string='Python is fun'\n",
        "match=re.search('[Pp]ython',string)\n",
        "if match:\n",
        "    print('pattern found inside the string')\n",
        "else :\n",
        "    print('pattern not found ')"
      ]
    },
    {
      "cell_type": "code",
      "execution_count": 95,
      "id": "bfe24d45",
      "metadata": {
        "colab": {
          "base_uri": "https://localhost:8080/"
        },
        "id": "bfe24d45",
        "outputId": "fe82bc52-cafc-4ca5-8423-dc6fe698a954"
      },
      "outputs": [
        {
          "output_type": "stream",
          "name": "stdout",
          "text": [
            "801 35\n"
          ]
        }
      ],
      "source": [
        "string='39801 356 ,2102 1111'\n",
        "pattern='(\\d{3}) (\\d{2})'\n",
        "\n",
        "match=re.search(pattern,string)\n",
        "if match:\n",
        "    print(match.group())\n",
        "else :\n",
        "    print('pattern not found ')"
      ]
    },
    {
      "cell_type": "code",
      "execution_count": 96,
      "id": "05265c5d",
      "metadata": {
        "colab": {
          "base_uri": "https://localhost:8080/",
          "height": 35
        },
        "id": "05265c5d",
        "outputId": "81a443a6-96c8-4d6e-9ce9-dfb3d5141828"
      },
      "outputs": [
        {
          "output_type": "execute_result",
          "data": {
            "text/plain": [
              "'801'"
            ],
            "application/vnd.google.colaboratory.intrinsic+json": {
              "type": "string"
            }
          },
          "metadata": {},
          "execution_count": 96
        }
      ],
      "source": [
        "match.group(1)"
      ]
    },
    {
      "cell_type": "code",
      "execution_count": 97,
      "id": "0241d658",
      "metadata": {
        "colab": {
          "base_uri": "https://localhost:8080/",
          "height": 35
        },
        "id": "0241d658",
        "outputId": "70909a10-9629-4039-c500-2c686a15ccc7"
      },
      "outputs": [
        {
          "output_type": "execute_result",
          "data": {
            "text/plain": [
              "'35'"
            ],
            "application/vnd.google.colaboratory.intrinsic+json": {
              "type": "string"
            }
          },
          "metadata": {},
          "execution_count": 97
        }
      ],
      "source": [
        "match.group(2)"
      ]
    },
    {
      "cell_type": "code",
      "execution_count": 98,
      "id": "cbdbcbbc",
      "metadata": {
        "colab": {
          "base_uri": "https://localhost:8080/"
        },
        "id": "cbdbcbbc",
        "outputId": "c012e7b6-57a5-47e7-9e90-ad80febc335b"
      },
      "outputs": [
        {
          "output_type": "execute_result",
          "data": {
            "text/plain": [
              "('801', '35')"
            ]
          },
          "metadata": {},
          "execution_count": 98
        }
      ],
      "source": [
        "match.group(1,2)"
      ]
    },
    {
      "cell_type": "code",
      "execution_count": 99,
      "id": "70ac7daf",
      "metadata": {
        "colab": {
          "base_uri": "https://localhost:8080/"
        },
        "id": "70ac7daf",
        "outputId": "ce4556f4-edad-4b51-e36e-36126ff41d5b"
      },
      "outputs": [
        {
          "output_type": "execute_result",
          "data": {
            "text/plain": [
              "2"
            ]
          },
          "metadata": {},
          "execution_count": 99
        }
      ],
      "source": [
        "match.start()"
      ]
    },
    {
      "cell_type": "code",
      "source": [
        "match.end()"
      ],
      "metadata": {
        "colab": {
          "base_uri": "https://localhost:8080/"
        },
        "id": "4pgM8ghxfW7C",
        "outputId": "45073a5e-0426-4127-b7a8-1348c6842542"
      },
      "id": "4pgM8ghxfW7C",
      "execution_count": 100,
      "outputs": [
        {
          "output_type": "execute_result",
          "data": {
            "text/plain": [
              "8"
            ]
          },
          "metadata": {},
          "execution_count": 100
        }
      ]
    },
    {
      "cell_type": "code",
      "source": [
        "match.span()"
      ],
      "metadata": {
        "colab": {
          "base_uri": "https://localhost:8080/"
        },
        "id": "j570TZZTfYwW",
        "outputId": "739e3562-3bc2-488b-9905-052e5f0b55a7"
      },
      "id": "j570TZZTfYwW",
      "execution_count": 101,
      "outputs": [
        {
          "output_type": "execute_result",
          "data": {
            "text/plain": [
              "(2, 8)"
            ]
          },
          "metadata": {},
          "execution_count": 101
        }
      ]
    },
    {
      "cell_type": "code",
      "source": [
        "match.re\n",
        "re.compile(\"(\\\\d{3}) (\\\\d{2})\")\n",
        "\n"
      ],
      "metadata": {
        "colab": {
          "base_uri": "https://localhost:8080/"
        },
        "id": "OIhJVFQxfjU3",
        "outputId": "9b0186f8-f9f7-4e1f-e91a-360270394493"
      },
      "id": "OIhJVFQxfjU3",
      "execution_count": 102,
      "outputs": [
        {
          "output_type": "execute_result",
          "data": {
            "text/plain": [
              "re.compile(r'(\\d{3}) (\\d{2})', re.UNICODE)"
            ]
          },
          "metadata": {},
          "execution_count": 102
        }
      ]
    },
    {
      "cell_type": "code",
      "source": [
        "match.string"
      ],
      "metadata": {
        "colab": {
          "base_uri": "https://localhost:8080/",
          "height": 35
        },
        "id": "ISO_o-qfgzYE",
        "outputId": "87c9f8ed-5eb7-440d-c26e-0c5999468aaf"
      },
      "id": "ISO_o-qfgzYE",
      "execution_count": 103,
      "outputs": [
        {
          "output_type": "execute_result",
          "data": {
            "text/plain": [
              "'39801 356 ,2102 1111'"
            ],
            "application/vnd.google.colaboratory.intrinsic+json": {
              "type": "string"
            }
          },
          "metadata": {},
          "execution_count": 103
        }
      ]
    },
    {
      "cell_type": "code",
      "source": [
        "string=\"\\n and \\r are escape sequences.\"\n",
        "result=re.findall(r'[\\n\\r]',string)\n",
        "print(result)"
      ],
      "metadata": {
        "colab": {
          "base_uri": "https://localhost:8080/"
        },
        "id": "Cn5x3w0xg4vL",
        "outputId": "8148355c-3cbe-43aa-f0ce-965423a68137"
      },
      "id": "Cn5x3w0xg4vL",
      "execution_count": 104,
      "outputs": [
        {
          "output_type": "stream",
          "name": "stdout",
          "text": [
            "['\\n', '\\r']\n"
          ]
        }
      ]
    },
    {
      "cell_type": "code",
      "source": [
        "#this code uses a regular expression to search for the pattern \"brown.fox\" within the string the dot (.) in the pattern represents any character. if a match found, it prints \"Match found!\" otherwie it prints \"Match not Found\"\n",
        "\n",
        "if re.search(r\"brown.fox\", \"The quick brown fox jumps over the lazy dog.\"):\n",
        "    print(\"Match found!\")\n",
        "else:\n",
        "    print(\"Match not Found\")\n"
      ],
      "metadata": {
        "colab": {
          "base_uri": "https://localhost:8080/"
        },
        "id": "xc1Nq2X8jQlh",
        "outputId": "ab375de4-ddf0-4977-e4ee-682438f2afde"
      },
      "id": "xc1Nq2X8jQlh",
      "execution_count": 105,
      "outputs": [
        {
          "output_type": "stream",
          "name": "stdout",
          "text": [
            "Match found!\n"
          ]
        }
      ]
    },
    {
      "cell_type": "code",
      "source": [
        "# this a code uses a regular expresiion (\\d+) to find all the sequence of one oe more digits in the given string it searches for numeric values and stores them in a list in the example it finds and prints the number \"123456789\" and \"987654321\" from the input string\n",
        "\n",
        "matches = re.findall(r\"(\\d+)\", \"This string contains numbers like 123456789 and 987654321.\")\n",
        "\n",
        "print(matches)\n"
      ],
      "metadata": {
        "colab": {
          "base_uri": "https://localhost:8080/"
        },
        "id": "pZtObbeKkesl",
        "outputId": "cb274da0-ad7c-4a6b-fe95-ae4816b53f89"
      },
      "id": "pZtObbeKkesl",
      "execution_count": 106,
      "outputs": [
        {
          "output_type": "stream",
          "name": "stdout",
          "text": [
            "['123456789', '987654321']\n"
          ]
        }
      ]
    },
    {
      "cell_type": "code",
      "source": [
        "#write aprogram to cheak the string contaings following patterns to characters followed by space and then numbers\n",
        "\n",
        "if re.search(r'[a-zA-Z]\\s\\d+' , \"A123\"):\n",
        "    print(\"matched\")\n",
        "else:\n",
        "    print(\"not matched\")\n",
        "\n"
      ],
      "metadata": {
        "colab": {
          "base_uri": "https://localhost:8080/"
        },
        "id": "hiZn13iHyQU7",
        "outputId": "941ae35e-dc8d-4ca7-9e52-a08bbe47d95f"
      },
      "id": "hiZn13iHyQU7",
      "execution_count": 107,
      "outputs": [
        {
          "output_type": "stream",
          "name": "stdout",
          "text": [
            "not matched\n"
          ]
        }
      ]
    },
    {
      "cell_type": "code",
      "source": [
        "#write a program to cheak string ending with \"ey\" or \"EY\"\n",
        "\n",
        "if re.search(r\"([eyEY]) | ([eyEY]\\b)\",\"Hello World Money ends\"):\n",
        "    print(\"ends\")\n",
        "else:\n",
        "    print(\"not ends\")\n",
        "\n"
      ],
      "metadata": {
        "colab": {
          "base_uri": "https://localhost:8080/"
        },
        "id": "cQAvZbSa06Tj",
        "outputId": "9b235293-52f1-4fb6-99e7-c7ad2ea49ee2"
      },
      "id": "cQAvZbSa06Tj",
      "execution_count": 108,
      "outputs": [
        {
          "output_type": "stream",
          "name": "stdout",
          "text": [
            "ends\n"
          ]
        }
      ]
    },
    {
      "cell_type": "code",
      "source": [
        "#write a program to match all the string or words ending with special characters thus count the sam e\n",
        "\n",
        "matches = re.findall(r'\\w+[^\\w\\s]', \"the ndcbdjchb$ yfyjgjf f@\")\n",
        "print(len(matches))"
      ],
      "metadata": {
        "colab": {
          "base_uri": "https://localhost:8080/"
        },
        "id": "6EjnbDRt6BMs",
        "outputId": "2d7f078f-a9b2-4236-e1f3-372eab6104f9"
      },
      "id": "6EjnbDRt6BMs",
      "execution_count": 109,
      "outputs": [
        {
          "output_type": "stream",
          "name": "stdout",
          "text": [
            "2\n"
          ]
        }
      ]
    },
    {
      "cell_type": "code",
      "source": [
        "#cound words in a sentence using rejax\n",
        "\n",
        "string = \"\"\"hello how are you\n",
        "gh prasad\"\"\"\n",
        "pattern = r'\\w+'\n",
        "words = re.findall(pattern, string)\n",
        "print(len(words))\n"
      ],
      "metadata": {
        "colab": {
          "base_uri": "https://localhost:8080/"
        },
        "id": "ZNcHPfofP_Ct",
        "outputId": "6c356d46-ab16-4d87-ec7f-d03f1e771947"
      },
      "id": "ZNcHPfofP_Ct",
      "execution_count": 110,
      "outputs": [
        {
          "output_type": "stream",
          "name": "stdout",
          "text": [
            "6\n"
          ]
        }
      ]
    },
    {
      "cell_type": "code",
      "source": [
        "pattern_a=r\"\\D+\"\n",
        "pattern_b=r\"\\d+\"\n",
        "\n",
        "a_values=[]\n",
        "b_values=[]\n",
        "\n",
        "with open(\"/content/hello.txt\",\"r\") as file:\n",
        "    for line in file:\n",
        "        match_a=re.findall(pattern_a,line)\n",
        "        match_b=re.findall(pattern_b,line)\n",
        "\n",
        "        a_values.extend(match_a)\n",
        "        b_values.extend(match_b)\n",
        "\n",
        "    print(a_values)\n",
        "    print(b_values)"
      ],
      "metadata": {
        "colab": {
          "base_uri": "https://localhost:8080/"
        },
        "id": "yHnBN7WHQp2q",
        "outputId": "056efb7b-37ec-4166-95bc-12bf5829afb5"
      },
      "id": "yHnBN7WHQp2q",
      "execution_count": 111,
      "outputs": [
        {
          "output_type": "stream",
          "name": "stdout",
          "text": [
            "['dbadhdfdha adhayd ygdaiy digdidi  iu au iua  fhb gy ayfg  haiygy iay ya fiy fhfcgvcahhbgcg uyyacy yf ay chjvc avc  yccyvdc vc uyvcyv cv hjcvaydcvbad bcia b vn jvbvysvb yufbvuyfdvjhvb u', 'r', ' ', 'r', ' ', 'r ', 'rt', 'ft', 'f', 'f', 'f', '   ', ' ', 'vx', 'c', 'vcx', ' ', ' ', 'f', 'c', ' vcfsycgf ', 'e', ' ', '  ', '  #$#@  # ', ' ', '$## # c RTDER D', 'E RDFFTRfdtrfvdjagdt  ', 'a', 'ed', 'fecdfh $$##@$#', '@ sytd', '$## \\n', 'hgvhtgftyg\\n', 'hjvgh']\n",
            "['3826', '566', '7', '6', '4', '6346874', '6', '36', '6346', '3', '6', '6', '665', '76', '5', '765675675', '65', '655', '67', '5', '3', '23', '32', '24', '3', '53', '5', '43', '54', '2', '2', '432']\n"
          ]
        }
      ]
    },
    {
      "cell_type": "code",
      "source": [
        "text=\"The rain in spain fdalls mainly in the Plain\"\n",
        "match=re.findall(r\"\\w*l+\\w\",text)\n",
        "print(match)"
      ],
      "metadata": {
        "colab": {
          "base_uri": "https://localhost:8080/"
        },
        "id": "H9mhDQjvTGbC",
        "outputId": "9f5e86c1-b686-494c-f9e9-20e1789560ed"
      },
      "id": "H9mhDQjvTGbC",
      "execution_count": 114,
      "outputs": [
        {
          "output_type": "stream",
          "name": "stdout",
          "text": [
            "['fdalls', 'mainly', 'Pla']\n"
          ]
        }
      ]
    },
    {
      "cell_type": "code",
      "source": [
        "text=\"Jphn: 120 , Bill: 110 , ted: 115 \"\n",
        "pat = r\"\\w+: 1[2-9][1-9]\\s\"\n",
        "k = re.findall(pat,text)"
      ],
      "metadata": {
        "id": "Jvn7_3k7ZOqC"
      },
      "id": "Jvn7_3k7ZOqC",
      "execution_count": 188,
      "outputs": []
    },
    {
      "cell_type": "code",
      "source": [
        "k"
      ],
      "metadata": {
        "colab": {
          "base_uri": "https://localhost:8080/"
        },
        "id": "pVxaiY6EbtM8",
        "outputId": "49cd1bbe-ddc5-46e4-ef66-4fc96e5e846e"
      },
      "id": "pVxaiY6EbtM8",
      "execution_count": 189,
      "outputs": [
        {
          "output_type": "execute_result",
          "data": {
            "text/plain": [
              "[]"
            ]
          },
          "metadata": {},
          "execution_count": 189
        }
      ]
    },
    {
      "cell_type": "markdown",
      "source": [
        "```markdown\n",
        "# CSV File Structure\n",
        "\n",
        "- **Rows**: Each row in the CSV file corresponds to a record in the table.\n",
        "- **Columns**: Each field within a row represents a column.\n",
        "- **Separator**: Typically, commas (`,`), but other delimiters like semicolons (`;`) or tabs can also be used.\n",
        "- **Headers**: Often, the first row contains the column headers, but this is not mandatory.\n",
        "\n",
        "## Example CSV File\n",
        "\n",
        "```csv\n",
        "Name,Age,Occupation\n",
        "Alice,30,Engineer\n",
        "Bob,25,Designer\n",
        "Charlie,35,Teacher\n",
        "```\n",
        "\n",
        "## Using Regex to Parse CSV Files\n",
        "\n",
        "While libraries like `csv` in Python are commonly used to handle CSV files, regular expressions can be utilized to parse and validate the content of a CSV file. Here are some common patterns and tasks you might perform using regex:\n",
        "\n",
        "### Matching a Simple CSV Line\n",
        "\n",
        "- **Pattern**: `r'([^,]+),([^,]+),([^,]+)'`\n",
        "- **Explanation**: This pattern matches a line with three fields separated by commas.\n",
        "- **Example**: For the line `Alice,30,Engineer`, the pattern will match:\n",
        "  - Group 1: `Alice`\n",
        "  - Group 2: `30`\n",
        "  - Group 3: `Engineer`\n",
        "\n",
        "### Matching a CSV Line with Quoted Fields\n",
        "\n",
        "- **Pattern**: `r'\"([^\"]+)\"|([^,]+),|\"([^\"]+)\"|([^,]+),|\"([^\"]+)\"|([^,]+)'`\n",
        "- **Explanation**: This pattern can handle fields enclosed in double quotes and fields without quotes.\n",
        "- **Example**: For the line `\"Alice\",30,\"Engineer\"`, the pattern will match:\n",
        "  - Group 1: `Alice`\n",
        "  - Group 2: `30`\n",
        "  - Group 3: `Engineer`\n",
        "\n",
        "### Handling Escaped Quotes in Fields\n",
        "\n",
        "- **Pattern**: `r'\"((?:[^\"]|\"\")*)\",?|([^,]+),?'`\n",
        "- **Explanation**: This pattern matches fields where double quotes inside a field are escaped by doubling them (`\"\"`).\n",
        "- **Example**: For the line `\"Alice \"\"The Great\"\",30,\"\"Engineer\"\"`, the pattern will match:\n",
        "  - Group 1: `Alice \"The Great\"`\n",
        "  - Group 2: `30`\n",
        "  - Group 3: `Engineer`\n",
        "\n",
        "## Full Example Using Python and Regex\n",
        "\n",
        "Here is an example of how you might use regex in Python to parse a simple CSV file:\n",
        "\n",
        "```python\n",
        "import re\n",
        "\n",
        "csv_text = \"\"\"Name,Age,Occupation\n",
        "Alice,30,Engineer\n",
        "Bob,25,Designer\n",
        "Charlie,35,Teacher\"\"\"\n",
        "\n",
        "# Define regex pattern for a simple CSV line\n",
        "pattern = re.compile(r'([^,]+),([^,]+),([^,]+)')\n",
        "\n",
        "# Split the text into lines\n",
        "lines = csv_text.split('\\n')\n",
        "\n",
        "# Parse header\n",
        "header = lines[0].split(',')\n",
        "print(\"Headers:\", header)\n",
        "\n",
        "# Parse each data line using regex\n",
        "for line in lines[1:]:\n",
        "    match = pattern.match(line)\n",
        "    if match:\n",
        "        print(\"Parsed Line:\", match.groups())\n",
        "```\n",
        "\n",
        "### Explanation of the Code\n",
        "\n",
        "- `pattern = re.compile(r'([^,]+),([^,]+),([^,]+)')`: Compiles a regex pattern to match three fields separated by commas.\n",
        "- `lines = csv_text.split('\\n')`: Splits the CSV text into individual lines.\n",
        "- `header = lines[0].split(',')`: Splits the first line to get the headers.\n",
        "- `match = pattern.match(line)`: Matches each subsequent line against the compiled regex pattern and prints the parsed groups.\n",
        "\n",
        "## Summary\n",
        "\n",
        "Using regex for CSV parsing is more complex than using dedicated CSV handling libraries due to the various edge cases in CSV formats (such as quoted fields and escaped characters). However, regex can be useful for simple parsing tasks or validating CSV format in specific scenarios.\n",
        "```"
      ],
      "metadata": {
        "id": "IahEHQs_gh8y"
      },
      "id": "IahEHQs_gh8y"
    },
    {
      "cell_type": "code",
      "source": [
        "import pandas as pd\n",
        "df = pd.read_csv(\"/content/xyz.csv\")\n",
        "df"
      ],
      "metadata": {
        "colab": {
          "base_uri": "https://localhost:8080/",
          "height": 175
        },
        "id": "EkTfr_bSm_YE",
        "outputId": "536164b3-8110-4ddb-aa54-ca400d0f54c6"
      },
      "id": "EkTfr_bSm_YE",
      "execution_count": 202,
      "outputs": [
        {
          "output_type": "execute_result",
          "data": {
            "text/plain": [
              "              A           B     C\n",
              "0   custom word  2024-08-01  $300\n",
              "1  another word  2023-07-31  $200\n",
              "2   custom word  2022-12-25  €202\n",
              "3   random word  2020-01-01  €250"
            ],
            "text/html": [
              "\n",
              "  <div id=\"df-b4aa4c66-4c74-48b3-84a9-94ecf509938b\" class=\"colab-df-container\">\n",
              "    <div>\n",
              "<style scoped>\n",
              "    .dataframe tbody tr th:only-of-type {\n",
              "        vertical-align: middle;\n",
              "    }\n",
              "\n",
              "    .dataframe tbody tr th {\n",
              "        vertical-align: top;\n",
              "    }\n",
              "\n",
              "    .dataframe thead th {\n",
              "        text-align: right;\n",
              "    }\n",
              "</style>\n",
              "<table border=\"1\" class=\"dataframe\">\n",
              "  <thead>\n",
              "    <tr style=\"text-align: right;\">\n",
              "      <th></th>\n",
              "      <th>A</th>\n",
              "      <th>B</th>\n",
              "      <th>C</th>\n",
              "    </tr>\n",
              "  </thead>\n",
              "  <tbody>\n",
              "    <tr>\n",
              "      <th>0</th>\n",
              "      <td>custom word</td>\n",
              "      <td>2024-08-01</td>\n",
              "      <td>$300</td>\n",
              "    </tr>\n",
              "    <tr>\n",
              "      <th>1</th>\n",
              "      <td>another word</td>\n",
              "      <td>2023-07-31</td>\n",
              "      <td>$200</td>\n",
              "    </tr>\n",
              "    <tr>\n",
              "      <th>2</th>\n",
              "      <td>custom word</td>\n",
              "      <td>2022-12-25</td>\n",
              "      <td>€202</td>\n",
              "    </tr>\n",
              "    <tr>\n",
              "      <th>3</th>\n",
              "      <td>random word</td>\n",
              "      <td>2020-01-01</td>\n",
              "      <td>€250</td>\n",
              "    </tr>\n",
              "  </tbody>\n",
              "</table>\n",
              "</div>\n",
              "    <div class=\"colab-df-buttons\">\n",
              "\n",
              "  <div class=\"colab-df-container\">\n",
              "    <button class=\"colab-df-convert\" onclick=\"convertToInteractive('df-b4aa4c66-4c74-48b3-84a9-94ecf509938b')\"\n",
              "            title=\"Convert this dataframe to an interactive table.\"\n",
              "            style=\"display:none;\">\n",
              "\n",
              "  <svg xmlns=\"http://www.w3.org/2000/svg\" height=\"24px\" viewBox=\"0 -960 960 960\">\n",
              "    <path d=\"M120-120v-720h720v720H120Zm60-500h600v-160H180v160Zm220 220h160v-160H400v160Zm0 220h160v-160H400v160ZM180-400h160v-160H180v160Zm440 0h160v-160H620v160ZM180-180h160v-160H180v160Zm440 0h160v-160H620v160Z\"/>\n",
              "  </svg>\n",
              "    </button>\n",
              "\n",
              "  <style>\n",
              "    .colab-df-container {\n",
              "      display:flex;\n",
              "      gap: 12px;\n",
              "    }\n",
              "\n",
              "    .colab-df-convert {\n",
              "      background-color: #E8F0FE;\n",
              "      border: none;\n",
              "      border-radius: 50%;\n",
              "      cursor: pointer;\n",
              "      display: none;\n",
              "      fill: #1967D2;\n",
              "      height: 32px;\n",
              "      padding: 0 0 0 0;\n",
              "      width: 32px;\n",
              "    }\n",
              "\n",
              "    .colab-df-convert:hover {\n",
              "      background-color: #E2EBFA;\n",
              "      box-shadow: 0px 1px 2px rgba(60, 64, 67, 0.3), 0px 1px 3px 1px rgba(60, 64, 67, 0.15);\n",
              "      fill: #174EA6;\n",
              "    }\n",
              "\n",
              "    .colab-df-buttons div {\n",
              "      margin-bottom: 4px;\n",
              "    }\n",
              "\n",
              "    [theme=dark] .colab-df-convert {\n",
              "      background-color: #3B4455;\n",
              "      fill: #D2E3FC;\n",
              "    }\n",
              "\n",
              "    [theme=dark] .colab-df-convert:hover {\n",
              "      background-color: #434B5C;\n",
              "      box-shadow: 0px 1px 3px 1px rgba(0, 0, 0, 0.15);\n",
              "      filter: drop-shadow(0px 1px 2px rgba(0, 0, 0, 0.3));\n",
              "      fill: #FFFFFF;\n",
              "    }\n",
              "  </style>\n",
              "\n",
              "    <script>\n",
              "      const buttonEl =\n",
              "        document.querySelector('#df-b4aa4c66-4c74-48b3-84a9-94ecf509938b button.colab-df-convert');\n",
              "      buttonEl.style.display =\n",
              "        google.colab.kernel.accessAllowed ? 'block' : 'none';\n",
              "\n",
              "      async function convertToInteractive(key) {\n",
              "        const element = document.querySelector('#df-b4aa4c66-4c74-48b3-84a9-94ecf509938b');\n",
              "        const dataTable =\n",
              "          await google.colab.kernel.invokeFunction('convertToInteractive',\n",
              "                                                    [key], {});\n",
              "        if (!dataTable) return;\n",
              "\n",
              "        const docLinkHtml = 'Like what you see? Visit the ' +\n",
              "          '<a target=\"_blank\" href=https://colab.research.google.com/notebooks/data_table.ipynb>data table notebook</a>'\n",
              "          + ' to learn more about interactive tables.';\n",
              "        element.innerHTML = '';\n",
              "        dataTable['output_type'] = 'display_data';\n",
              "        await google.colab.output.renderOutput(dataTable, element);\n",
              "        const docLink = document.createElement('div');\n",
              "        docLink.innerHTML = docLinkHtml;\n",
              "        element.appendChild(docLink);\n",
              "      }\n",
              "    </script>\n",
              "  </div>\n",
              "\n",
              "\n",
              "<div id=\"df-47b6a5ad-546a-43c6-b8d3-e9520bf1b54c\">\n",
              "  <button class=\"colab-df-quickchart\" onclick=\"quickchart('df-47b6a5ad-546a-43c6-b8d3-e9520bf1b54c')\"\n",
              "            title=\"Suggest charts\"\n",
              "            style=\"display:none;\">\n",
              "\n",
              "<svg xmlns=\"http://www.w3.org/2000/svg\" height=\"24px\"viewBox=\"0 0 24 24\"\n",
              "     width=\"24px\">\n",
              "    <g>\n",
              "        <path d=\"M19 3H5c-1.1 0-2 .9-2 2v14c0 1.1.9 2 2 2h14c1.1 0 2-.9 2-2V5c0-1.1-.9-2-2-2zM9 17H7v-7h2v7zm4 0h-2V7h2v10zm4 0h-2v-4h2v4z\"/>\n",
              "    </g>\n",
              "</svg>\n",
              "  </button>\n",
              "\n",
              "<style>\n",
              "  .colab-df-quickchart {\n",
              "      --bg-color: #E8F0FE;\n",
              "      --fill-color: #1967D2;\n",
              "      --hover-bg-color: #E2EBFA;\n",
              "      --hover-fill-color: #174EA6;\n",
              "      --disabled-fill-color: #AAA;\n",
              "      --disabled-bg-color: #DDD;\n",
              "  }\n",
              "\n",
              "  [theme=dark] .colab-df-quickchart {\n",
              "      --bg-color: #3B4455;\n",
              "      --fill-color: #D2E3FC;\n",
              "      --hover-bg-color: #434B5C;\n",
              "      --hover-fill-color: #FFFFFF;\n",
              "      --disabled-bg-color: #3B4455;\n",
              "      --disabled-fill-color: #666;\n",
              "  }\n",
              "\n",
              "  .colab-df-quickchart {\n",
              "    background-color: var(--bg-color);\n",
              "    border: none;\n",
              "    border-radius: 50%;\n",
              "    cursor: pointer;\n",
              "    display: none;\n",
              "    fill: var(--fill-color);\n",
              "    height: 32px;\n",
              "    padding: 0;\n",
              "    width: 32px;\n",
              "  }\n",
              "\n",
              "  .colab-df-quickchart:hover {\n",
              "    background-color: var(--hover-bg-color);\n",
              "    box-shadow: 0 1px 2px rgba(60, 64, 67, 0.3), 0 1px 3px 1px rgba(60, 64, 67, 0.15);\n",
              "    fill: var(--button-hover-fill-color);\n",
              "  }\n",
              "\n",
              "  .colab-df-quickchart-complete:disabled,\n",
              "  .colab-df-quickchart-complete:disabled:hover {\n",
              "    background-color: var(--disabled-bg-color);\n",
              "    fill: var(--disabled-fill-color);\n",
              "    box-shadow: none;\n",
              "  }\n",
              "\n",
              "  .colab-df-spinner {\n",
              "    border: 2px solid var(--fill-color);\n",
              "    border-color: transparent;\n",
              "    border-bottom-color: var(--fill-color);\n",
              "    animation:\n",
              "      spin 1s steps(1) infinite;\n",
              "  }\n",
              "\n",
              "  @keyframes spin {\n",
              "    0% {\n",
              "      border-color: transparent;\n",
              "      border-bottom-color: var(--fill-color);\n",
              "      border-left-color: var(--fill-color);\n",
              "    }\n",
              "    20% {\n",
              "      border-color: transparent;\n",
              "      border-left-color: var(--fill-color);\n",
              "      border-top-color: var(--fill-color);\n",
              "    }\n",
              "    30% {\n",
              "      border-color: transparent;\n",
              "      border-left-color: var(--fill-color);\n",
              "      border-top-color: var(--fill-color);\n",
              "      border-right-color: var(--fill-color);\n",
              "    }\n",
              "    40% {\n",
              "      border-color: transparent;\n",
              "      border-right-color: var(--fill-color);\n",
              "      border-top-color: var(--fill-color);\n",
              "    }\n",
              "    60% {\n",
              "      border-color: transparent;\n",
              "      border-right-color: var(--fill-color);\n",
              "    }\n",
              "    80% {\n",
              "      border-color: transparent;\n",
              "      border-right-color: var(--fill-color);\n",
              "      border-bottom-color: var(--fill-color);\n",
              "    }\n",
              "    90% {\n",
              "      border-color: transparent;\n",
              "      border-bottom-color: var(--fill-color);\n",
              "    }\n",
              "  }\n",
              "</style>\n",
              "\n",
              "  <script>\n",
              "    async function quickchart(key) {\n",
              "      const quickchartButtonEl =\n",
              "        document.querySelector('#' + key + ' button');\n",
              "      quickchartButtonEl.disabled = true;  // To prevent multiple clicks.\n",
              "      quickchartButtonEl.classList.add('colab-df-spinner');\n",
              "      try {\n",
              "        const charts = await google.colab.kernel.invokeFunction(\n",
              "            'suggestCharts', [key], {});\n",
              "      } catch (error) {\n",
              "        console.error('Error during call to suggestCharts:', error);\n",
              "      }\n",
              "      quickchartButtonEl.classList.remove('colab-df-spinner');\n",
              "      quickchartButtonEl.classList.add('colab-df-quickchart-complete');\n",
              "    }\n",
              "    (() => {\n",
              "      let quickchartButtonEl =\n",
              "        document.querySelector('#df-47b6a5ad-546a-43c6-b8d3-e9520bf1b54c button');\n",
              "      quickchartButtonEl.style.display =\n",
              "        google.colab.kernel.accessAllowed ? 'block' : 'none';\n",
              "    })();\n",
              "  </script>\n",
              "</div>\n",
              "\n",
              "  <div id=\"id_4751b3a6-0838-4f45-bbdf-7cf999273abb\">\n",
              "    <style>\n",
              "      .colab-df-generate {\n",
              "        background-color: #E8F0FE;\n",
              "        border: none;\n",
              "        border-radius: 50%;\n",
              "        cursor: pointer;\n",
              "        display: none;\n",
              "        fill: #1967D2;\n",
              "        height: 32px;\n",
              "        padding: 0 0 0 0;\n",
              "        width: 32px;\n",
              "      }\n",
              "\n",
              "      .colab-df-generate:hover {\n",
              "        background-color: #E2EBFA;\n",
              "        box-shadow: 0px 1px 2px rgba(60, 64, 67, 0.3), 0px 1px 3px 1px rgba(60, 64, 67, 0.15);\n",
              "        fill: #174EA6;\n",
              "      }\n",
              "\n",
              "      [theme=dark] .colab-df-generate {\n",
              "        background-color: #3B4455;\n",
              "        fill: #D2E3FC;\n",
              "      }\n",
              "\n",
              "      [theme=dark] .colab-df-generate:hover {\n",
              "        background-color: #434B5C;\n",
              "        box-shadow: 0px 1px 3px 1px rgba(0, 0, 0, 0.15);\n",
              "        filter: drop-shadow(0px 1px 2px rgba(0, 0, 0, 0.3));\n",
              "        fill: #FFFFFF;\n",
              "      }\n",
              "    </style>\n",
              "    <button class=\"colab-df-generate\" onclick=\"generateWithVariable('df')\"\n",
              "            title=\"Generate code using this dataframe.\"\n",
              "            style=\"display:none;\">\n",
              "\n",
              "  <svg xmlns=\"http://www.w3.org/2000/svg\" height=\"24px\"viewBox=\"0 0 24 24\"\n",
              "       width=\"24px\">\n",
              "    <path d=\"M7,19H8.4L18.45,9,17,7.55,7,17.6ZM5,21V16.75L18.45,3.32a2,2,0,0,1,2.83,0l1.4,1.43a1.91,1.91,0,0,1,.58,1.4,1.91,1.91,0,0,1-.58,1.4L9.25,21ZM18.45,9,17,7.55Zm-12,3A5.31,5.31,0,0,0,4.9,8.1,5.31,5.31,0,0,0,1,6.5,5.31,5.31,0,0,0,4.9,4.9,5.31,5.31,0,0,0,6.5,1,5.31,5.31,0,0,0,8.1,4.9,5.31,5.31,0,0,0,12,6.5,5.46,5.46,0,0,0,6.5,12Z\"/>\n",
              "  </svg>\n",
              "    </button>\n",
              "    <script>\n",
              "      (() => {\n",
              "      const buttonEl =\n",
              "        document.querySelector('#id_4751b3a6-0838-4f45-bbdf-7cf999273abb button.colab-df-generate');\n",
              "      buttonEl.style.display =\n",
              "        google.colab.kernel.accessAllowed ? 'block' : 'none';\n",
              "\n",
              "      buttonEl.onclick = () => {\n",
              "        google.colab.notebook.generateWithVariable('df');\n",
              "      }\n",
              "      })();\n",
              "    </script>\n",
              "  </div>\n",
              "\n",
              "    </div>\n",
              "  </div>\n"
            ],
            "application/vnd.google.colaboratory.intrinsic+json": {
              "type": "dataframe",
              "variable_name": "df",
              "summary": "{\n  \"name\": \"df\",\n  \"rows\": 4,\n  \"fields\": [\n    {\n      \"column\": \"A\",\n      \"properties\": {\n        \"dtype\": \"string\",\n        \"num_unique_values\": 3,\n        \"samples\": [\n          \"custom word\",\n          \"another word\",\n          \"random word\"\n        ],\n        \"semantic_type\": \"\",\n        \"description\": \"\"\n      }\n    },\n    {\n      \"column\": \"B\",\n      \"properties\": {\n        \"dtype\": \"object\",\n        \"num_unique_values\": 4,\n        \"samples\": [\n          \"2023-07-31\",\n          \"2020-01-01\",\n          \"2024-08-01\"\n        ],\n        \"semantic_type\": \"\",\n        \"description\": \"\"\n      }\n    },\n    {\n      \"column\": \"C\",\n      \"properties\": {\n        \"dtype\": \"string\",\n        \"num_unique_values\": 4,\n        \"samples\": [\n          \"$200\",\n          \"\\u20ac250\",\n          \"$300\"\n        ],\n        \"semantic_type\": \"\",\n        \"description\": \"\"\n      }\n    }\n  ]\n}"
            }
          },
          "metadata": {},
          "execution_count": 202
        }
      ]
    },
    {
      "cell_type": "code",
      "source": [
        "import csv\n",
        "import re\n",
        "\n",
        "date_pattern = r'(\\d{4})-(\\d{2})-(\\d{2})'\n",
        "\n",
        "matching_rows = []\n",
        "\n",
        "with open(\"/content/xyz.csv\", \"r\") as file:\n",
        "    csv_reader = csv.DictReader(file)\n",
        "\n",
        "    for row in csv_reader:\n",
        "        if row['A'] == \"custom word\" and re.match(date_pattern, row['B']):\n",
        "            matching_rows.append(row)\n",
        "\n",
        "    for match in matching_rows:\n",
        "        print(match)\n"
      ],
      "metadata": {
        "colab": {
          "base_uri": "https://localhost:8080/"
        },
        "id": "vi21KCFTcamW",
        "outputId": "e40e702f-271b-46c0-cd2d-86620461b96a"
      },
      "id": "vi21KCFTcamW",
      "execution_count": 203,
      "outputs": [
        {
          "output_type": "stream",
          "name": "stdout",
          "text": [
            "{'A': 'custom word', 'B': '2024-08-01', 'C': '$300'}\n",
            "{'A': 'custom word', 'B': '2022-12-25', 'C': '€202'}\n"
          ]
        }
      ]
    },
    {
      "cell_type": "code",
      "source": [
        "date_pattern = r'(\\d{4})-(\\d{2})-(\\d{2})'\n",
        "\n",
        "matching_rows = []\n",
        "\n",
        "with open(\"/content/xyz.csv\", \"r\") as file:\n",
        "    csv_reader = csv.DictReader(file)\n",
        "\n",
        "    for row in csv_reader:\n",
        "        if row['A'] == \"custom word\" and re.match(r'^\\$', row['C']):\n",
        "            matching_rows.append(row)\n",
        "\n",
        "    for match in matching_rows:\n",
        "        print(match)\n"
      ],
      "metadata": {
        "colab": {
          "base_uri": "https://localhost:8080/"
        },
        "id": "0qMQgYxDjFq1",
        "outputId": "c65d6900-2e3d-4845-ba7c-6dee24a4accf"
      },
      "id": "0qMQgYxDjFq1",
      "execution_count": 204,
      "outputs": [
        {
          "output_type": "stream",
          "name": "stdout",
          "text": [
            "{'A': 'custom word', 'B': '2024-08-01', 'C': '$300'}\n"
          ]
        }
      ]
    },
    {
      "cell_type": "code",
      "source": [],
      "metadata": {
        "id": "m0J-LMnylQvF"
      },
      "id": "m0J-LMnylQvF",
      "execution_count": null,
      "outputs": []
    }
  ],
  "metadata": {
    "kernelspec": {
      "display_name": "Python 3 (ipykernel)",
      "language": "python",
      "name": "python3"
    },
    "language_info": {
      "codemirror_mode": {
        "name": "ipython",
        "version": 3
      },
      "file_extension": ".py",
      "mimetype": "text/x-python",
      "name": "python",
      "nbconvert_exporter": "python",
      "pygments_lexer": "ipython3",
      "version": "3.11.5"
    },
    "colab": {
      "provenance": [],
      "include_colab_link": true
    }
  },
  "nbformat": 4,
  "nbformat_minor": 5
}