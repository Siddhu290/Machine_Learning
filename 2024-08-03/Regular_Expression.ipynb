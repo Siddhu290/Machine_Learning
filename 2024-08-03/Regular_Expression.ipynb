{
  "cells": [
    {
      "cell_type": "markdown",
      "metadata": {
        "id": "view-in-github",
        "colab_type": "text"
      },
      "source": [
        "<a href=\"https://colab.research.google.com/github/Siddhu290/Machine_Learning/blob/main/2024-08-03/Regular_Expression.ipynb\" target=\"_parent\"><img src=\"https://colab.research.google.com/assets/colab-badge.svg\" alt=\"Open In Colab\"/></a>"
      ]
    },
    {
      "cell_type": "code",
      "execution_count": 1,
      "id": "627d533c",
      "metadata": {
        "colab": {
          "base_uri": "https://localhost:8080/"
        },
        "id": "627d533c",
        "outputId": "99793d74-67e2-4472-b648-83a83ffa7fcd"
      },
      "outputs": [
        {
          "output_type": "stream",
          "name": "stdout",
          "text": [
            "matchObj.group() :  Cats are smarter than dogs\n",
            "matchObj.group(1) :  Cats\n",
            "matchObj.group(2) :  smarter\n"
          ]
        }
      ],
      "source": [
        "import re\n",
        "line = \"Cats are smarter than dogs\"\n",
        "matchObj = re.match( r'(.*) are (.*?) .*', line, re.M|re.I)\n",
        "if matchObj:\n",
        "    print(\"matchObj.group() : \", matchObj.group())\n",
        "    print(\"matchObj.group(1) : \", matchObj.group(1))\n",
        "    print(\"matchObj.group(2) : \", matchObj.group(2))\n",
        "else:\n",
        "    print(\"No match!!\"  )"
      ]
    },
    {
      "cell_type": "markdown",
      "id": "9cf85ffc",
      "metadata": {
        "id": "9cf85ffc"
      },
      "source": [
        "- match is done in start only and search is done over any position"
      ]
    },
    {
      "cell_type": "code",
      "execution_count": 2,
      "id": "ab0d576c",
      "metadata": {
        "colab": {
          "base_uri": "https://localhost:8080/"
        },
        "id": "ab0d576c",
        "outputId": "2a87adea-6035-4dc1-fa9e-132f1b472a1e"
      },
      "outputs": [
        {
          "output_type": "stream",
          "name": "stdout",
          "text": [
            "No match!!\n",
            "search --> matchObj.group() :  dogs\n"
          ]
        }
      ],
      "source": [
        "line = \"Cats are smarter than dogs\";\n",
        "matchObj = re.match( r'dogs', line, re.M|re.I)\n",
        "if matchObj:\n",
        "    print(\"match --> matchObj.group() : \", matchObj.group())\n",
        "else:\n",
        "    print(\"No match!!\")\n",
        "    matchObj = re.search( r'dogs', line)\n",
        "if matchObj:\n",
        "    print(\"search --> matchObj.group() : \", matchObj.group())\n",
        "else:\n",
        "    print(\"No match!!\")\n"
      ]
    },
    {
      "cell_type": "markdown",
      "id": "39a1585c",
      "metadata": {
        "id": "39a1585c"
      },
      "source": [
        "# replace"
      ]
    },
    {
      "cell_type": "code",
      "execution_count": 3,
      "id": "16f8d767",
      "metadata": {
        "colab": {
          "base_uri": "https://localhost:8080/"
        },
        "id": "16f8d767",
        "outputId": "bb2dcbaf-5213-40fb-a06a-8a53a1407978"
      },
      "outputs": [
        {
          "output_type": "stream",
          "name": "stdout",
          "text": [
            "Phone Num :  2004-959-559 \n",
            "Phone Num :  2004959559\n"
          ]
        }
      ],
      "source": [
        "\n",
        "phone = \"2004-959-559 # This is Phone Number\"\n",
        "# Delete Python-style comments\n",
        "num = re.sub(r'#.*$', \"\", phone)\n",
        "print(\"Phone Num : \", num)\n",
        "# Remove anything other than digits\n",
        "num = re.sub(r'\\D', \"\", phone)\n",
        "print(\"Phone Num : \", num)\n"
      ]
    },
    {
      "cell_type": "markdown",
      "id": "aa88504d",
      "metadata": {
        "id": "aa88504d"
      },
      "source": [
        "#### regular expression patterns\n",
        "\n"
      ]
    },
    {
      "cell_type": "markdown",
      "id": "1130a5f1",
      "metadata": {
        "id": "1130a5f1"
      },
      "source": [
        "#### write a program in python where in given stirng there is noise in form of special character use regular expression to fetch string without noise\n"
      ]
    },
    {
      "cell_type": "code",
      "execution_count": 4,
      "id": "a406abec",
      "metadata": {
        "scrolled": true,
        "colab": {
          "base_uri": "https://localhost:8080/"
        },
        "id": "a406abec",
        "outputId": "81e745b3-f9a7-421d-ebc2-23f998616163"
      },
      "outputs": [
        {
          "output_type": "stream",
          "name": "stdout",
          "text": [
            "hjksafd\n"
          ]
        }
      ],
      "source": [
        "str1='hjksafd@@,,'\n",
        "num = re.sub(r'[^a-zA-Z0-9]',\"\", str1)\n",
        "print( num)\n"
      ]
    },
    {
      "cell_type": "code",
      "execution_count": 5,
      "id": "464f464f",
      "metadata": {
        "colab": {
          "base_uri": "https://localhost:8080/"
        },
        "id": "464f464f",
        "outputId": "9fdd67e7-bb95-43a2-e530-a9416dd51377"
      },
      "outputs": [
        {
          "output_type": "stream",
          "name": "stdout",
          "text": [
            "6\n"
          ]
        }
      ],
      "source": [
        "s=123456       # print the last element of it\n",
        "x=s%10\n",
        "print(x)\n"
      ]
    },
    {
      "cell_type": "code",
      "execution_count": 6,
      "id": "0e97b088",
      "metadata": {
        "id": "0e97b088"
      },
      "outputs": [],
      "source": [
        "# which removes repeated charcters in start of the string\n"
      ]
    },
    {
      "cell_type": "code",
      "execution_count": 7,
      "id": "ab37d740",
      "metadata": {
        "colab": {
          "base_uri": "https://localhost:8080/"
        },
        "id": "ab37d740",
        "outputId": "4e94f87d-add2-4305-a944-a484f32fc65e"
      },
      "outputs": [
        {
          "output_type": "stream",
          "name": "stdout",
          "text": [
            "['12', '89', '34']\n"
          ]
        }
      ],
      "source": [
        "# find all\n",
        "import re\n",
        "string='hello 12 hi 89 .howdy 34'\n",
        "pattern='\\d+'  #small d is used for digits and D is used for non digits\n",
        "\n",
        "result=re.findall(pattern,string)\n",
        "print(result)\n"
      ]
    },
    {
      "cell_type": "code",
      "execution_count": 8,
      "id": "e602037b",
      "metadata": {
        "colab": {
          "base_uri": "https://localhost:8080/"
        },
        "id": "e602037b",
        "outputId": "6138df34-7d93-4139-cff9-d55e761bc50d"
      },
      "outputs": [
        {
          "output_type": "stream",
          "name": "stdout",
          "text": [
            "['h', 'e', 'l', 'l', 'o', 'h', 'i', 'h', 'o', 'w', 'd', 'y']\n"
          ]
        }
      ],
      "source": [
        "# find all\n",
        "import re\n",
        "string='hello 12 hi 89 .howdy 34'\n",
        "pattern='[A-Za-z]'  #small d is used for digits and D is used for non digits\n",
        "\n",
        "result=re.findall(pattern,string)\n",
        "print(result)\n"
      ]
    },
    {
      "cell_type": "code",
      "execution_count": 9,
      "id": "cb55238f",
      "metadata": {
        "colab": {
          "base_uri": "https://localhost:8080/"
        },
        "id": "cb55238f",
        "outputId": "12af85d8-8065-4ff1-da3a-98ea336190cb"
      },
      "outputs": [
        {
          "output_type": "stream",
          "name": "stdout",
          "text": [
            "['hello ', ' hi ', ' .howdy ', '']\n"
          ]
        }
      ],
      "source": [
        "#split\n",
        "# find all\n",
        "import re\n",
        "string='hello 12 hi 89 .howdy 34'\n",
        "pattern='\\d+'  #small d is used for digits and D is used for non digits\n",
        "\n",
        "result=re.split(pattern,string)\n",
        "print(result)\n"
      ]
    },
    {
      "cell_type": "code",
      "execution_count": 10,
      "id": "e7206943",
      "metadata": {
        "colab": {
          "base_uri": "https://localhost:8080/"
        },
        "id": "e7206943",
        "outputId": "4cd16aae-7e19-4855-bbdc-faf516707970"
      },
      "outputs": [
        {
          "output_type": "stream",
          "name": "stdout",
          "text": [
            "['hello ', ' hi 89 .howdy 34']\n",
            "2\n"
          ]
        }
      ],
      "source": [
        "#split\n",
        "# find all\n",
        "import re\n",
        "string='hello 12 hi 89 .howdy 34'\n",
        "pattern='\\d+'\n",
        "\n",
        "result=re.split(pattern,string,1)\n",
        "print(result)\n",
        "print(len(result))\n"
      ]
    },
    {
      "cell_type": "code",
      "execution_count": 11,
      "id": "2e23c2c9",
      "metadata": {
        "colab": {
          "base_uri": "https://localhost:8080/"
        },
        "id": "2e23c2c9",
        "outputId": "070579bf-cd19-448e-fa42-fe6b33c8bf25"
      },
      "outputs": [
        {
          "output_type": "stream",
          "name": "stdout",
          "text": [
            "abc12\\de23f456\n"
          ]
        }
      ],
      "source": [
        "# mitiline stirng\n",
        "string='abc 12\\ de 23 \\n f45 6'\n",
        "\n",
        "# matches all whitespace character\n",
        "pattern='\\s+'\n",
        "\n",
        "# empty string\n",
        "replace=''\n",
        "\n",
        "new_string=re.sub(pattern,replace,string)\n",
        "print(new_string)"
      ]
    },
    {
      "cell_type": "code",
      "execution_count": 12,
      "id": "791b188d",
      "metadata": {
        "colab": {
          "base_uri": "https://localhost:8080/"
        },
        "id": "791b188d",
        "outputId": "7206c369-7d34-491c-c2ea-25e8ecb844ff"
      },
      "outputs": [
        {
          "output_type": "stream",
          "name": "stdout",
          "text": [
            "6\n"
          ]
        }
      ],
      "source": [
        "import re\n",
        "string='hello 12 hi 89 .howdy 34 '\n",
        "pattern='\\S+'\n",
        "\n",
        "result=re.sub(pattern,'',string)\n",
        "print(len(result))"
      ]
    },
    {
      "cell_type": "code",
      "execution_count": 13,
      "id": "246ea75c",
      "metadata": {
        "colab": {
          "base_uri": "https://localhost:8080/"
        },
        "id": "246ea75c",
        "outputId": "bf1997fe-97b2-43b2-9a27-b6a7362867b6"
      },
      "outputs": [
        {
          "output_type": "stream",
          "name": "stdout",
          "text": [
            "abc12\\ de 23 \n",
            " f45 6\n"
          ]
        }
      ],
      "source": [
        "# mitiline stirng\n",
        "string='abc 12\\ de 23 \\n f45 6'\n",
        "\n",
        "# matches all whitespace character\n",
        "pattern='\\s+'\n",
        "replace=''\n",
        "\n",
        "new_string=re.sub(pattern,replace,string,1)\n",
        "print(new_string)"
      ]
    },
    {
      "cell_type": "markdown",
      "id": "5406bcfc",
      "metadata": {
        "id": "5406bcfc"
      },
      "source": [
        "### subn() it returns a tuple of 2 items\n",
        "\n"
      ]
    },
    {
      "cell_type": "code",
      "execution_count": 14,
      "id": "b84046ce",
      "metadata": {
        "colab": {
          "base_uri": "https://localhost:8080/"
        },
        "id": "b84046ce",
        "outputId": "0227bf5d-b64b-4bc4-95ff-b9e312df5a12"
      },
      "outputs": [
        {
          "output_type": "stream",
          "name": "stdout",
          "text": [
            "('abc12\\\\de23f456', 5)\n"
          ]
        }
      ],
      "source": [
        "# mitiline stirng\n",
        "string='abc 12\\ de 23 \\n f45 6'\n",
        "\n",
        "# matches all whitespace character\n",
        "pattern='\\s+'\n",
        "replace=''\n",
        "\n",
        "new_string=re.subn(pattern,replace,string)\n",
        "print(new_string)"
      ]
    },
    {
      "cell_type": "code",
      "execution_count": 15,
      "id": "bb52ed00",
      "metadata": {
        "colab": {
          "base_uri": "https://localhost:8080/"
        },
        "id": "bb52ed00",
        "outputId": "7e4f2b84-1846-4c91-e916-b87f5880f7c0"
      },
      "outputs": [
        {
          "output_type": "stream",
          "name": "stdout",
          "text": [
            "pattern found inside the string\n"
          ]
        }
      ],
      "source": [
        "# mitiline stirng\n",
        "string='Python is fun'\n",
        "match=re.search('[Pp]ython',string)\n",
        "if match:\n",
        "    print('pattern found inside the string')\n",
        "else :\n",
        "    print('pattern not found ')"
      ]
    },
    {
      "cell_type": "code",
      "execution_count": 16,
      "id": "bfe24d45",
      "metadata": {
        "colab": {
          "base_uri": "https://localhost:8080/"
        },
        "id": "bfe24d45",
        "outputId": "adb2279f-d0d6-437c-c2bb-f11462f15ab4"
      },
      "outputs": [
        {
          "output_type": "stream",
          "name": "stdout",
          "text": [
            "801 35\n"
          ]
        }
      ],
      "source": [
        "string='39801 356 ,2102 1111'\n",
        "pattern='(\\d{3}) (\\d{2})'\n",
        "\n",
        "match=re.search(pattern,string)\n",
        "if match:\n",
        "    print(match.group())\n",
        "else :\n",
        "    print('pattern not found ')"
      ]
    },
    {
      "cell_type": "code",
      "execution_count": 17,
      "id": "05265c5d",
      "metadata": {
        "colab": {
          "base_uri": "https://localhost:8080/",
          "height": 36
        },
        "id": "05265c5d",
        "outputId": "ff4be98d-b856-475b-8a84-0b09d81d8ed7"
      },
      "outputs": [
        {
          "output_type": "execute_result",
          "data": {
            "text/plain": [
              "'801'"
            ],
            "application/vnd.google.colaboratory.intrinsic+json": {
              "type": "string"
            }
          },
          "metadata": {},
          "execution_count": 17
        }
      ],
      "source": [
        "match.group(1)"
      ]
    },
    {
      "cell_type": "code",
      "execution_count": 18,
      "id": "0241d658",
      "metadata": {
        "colab": {
          "base_uri": "https://localhost:8080/",
          "height": 36
        },
        "id": "0241d658",
        "outputId": "7052ad45-bf9c-4b96-a3c3-cf5d033df481"
      },
      "outputs": [
        {
          "output_type": "execute_result",
          "data": {
            "text/plain": [
              "'35'"
            ],
            "application/vnd.google.colaboratory.intrinsic+json": {
              "type": "string"
            }
          },
          "metadata": {},
          "execution_count": 18
        }
      ],
      "source": [
        "match.group(2)"
      ]
    },
    {
      "cell_type": "code",
      "execution_count": 19,
      "id": "cbdbcbbc",
      "metadata": {
        "colab": {
          "base_uri": "https://localhost:8080/"
        },
        "id": "cbdbcbbc",
        "outputId": "835894b7-5a33-443c-83a1-e1f69635e4ad"
      },
      "outputs": [
        {
          "output_type": "execute_result",
          "data": {
            "text/plain": [
              "('801', '35')"
            ]
          },
          "metadata": {},
          "execution_count": 19
        }
      ],
      "source": [
        "match.group(1,2)"
      ]
    },
    {
      "cell_type": "code",
      "execution_count": 20,
      "id": "70ac7daf",
      "metadata": {
        "colab": {
          "base_uri": "https://localhost:8080/"
        },
        "id": "70ac7daf",
        "outputId": "60e3f618-ab44-45db-c0ac-767574d44e85"
      },
      "outputs": [
        {
          "output_type": "execute_result",
          "data": {
            "text/plain": [
              "2"
            ]
          },
          "metadata": {},
          "execution_count": 20
        }
      ],
      "source": [
        "match.start()"
      ]
    },
    {
      "cell_type": "code",
      "source": [
        "match.end()"
      ],
      "metadata": {
        "colab": {
          "base_uri": "https://localhost:8080/"
        },
        "id": "4pgM8ghxfW7C",
        "outputId": "d72d85b3-a7cb-487e-86cf-6eacecff81d2"
      },
      "id": "4pgM8ghxfW7C",
      "execution_count": 21,
      "outputs": [
        {
          "output_type": "execute_result",
          "data": {
            "text/plain": [
              "8"
            ]
          },
          "metadata": {},
          "execution_count": 21
        }
      ]
    },
    {
      "cell_type": "code",
      "source": [
        "match.span()"
      ],
      "metadata": {
        "colab": {
          "base_uri": "https://localhost:8080/"
        },
        "id": "j570TZZTfYwW",
        "outputId": "8a110cd4-6545-433a-d438-f7fc103cb917"
      },
      "id": "j570TZZTfYwW",
      "execution_count": 25,
      "outputs": [
        {
          "output_type": "execute_result",
          "data": {
            "text/plain": [
              "(2, 8)"
            ]
          },
          "metadata": {},
          "execution_count": 25
        }
      ]
    },
    {
      "cell_type": "code",
      "source": [
        "match.re\n",
        "re.compile(\"(\\\\d{3}) (\\\\d{2})\")\n",
        "\n"
      ],
      "metadata": {
        "colab": {
          "base_uri": "https://localhost:8080/"
        },
        "id": "OIhJVFQxfjU3",
        "outputId": "1349a216-c3dd-4f25-c5b1-d948da438e6c"
      },
      "id": "OIhJVFQxfjU3",
      "execution_count": 22,
      "outputs": [
        {
          "output_type": "execute_result",
          "data": {
            "text/plain": [
              "re.compile(r'(\\d{3}) (\\d{2})', re.UNICODE)"
            ]
          },
          "metadata": {},
          "execution_count": 22
        }
      ]
    },
    {
      "cell_type": "code",
      "source": [
        "match.string"
      ],
      "metadata": {
        "colab": {
          "base_uri": "https://localhost:8080/",
          "height": 36
        },
        "id": "ISO_o-qfgzYE",
        "outputId": "34f8e5f5-04a9-4f36-8761-6604719e75ee"
      },
      "id": "ISO_o-qfgzYE",
      "execution_count": 23,
      "outputs": [
        {
          "output_type": "execute_result",
          "data": {
            "text/plain": [
              "'39801 356 ,2102 1111'"
            ],
            "application/vnd.google.colaboratory.intrinsic+json": {
              "type": "string"
            }
          },
          "metadata": {},
          "execution_count": 23
        }
      ]
    },
    {
      "cell_type": "code",
      "source": [
        "string=\"\\n and \\r are escape sequences.\"\n",
        "result=re.findall(r'[\\n\\r]',string)\n",
        "print(result)"
      ],
      "metadata": {
        "colab": {
          "base_uri": "https://localhost:8080/"
        },
        "id": "Cn5x3w0xg4vL",
        "outputId": "ce9fac31-0abf-4c1d-a33e-23e5c3f482d9"
      },
      "id": "Cn5x3w0xg4vL",
      "execution_count": 24,
      "outputs": [
        {
          "output_type": "stream",
          "name": "stdout",
          "text": [
            "['\\n', '\\r']\n"
          ]
        }
      ]
    },
    {
      "cell_type": "code",
      "source": [
        "#this code uses a regular expression to search for the pattern \"brown.fox\" within the string the dot (.) in the pattern represents any character. if a match found, it prints \"Match found!\" otherwie it prints \"Match not Found\"\n",
        "\n",
        "if re.search(r\"brown.fox\", \"The quick brown fox jumps over the lazy dog.\"):\n",
        "    print(\"Match found!\")\n",
        "else:\n",
        "    print(\"Match not Found\")\n"
      ],
      "metadata": {
        "colab": {
          "base_uri": "https://localhost:8080/"
        },
        "id": "xc1Nq2X8jQlh",
        "outputId": "d29dd531-d120-4cf5-b350-bf112b2d6729"
      },
      "id": "xc1Nq2X8jQlh",
      "execution_count": 27,
      "outputs": [
        {
          "output_type": "stream",
          "name": "stdout",
          "text": [
            "Match found!\n"
          ]
        }
      ]
    },
    {
      "cell_type": "code",
      "source": [
        "# this a code uses a regular expresiion (\\d+) to find all the sequence of one oe more digits in the given string it searches for numeric values and stores them in a list in the example it finds and prints the number \"123456789\" and \"987654321\" from the input string\n",
        "\n",
        "matches = re.findall(r\"(\\d+)\", \"This string contains numbers like 123456789 and 987654321.\")\n",
        "\n",
        "print(matches)\n"
      ],
      "metadata": {
        "colab": {
          "base_uri": "https://localhost:8080/"
        },
        "id": "pZtObbeKkesl",
        "outputId": "32a1b237-6d4c-42a1-dcd6-7e3fc04897c4"
      },
      "id": "pZtObbeKkesl",
      "execution_count": 29,
      "outputs": [
        {
          "output_type": "stream",
          "name": "stdout",
          "text": [
            "['123456789', '987654321']\n"
          ]
        }
      ]
    },
    {
      "cell_type": "code",
      "source": [
        "#write aprogram to cheak the string contaings following patterns to characters followed by space and then numbers\n",
        "\n",
        "if re.search(r'[a-zA-Z]\\s\\d+' , \"A123\"):\n",
        "    print(\"matched\")\n",
        "else:\n",
        "    print(\"not matched\")\n",
        "\n"
      ],
      "metadata": {
        "colab": {
          "base_uri": "https://localhost:8080/"
        },
        "id": "hiZn13iHyQU7",
        "outputId": "f49fb3c0-074c-4fad-d793-da7e596f89e6"
      },
      "id": "hiZn13iHyQU7",
      "execution_count": 36,
      "outputs": [
        {
          "output_type": "stream",
          "name": "stdout",
          "text": [
            "not matched\n"
          ]
        }
      ]
    },
    {
      "cell_type": "code",
      "source": [
        "# prompt: write a program to cheak string ending with \"ey\" or \"EY\"\n",
        "\n",
        "if re.search(r\"([eyEY]) | ([eyEY]\\b)\",\"Hello World Money ends\"):\n",
        "    print(\"ends\")\n",
        "else:\n",
        "    print(\"not ends\")\n",
        "\n"
      ],
      "metadata": {
        "colab": {
          "base_uri": "https://localhost:8080/"
        },
        "id": "cQAvZbSa06Tj",
        "outputId": "f199f22c-4f43-4284-8762-623eca4c0428"
      },
      "id": "cQAvZbSa06Tj",
      "execution_count": 49,
      "outputs": [
        {
          "output_type": "stream",
          "name": "stdout",
          "text": [
            "ends\n"
          ]
        }
      ]
    },
    {
      "cell_type": "code",
      "source": [],
      "metadata": {
        "id": "ca3pGpWy07Ag"
      },
      "id": "ca3pGpWy07Ag",
      "execution_count": null,
      "outputs": []
    }
  ],
  "metadata": {
    "kernelspec": {
      "display_name": "Python 3 (ipykernel)",
      "language": "python",
      "name": "python3"
    },
    "language_info": {
      "codemirror_mode": {
        "name": "ipython",
        "version": 3
      },
      "file_extension": ".py",
      "mimetype": "text/x-python",
      "name": "python",
      "nbconvert_exporter": "python",
      "pygments_lexer": "ipython3",
      "version": "3.11.5"
    },
    "colab": {
      "provenance": [],
      "include_colab_link": true
    }
  },
  "nbformat": 4,
  "nbformat_minor": 5
}