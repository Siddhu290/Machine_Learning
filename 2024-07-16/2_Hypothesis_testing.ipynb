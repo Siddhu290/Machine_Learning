{
  "nbformat": 4,
  "nbformat_minor": 0,
  "metadata": {
    "colab": {
      "provenance": [],
      "include_colab_link": true
    },
    "kernelspec": {
      "name": "python3",
      "display_name": "Python 3"
    },
    "language_info": {
      "name": "python"
    }
  },
  "cells": [
    {
      "cell_type": "markdown",
      "metadata": {
        "id": "view-in-github",
        "colab_type": "text"
      },
      "source": [
        "<a href=\"https://colab.research.google.com/github/Siddhu290/Machine_Learning/blob/main/2024-07-16/2_Hypothesis_testing.ipynb\" target=\"_parent\"><img src=\"https://colab.research.google.com/assets/colab-badge.svg\" alt=\"Open In Colab\"/></a>"
      ]
    },
    {
      "cell_type": "markdown",
      "source": [
        "T-Test"
      ],
      "metadata": {
        "id": "wpdJGqFCW_R3"
      }
    },
    {
      "cell_type": "code",
      "source": [
        "import numpy as np\n",
        "import scipy.stats as stats"
      ],
      "metadata": {
        "id": "HdCDj-Pmep4m"
      },
      "execution_count": null,
      "outputs": []
    },
    {
      "cell_type": "code",
      "source": [
        "student_score=np.array([72,89,65,73,79,84,63,76,85,75])\n",
        "mu=70\n",
        "\n"
      ],
      "metadata": {
        "id": "cof-dhJ8XVIG"
      },
      "execution_count": null,
      "outputs": []
    },
    {
      "cell_type": "code",
      "source": [
        "t_state,p_value=stats.ttest_1samp(student_score,mu)\n",
        "print(\"P-value\",p_value)\n",
        "if p_value<0.05:\n",
        "  print(\"Reject null hypothesis\")\n",
        "else:\n",
        "  print(\"Accept null hypothesis\")"
      ],
      "metadata": {
        "colab": {
          "base_uri": "https://localhost:8080/"
        },
        "id": "PgbXRcpGXqgG",
        "outputId": "eb0b8f1c-7724-4147-ee45-6311d81b0813"
      },
      "execution_count": null,
      "outputs": [
        {
          "output_type": "stream",
          "name": "stdout",
          "text": [
            "P-value 0.047816221110566944\n",
            "Reject null hypothesis\n"
          ]
        }
      ]
    },
    {
      "cell_type": "code",
      "source": [
        "import seaborn as sns\n",
        "import numpy as np\n"
      ],
      "metadata": {
        "id": "aXbxPlcnYGOw"
      },
      "execution_count": null,
      "outputs": []
    },
    {
      "cell_type": "code",
      "source": [
        "iris=sns.load_dataset('iris')"
      ],
      "metadata": {
        "id": "5p-ogI7SYVmb"
      },
      "execution_count": null,
      "outputs": []
    },
    {
      "cell_type": "code",
      "source": [
        "setosa=iris[iris['species']=='setosa']\n",
        "versicolor=iris[iris['species']=='versicolor']\n"
      ],
      "metadata": {
        "id": "Wm2WJ7F-Ycwm"
      },
      "execution_count": null,
      "outputs": []
    },
    {
      "cell_type": "code",
      "source": [
        "setosa_petal_length=setosa['petal_length']\n",
        "versicolor_petal_length=versicolor['petal_length']"
      ],
      "metadata": {
        "id": "b1LrXzO4YuwV"
      },
      "execution_count": null,
      "outputs": []
    },
    {
      "cell_type": "code",
      "source": [
        "t_stat,p_value=stats.ttest_ind(setosa_petal_length,versicolor_petal_length)\n",
        "alpha=0.5\n",
        "if p_value<alpha:\n",
        "  print(\"Reject the null hypothesi\")\n",
        "else:\n",
        "  print(\"fail to reject null hypothesis\")\n"
      ],
      "metadata": {
        "colab": {
          "base_uri": "https://localhost:8080/"
        },
        "id": "WwYBjBOwY38a",
        "outputId": "93946e25-dfbb-4346-f67c-1abf77f11d15"
      },
      "execution_count": null,
      "outputs": [
        {
          "output_type": "stream",
          "name": "stdout",
          "text": [
            "Reject the null hypothesi\n"
          ]
        }
      ]
    },
    {
      "cell_type": "code",
      "source": [
        "p_value"
      ],
      "metadata": {
        "colab": {
          "base_uri": "https://localhost:8080/"
        },
        "id": "SyYUAs4lbK4K",
        "outputId": "dce485c9-e1a8-473b-f0cd-b9efb2220906"
      },
      "execution_count": null,
      "outputs": [
        {
          "output_type": "execute_result",
          "data": {
            "text/plain": [
              "5.404910513441677e-62"
            ]
          },
          "metadata": {},
          "execution_count": 20
        }
      ]
    },
    {
      "cell_type": "code",
      "source": [
        "verginica=iris[iris['species']=='virginica']\n",
        "sat=iris[iris['species']=='setosa']\n"
      ],
      "metadata": {
        "id": "0uixrIBbdE2f"
      },
      "execution_count": null,
      "outputs": []
    },
    {
      "cell_type": "code",
      "source": [
        "setosa_petal_length=verginica['petal_length']\n",
        "versicolor_petal_length=sat['petal_length']"
      ],
      "metadata": {
        "id": "jeA7xvIGb439"
      },
      "execution_count": null,
      "outputs": []
    },
    {
      "cell_type": "code",
      "source": [
        "t_stat,p_value=stats.ttest_ind(setosa_petal_length,versicolor_petal_length)\n",
        "alpha=0.5\n",
        "if p_value<alpha:\n",
        "  print(\"Reject the null hypothesi\")\n",
        "else:\n",
        "  print(\"fail to reject null hypothesis\")\n"
      ],
      "metadata": {
        "colab": {
          "base_uri": "https://localhost:8080/"
        },
        "id": "Sqthav8LdSUV",
        "outputId": "09c26576-b932-4929-b82c-6479567e4e1a"
      },
      "execution_count": null,
      "outputs": [
        {
          "output_type": "stream",
          "name": "stdout",
          "text": [
            "Reject the null hypothesi\n"
          ]
        }
      ]
    },
    {
      "cell_type": "code",
      "source": [
        "iris[\"species\"].unique()"
      ],
      "metadata": {
        "colab": {
          "base_uri": "https://localhost:8080/"
        },
        "id": "rthV16dodUT4",
        "outputId": "e1604569-c72b-4446-ea15-2e1aee269c46"
      },
      "execution_count": null,
      "outputs": [
        {
          "output_type": "execute_result",
          "data": {
            "text/plain": [
              "array(['setosa', 'versicolor', 'virginica'], dtype=object)"
            ]
          },
          "metadata": {},
          "execution_count": 23
        }
      ]
    },
    {
      "cell_type": "markdown",
      "source": [
        "Hypothesis testing is a statistical method used to make decisions about the\n",
        "\n",
        "properties of a population based on a sample. Here are the most common\n",
        "\n",
        "hypothesis tests along with Python code examples:\n",
        "\n",
        "One-Sample t-Test\n",
        "\n",
        "Two-Sample t-Test\n",
        "\n",
        "Paired t-Test\n",
        "\n",
        "One-Way ANOVA\n",
        "\n",
        "Chi-Square Test\n",
        "\n",
        "Correlation Test\n",
        "\n",
        "Z-Test"
      ],
      "metadata": {
        "id": "Knum5yzOmJGO"
      }
    },
    {
      "cell_type": "markdown",
      "source": [
        "1. One-Sample t-Test\n",
        "\n",
        "Used to determine whether the mean of a single sample is significantly different from a known or hypothesized population mean."
      ],
      "metadata": {
        "id": "NIR0xAcZmcBh"
      }
    },
    {
      "cell_type": "code",
      "source": [
        "import scipy.stats as stats\n",
        "\n",
        "# Sample data\n",
        "data = [2.3, 1.9, 2.1, 2.5, 2.7, 2.0, 2.8, 1.6]\n",
        "\n",
        "# Population mean\n",
        "population_mean = 2.0\n",
        "\n",
        "# Perform one-sample t-test\n",
        "t_statistic, p_value = stats.ttest_1samp(data, population_mean)\n",
        "\n",
        "print(f\"t-statistic: {t_statistic}, p-value: {p_value}\")\n"
      ],
      "metadata": {
        "colab": {
          "base_uri": "https://localhost:8080/"
        },
        "id": "j-R5LJ7imeYQ",
        "outputId": "54b5087a-6887-4e79-e993-e04d1c182983"
      },
      "execution_count": null,
      "outputs": [
        {
          "output_type": "stream",
          "name": "stdout",
          "text": [
            "t-statistic: 1.623279549661845, p-value: 0.14855887564628675\n"
          ]
        }
      ]
    },
    {
      "cell_type": "markdown",
      "source": [
        "2. Two-Sample t-Test\n",
        "\n",
        "Used to compare the means of two independent samples to see if they are significantly different from each other."
      ],
      "metadata": {
        "id": "PrD5lyShmj0g"
      }
    },
    {
      "cell_type": "code",
      "source": [
        "# Sample data\n",
        "data1 = [2.3, 1.9, 2.1, 2.5, 2.7, 2.0, 2.8, 1.6]\n",
        "data2 = [3.1, 2.9, 3.3, 3.5, 3.7, 3.2, 3.8, 3.0]\n",
        "\n",
        "# Perform two-sample t-test\n",
        "t_statistic, p_value = stats.ttest_ind(data1, data2)\n",
        "\n",
        "print(f\"t-statistic: {t_statistic}, p-value: {p_value}\")\n"
      ],
      "metadata": {
        "colab": {
          "base_uri": "https://localhost:8080/"
        },
        "id": "w9pYHPdomoN-",
        "outputId": "f13be00e-3892-4a51-ba57-1ed3db7ad3e4"
      },
      "execution_count": null,
      "outputs": [
        {
          "output_type": "stream",
          "name": "stdout",
          "text": [
            "t-statistic: -5.764527887997589, p-value: 4.897951869601087e-05\n"
          ]
        }
      ]
    },
    {
      "cell_type": "markdown",
      "source": [
        "3. Paired t-Test\n",
        "\n",
        "Used to compare means from the same group at different times (e.g., before and after treatment)."
      ],
      "metadata": {
        "id": "qyQzUafRmtaB"
      }
    },
    {
      "cell_type": "code",
      "source": [
        "# Sample data\n",
        "before_treatment = [2.3, 1.9, 2.1, 2.5, 2.7, 2.0, 2.8, 1.6]\n",
        "after_treatment = [2.5, 2.1, 2.2, 2.6, 2.8, 2.3, 2.9, 1.7]\n",
        "\n",
        "# Perform paired t-test\n",
        "t_statistic, p_value = stats.ttest_rel(before_treatment, after_treatment)\n",
        "\n",
        "print(f\"t-statistic: {t_statistic}, p-value: {p_value}\")\n"
      ],
      "metadata": {
        "colab": {
          "base_uri": "https://localhost:8080/"
        },
        "id": "Z5GtTYKSmzkB",
        "outputId": "8cf123be-05de-4c84-acfa-432a11da2022"
      },
      "execution_count": null,
      "outputs": [
        {
          "output_type": "stream",
          "name": "stdout",
          "text": [
            "t-statistic: -5.612486080160911, p-value: 0.0008053674295212069\n"
          ]
        }
      ]
    },
    {
      "cell_type": "markdown",
      "source": [
        "4. One-Way ANOVA\n",
        "\n",
        "Used to determine whether there are any statistically significant differences between the means of three or more independent (unrelated) groups."
      ],
      "metadata": {
        "id": "-eGqwHx0m5uS"
      }
    },
    {
      "cell_type": "code",
      "source": [
        "# Sample data\n",
        "group1 = [2.3, 1.9, 2.1, 2.5, 2.7]\n",
        "group2 = [3.1, 2.9, 3.3, 3.5, 3.7]\n",
        "group3 = [2.0, 1.8, 2.2, 2.4, 2.6]\n",
        "\n",
        "# Perform one-way ANOVA\n",
        "f_statistic, p_value = stats.f_oneway(group1, group2, group3)\n",
        "\n",
        "print(f\"F-statistic: {f_statistic}, p-value: {p_value}\")\n"
      ],
      "metadata": {
        "colab": {
          "base_uri": "https://localhost:8080/"
        },
        "id": "mV3wv9nCm-0E",
        "outputId": "40072129-64ff-47dc-b78c-193ca9ddabf4"
      },
      "execution_count": null,
      "outputs": [
        {
          "output_type": "stream",
          "name": "stdout",
          "text": [
            "F-statistic: 18.499999999999968, p-value: 0.00021573022484384932\n"
          ]
        }
      ]
    },
    {
      "cell_type": "markdown",
      "source": [
        "5. Chi-Square Test\n",
        "\n",
        "Used to determine if there is a significant association between two categorical variables."
      ],
      "metadata": {
        "id": "mP4YBIsPnECj"
      }
    },
    {
      "cell_type": "code",
      "source": [
        "import pandas as pd\n",
        "\n",
        "# Sample data\n",
        "data = pd.DataFrame({\n",
        "    'Gender': ['Male', 'Female', 'Male', 'Female', 'Male', 'Female'],\n",
        "    'Preference': ['A', 'B', 'A', 'A', 'B', 'B']\n",
        "})\n",
        "\n",
        "# Create contingency table\n",
        "contingency_table = pd.crosstab(data['Gender'], data['Preference'])\n",
        "\n",
        "# Perform chi-square test\n",
        "chi2_stat, p_value, dof, expected = stats.chi2_contingency(contingency_table)\n",
        "\n",
        "print(f\"Chi-square statistic: {chi2_stat}, p-value: {p_value}\")\n"
      ],
      "metadata": {
        "colab": {
          "base_uri": "https://localhost:8080/"
        },
        "id": "tQJJrfmDnIgD",
        "outputId": "05d438b8-40b1-40a5-a186-820ab5ff4eae"
      },
      "execution_count": null,
      "outputs": [
        {
          "output_type": "stream",
          "name": "stdout",
          "text": [
            "Chi-square statistic: 0.0, p-value: 1.0\n"
          ]
        }
      ]
    },
    {
      "cell_type": "markdown",
      "source": [
        "6. Correlation Test\n",
        "\n",
        "Used to determine whether there is a significant relationship between two continuous variables."
      ],
      "metadata": {
        "id": "VZsQxX3vnOL7"
      }
    },
    {
      "cell_type": "code",
      "source": [
        "# Sample data\n",
        "data1 = [2.3, 1.9, 2.1, 2.5, 2.7, 2.0, 2.8, 1.6]\n",
        "data2 = [3.1, 2.9, 3.3, 3.5, 3.7, 3.2, 3.8, 3.0]\n",
        "\n",
        "# Perform correlation test\n",
        "correlation_coefficient, p_value = stats.pearsonr(data1, data2)\n",
        "\n",
        "print(f\"Correlation coefficient: {correlation_coefficient}, p-value: {p_value}\")\n"
      ],
      "metadata": {
        "colab": {
          "base_uri": "https://localhost:8080/"
        },
        "id": "jmHUsjrpnRKa",
        "outputId": "935676ea-414b-4c60-f604-4466da636b45"
      },
      "execution_count": null,
      "outputs": [
        {
          "output_type": "stream",
          "name": "stdout",
          "text": [
            "Correlation coefficient: 0.903790676237376, p-value: 0.002068785156362338\n"
          ]
        }
      ]
    },
    {
      "cell_type": "markdown",
      "source": [
        "7. Z-Test\n",
        "\n",
        "Used to compare the means of two groups when the sample size is large (n > 30) and the population variance is known."
      ],
      "metadata": {
        "id": "2L1CCCGOnYL8"
      }
    },
    {
      "cell_type": "code",
      "source": [
        "from statsmodels.stats.weightstats import ztest\n",
        "\n",
        "# Sample data\n",
        "data1 = [2.3, 1.9, 2.1, 2.5, 2.7, 2.0, 2.8, 1.6]\n",
        "data2 = [3.1, 2.9, 3.3, 3.5, 3.7, 3.2, 3.8, 3.0]\n",
        "\n",
        "# Perform z-test\n",
        "z_statistic, p_value = ztest(data1, data2)\n",
        "\n",
        "print(f\"z-statistic: {z_statistic}, p-value: {p_value}\")\n"
      ],
      "metadata": {
        "colab": {
          "base_uri": "https://localhost:8080/"
        },
        "id": "rI87qj47ncVp",
        "outputId": "f0d7a25c-5264-491d-a321-ed2412cc9903"
      },
      "execution_count": null,
      "outputs": [
        {
          "output_type": "stream",
          "name": "stdout",
          "text": [
            "z-statistic: -5.7645278879975885, p-value: 8.188673755684811e-09\n"
          ]
        }
      ]
    }
  ]
}