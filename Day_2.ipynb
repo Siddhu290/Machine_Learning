{
 "cells": [
  {
   "cell_type": "markdown",
   "id": "ba870ba1-63ac-4799-b1d9-ea5405abb538",
   "metadata": {},
   "source": [
    "## Linear Algebra"
   ]
  },
  {
   "cell_type": "code",
   "execution_count": 1,
   "id": "65dc1e2e-7aea-45c9-b8c4-473840fb39a9",
   "metadata": {},
   "outputs": [],
   "source": [
    "vector=[[1,2,3],[2,4,3],[6,4,5]]"
   ]
  },
  {
   "cell_type": "code",
   "execution_count": 2,
   "id": "546a05a6-c940-4806-b11b-fe289434bb69",
   "metadata": {},
   "outputs": [],
   "source": [
    "vector1=[[23,12,3],[45,3,2],[33,2,8]]"
   ]
  },
  {
   "cell_type": "code",
   "execution_count": 3,
   "id": "0b660af9-c249-4e20-b60e-b68a849ec0a6",
   "metadata": {},
   "outputs": [
    {
     "name": "stdout",
     "output_type": "stream",
     "text": [
      "[[1, 2, 3], [2, 4, 3], [6, 4, 5]] [[23, 12, 3], [45, 3, 2], [33, 2, 8]]\n"
     ]
    }
   ],
   "source": [
    "print(vector,vector1)"
   ]
  },
  {
   "cell_type": "code",
   "execution_count": 4,
   "id": "c6e228c1-6919-4a64-b9c2-6812d1a0b04b",
   "metadata": {},
   "outputs": [],
   "source": [
    "import numpy as np"
   ]
  },
  {
   "cell_type": "code",
   "execution_count": 5,
   "id": "4a8f5433-f05a-4c90-ba03-4c3314f6f5f7",
   "metadata": {},
   "outputs": [],
   "source": [
    "a=np.array(vector)\n"
   ]
  },
  {
   "cell_type": "code",
   "execution_count": 6,
   "id": "9ba24681-ce8b-41c6-8cb6-3cab60a1e766",
   "metadata": {},
   "outputs": [
    {
     "data": {
      "text/plain": [
       "array([[23, 12,  3],\n",
       "       [45,  3,  2],\n",
       "       [33,  2,  8]])"
      ]
     },
     "execution_count": 6,
     "metadata": {},
     "output_type": "execute_result"
    }
   ],
   "source": [
    "b=np.array(vector1)\n",
    "b"
   ]
  },
  {
   "cell_type": "code",
   "execution_count": 7,
   "id": "2eb10297-a790-45b1-a1ae-d0cc1fe3f115",
   "metadata": {},
   "outputs": [
    {
     "data": {
      "text/plain": [
       "array([[24, 14,  6],\n",
       "       [47,  7,  5],\n",
       "       [39,  6, 13]])"
      ]
     },
     "execution_count": 7,
     "metadata": {},
     "output_type": "execute_result"
    }
   ],
   "source": [
    "add=np.add(a,b)\n",
    "add"
   ]
  },
  {
   "cell_type": "code",
   "execution_count": 8,
   "id": "30dd086a-63db-4caa-90de-dca819f71f05",
   "metadata": {},
   "outputs": [
    {
     "data": {
      "text/plain": [
       "array([[24, 47, 39],\n",
       "       [14,  7,  6],\n",
       "       [ 6,  5, 13]])"
      ]
     },
     "execution_count": 8,
     "metadata": {},
     "output_type": "execute_result"
    }
   ],
   "source": [
    "add.T"
   ]
  },
  {
   "cell_type": "code",
   "execution_count": 9,
   "id": "709f8dc0-3ee2-45b9-94f7-d7ba89c5270a",
   "metadata": {},
   "outputs": [
    {
     "data": {
      "text/plain": [
       "array([[-22, -43, -27],\n",
       "       [-10,   1,   2],\n",
       "       [  0,   1,  -3]])"
      ]
     },
     "execution_count": 9,
     "metadata": {},
     "output_type": "execute_result"
    }
   ],
   "source": [
    "(a-b).T"
   ]
  },
  {
   "cell_type": "code",
   "execution_count": 10,
   "id": "3ac08286-2141-40a3-8539-681b1bbac065",
   "metadata": {},
   "outputs": [
    {
     "data": {
      "text/plain": [
       "array([[24, 47, 39],\n",
       "       [14,  7,  6],\n",
       "       [ 6,  5, 13]])"
      ]
     },
     "execution_count": 10,
     "metadata": {},
     "output_type": "execute_result"
    }
   ],
   "source": [
    "(a+b).T"
   ]
  },
  {
   "cell_type": "code",
   "execution_count": 11,
   "id": "cdbcf751-e419-4ab7-bc97-cd68902764b1",
   "metadata": {},
   "outputs": [
    {
     "data": {
      "text/plain": [
       "array([[ 23,  24,   9],\n",
       "       [ 90,  12,   6],\n",
       "       [198,   8,  40]])"
      ]
     },
     "execution_count": 11,
     "metadata": {},
     "output_type": "execute_result"
    }
   ],
   "source": [
    "(a*b)"
   ]
  },
  {
   "cell_type": "code",
   "execution_count": 12,
   "id": "d4593c29-dc93-44b5-b3a7-6209506ad2ad",
   "metadata": {},
   "outputs": [
    {
     "data": {
      "text/plain": [
       "array([[0.04347826, 0.16666667, 1.        ],\n",
       "       [0.04444444, 1.33333333, 1.5       ],\n",
       "       [0.18181818, 2.        , 0.625     ]])"
      ]
     },
     "execution_count": 12,
     "metadata": {},
     "output_type": "execute_result"
    }
   ],
   "source": [
    "(a/b)"
   ]
  },
  {
   "cell_type": "code",
   "execution_count": 13,
   "id": "d34046cc-49b4-4d8e-9efd-bb416ccc331b",
   "metadata": {},
   "outputs": [
    {
     "data": {
      "text/plain": [
       "array([[160,  90],\n",
       "       [ 85,  51]])"
      ]
     },
     "execution_count": 13,
     "metadata": {},
     "output_type": "execute_result"
    }
   ],
   "source": [
    "a=[[5,10],[3,5]]\n",
    "b=[[10,12],[11,3]]\n",
    "np.dot(a,b)"
   ]
  },
  {
   "cell_type": "code",
   "execution_count": 14,
   "id": "eb585ec7-bae6-4628-9986-3cac445da24c",
   "metadata": {},
   "outputs": [
    {
     "name": "stdout",
     "output_type": "stream",
     "text": [
      "[[1. 0.]\n",
      " [0. 1.]]\n",
      "[[1. 0.]\n",
      " [0. 1.]\n",
      " [0. 0.]]\n"
     ]
    }
   ],
   "source": [
    "I1=np.eye(2)\n",
    "I2=np.eye(3,2)\n",
    "print(I1)\n",
    "print(I2)"
   ]
  },
  {
   "cell_type": "code",
   "execution_count": 15,
   "id": "ac5889aa-a678-41d7-9d5e-2fc46501b73e",
   "metadata": {},
   "outputs": [
    {
     "name": "stdout",
     "output_type": "stream",
     "text": [
      "Iteration 1 \n",
      "x value is -3.4\n",
      "The local minimum occurs at -3.4\n"
     ]
    }
   ],
   "source": [
    "\n",
    "cur_x = -3  \n",
    "rate = 0.1 \n",
    "precision = 0.5  \n",
    "previous_step_size = 1  \n",
    "max_iters = 1000000  \n",
    "iters = 0  \n",
    "\n",
    "\n",
    "df = lambda x: 2 * (x + 5)\n",
    "\n",
    "\n",
    "while previous_step_size > precision and iters < max_iters:\n",
    "    prev_x = cur_x\n",
    "    cur_x = cur_x - rate * df(prev_x)  \n",
    "    previous_step_size = abs(cur_x - prev_x)  \n",
    "    iters += 1 \n",
    "    print(\"Iteration\", iters, \"\\nx value is\", cur_x)  \n",
    "    \n",
    "print(\"The local minimum occurs at\", cur_x)"
   ]
  },
  {
   "cell_type": "code",
   "execution_count": 16,
   "id": "c7c772fb-50a1-4b92-9a0f-4906813d7a46",
   "metadata": {},
   "outputs": [],
   "source": [
    "import pandas as pd "
   ]
  },
  {
   "cell_type": "code",
   "execution_count": 17,
   "id": "de4f3c9f-e2e9-46f9-9cfc-123e8a6123fd",
   "metadata": {},
   "outputs": [],
   "source": [
    "df=pd.DataFrame(\n",
    "    {\n",
    "    \"name\":[\"prasad\",\"siddharth\",\"sopan\",\"wajid\",\"harshal\",\"shubham\"],\n",
    "    \"salary\":[10000,15000,32000,40000,12000,30000]}\n",
    ")\n",
    "        \n",
    "        "
   ]
  },
  {
   "cell_type": "code",
   "execution_count": 18,
   "id": "0c40b9fe-770e-4109-a61c-ad38c45fa983",
   "metadata": {},
   "outputs": [
    {
     "data": {
      "text/html": [
       "<div>\n",
       "<style scoped>\n",
       "    .dataframe tbody tr th:only-of-type {\n",
       "        vertical-align: middle;\n",
       "    }\n",
       "\n",
       "    .dataframe tbody tr th {\n",
       "        vertical-align: top;\n",
       "    }\n",
       "\n",
       "    .dataframe thead th {\n",
       "        text-align: right;\n",
       "    }\n",
       "</style>\n",
       "<table border=\"1\" class=\"dataframe\">\n",
       "  <thead>\n",
       "    <tr style=\"text-align: right;\">\n",
       "      <th></th>\n",
       "      <th>name</th>\n",
       "      <th>salary</th>\n",
       "    </tr>\n",
       "  </thead>\n",
       "  <tbody>\n",
       "    <tr>\n",
       "      <th>0</th>\n",
       "      <td>prasad</td>\n",
       "      <td>10000</td>\n",
       "    </tr>\n",
       "    <tr>\n",
       "      <th>1</th>\n",
       "      <td>siddharth</td>\n",
       "      <td>15000</td>\n",
       "    </tr>\n",
       "    <tr>\n",
       "      <th>2</th>\n",
       "      <td>sopan</td>\n",
       "      <td>32000</td>\n",
       "    </tr>\n",
       "    <tr>\n",
       "      <th>3</th>\n",
       "      <td>wajid</td>\n",
       "      <td>40000</td>\n",
       "    </tr>\n",
       "    <tr>\n",
       "      <th>4</th>\n",
       "      <td>harshal</td>\n",
       "      <td>12000</td>\n",
       "    </tr>\n",
       "    <tr>\n",
       "      <th>5</th>\n",
       "      <td>shubham</td>\n",
       "      <td>30000</td>\n",
       "    </tr>\n",
       "  </tbody>\n",
       "</table>\n",
       "</div>"
      ],
      "text/plain": [
       "        name  salary\n",
       "0     prasad   10000\n",
       "1  siddharth   15000\n",
       "2      sopan   32000\n",
       "3      wajid   40000\n",
       "4    harshal   12000\n",
       "5    shubham   30000"
      ]
     },
     "execution_count": 18,
     "metadata": {},
     "output_type": "execute_result"
    }
   ],
   "source": [
    "df"
   ]
  },
  {
   "cell_type": "code",
   "execution_count": 19,
   "id": "43060f1a-7693-4b05-84ce-8c7e3b8b276a",
   "metadata": {},
   "outputs": [
    {
     "name": "stdout",
     "output_type": "stream",
     "text": [
      "mean 23166.666666666668\n"
     ]
    }
   ],
   "source": [
    "print(\"mean\",df[\"salary\"].mean())"
   ]
  },
  {
   "cell_type": "code",
   "execution_count": 20,
   "id": "58f8db20-cda1-4509-9cbc-eb207bc0dfe1",
   "metadata": {},
   "outputs": [
    {
     "name": "stdout",
     "output_type": "stream",
     "text": [
      "mean 22500.0\n"
     ]
    }
   ],
   "source": [
    "print(\"mean\",df[\"salary\"].median())"
   ]
  },
  {
   "cell_type": "code",
   "execution_count": 21,
   "id": "5702bee9-4c8d-4802-8f20-fee85f1e0a86",
   "metadata": {},
   "outputs": [
    {
     "name": "stdout",
     "output_type": "stream",
     "text": [
      "mean 0    10000\n",
      "1    12000\n",
      "2    15000\n",
      "3    30000\n",
      "4    32000\n",
      "5    40000\n",
      "Name: salary, dtype: int64\n"
     ]
    }
   ],
   "source": [
    "print(\"mean\",df[\"salary\"].mode())"
   ]
  },
  {
   "cell_type": "code",
   "execution_count": 22,
   "id": "ca6245f8-8949-4bc1-b46b-9b82c4a736f1",
   "metadata": {},
   "outputs": [
    {
     "name": "stdout",
     "output_type": "stream",
     "text": [
      "mean 40000\n"
     ]
    }
   ],
   "source": [
    "print(\"mean\",df[\"salary\"].max())"
   ]
  },
  {
   "cell_type": "code",
   "execution_count": 23,
   "id": "d6f20470-d7dc-4807-9d1b-7ec2c30d1644",
   "metadata": {},
   "outputs": [
    {
     "name": "stdout",
     "output_type": "stream",
     "text": [
      "mean 10000\n"
     ]
    }
   ],
   "source": [
    "print(\"mean\",df[\"salary\"].min())"
   ]
  },
  {
   "cell_type": "code",
   "execution_count": 24,
   "id": "9d643be4-5b89-4d9e-aca9-333ef82145a9",
   "metadata": {},
   "outputs": [
    {
     "name": "stdout",
     "output_type": "stream",
     "text": [
      "mean count        6.000000\n",
      "mean     23166.666667\n",
      "std      12432.484332\n",
      "min      10000.000000\n",
      "25%      12750.000000\n",
      "50%      22500.000000\n",
      "75%      31500.000000\n",
      "max      40000.000000\n",
      "Name: salary, dtype: float64\n"
     ]
    }
   ],
   "source": [
    "print(\"mean\",df[\"salary\"].describe())"
   ]
  },
  {
   "cell_type": "code",
   "execution_count": 25,
   "id": "b886cc0f-ff7f-4bda-94e4-a6650fcf25a3",
   "metadata": {},
   "outputs": [
    {
     "name": "stdout",
     "output_type": "stream",
     "text": [
      "<class 'pandas.core.series.Series'>\n",
      "RangeIndex: 6 entries, 0 to 5\n",
      "Series name: salary\n",
      "Non-Null Count  Dtype\n",
      "--------------  -----\n",
      "6 non-null      int64\n",
      "dtypes: int64(1)\n",
      "memory usage: 180.0 bytes\n",
      "mean None\n"
     ]
    }
   ],
   "source": [
    "print(\"mean\",df[\"salary\"].info())"
   ]
  },
  {
   "cell_type": "code",
   "execution_count": 26,
   "id": "52b87a3c-a9fe-4a14-a8d6-9b2316406c46",
   "metadata": {},
   "outputs": [],
   "source": [
    "import matplotlib.pyplot as plt\n"
   ]
  },
  {
   "cell_type": "code",
   "execution_count": 27,
   "id": "23609ca4-d5c6-41b4-a8d2-7dae6a54cfe1",
   "metadata": {},
   "outputs": [
    {
     "data": {
      "image/png": "[encoded data removed]",
      "text/plain": [
       "<Figure size 640x480 with 1 Axes>"
      ]
     },
     "metadata": {},
     "output_type": "display_data"
    }
   ],
   "source": [
    "plt.bar(df[\"name\"],df[\"salary\"])\n",
    "plt.show()"
   ]
  },
  {
   "cell_type": "code",
   "execution_count": 28,
   "id": "24b67aaf-3c52-49b8-a7fa-c91ea7db3d0f",
   "metadata": {},
   "outputs": [
    {
     "data": {
      "text/plain": [
       "<Axes: >"
      ]
     },
     "execution_count": 28,
     "metadata": {},
     "output_type": "execute_result"
    },
    {
     "data": {
      "image/png": "[encoded data removed]",
      "text/plain": [
       "<Figure size 640x480 with 1 Axes>"
      ]
     },
     "metadata": {},
     "output_type": "display_data"
    }
   ],
   "source": [
    "df[\"salary\"].plot(kind=\"bar\")"
   ]
  },
  {
   "cell_type": "code",
   "execution_count": 29,
   "id": "2c814ca3-d4a3-48fc-be1d-7676f495b09c",
   "metadata": {},
   "outputs": [],
   "source": [
    "import math"
   ]
  },
  {
   "cell_type": "code",
   "execution_count": 30,
   "id": "f85d3a0a-5eae-4fdd-9471-6acad5775e77",
   "metadata": {},
   "outputs": [
    {
     "name": "stdout",
     "output_type": "stream",
     "text": [
      "3.1622776601683795\n"
     ]
    }
   ],
   "source": [
    "square_root=math.sqrt(10)\n",
    "print(square_root)"
   ]
  },
  {
   "cell_type": "code",
   "execution_count": 31,
   "id": "40526756-5a40-4fb8-9003-4a857ffebbc1",
   "metadata": {},
   "outputs": [
    {
     "name": "stdout",
     "output_type": "stream",
     "text": [
      "84\n"
     ]
    }
   ],
   "source": [
    "import operator as op\n",
    "print(op.add(40,44))"
   ]
  },
  {
   "cell_type": "code",
   "execution_count": 32,
   "id": "41ba260b-3f8b-4de5-b9c9-9f5247dcdf0e",
   "metadata": {},
   "outputs": [
    {
     "name": "stdout",
     "output_type": "stream",
     "text": [
      "3542\n"
     ]
    }
   ],
   "source": [
    "from operator import mul\n",
    "print(mul(77,46))"
   ]
  },
  {
   "cell_type": "code",
   "execution_count": 33,
   "id": "ca84c2ec-fdaa-443f-a4ab-f720e0091ca0",
   "metadata": {},
   "outputs": [
    {
     "name": "stdout",
     "output_type": "stream",
     "text": [
      "Requirement already satisfied: sympy in c:\\users\\prasad\\appdata\\local\\programs\\python\\python312\\lib\\site-packages (1.12.1)Note: you may need to restart the kernel to use updated packages.\n",
      "\n",
      "Requirement already satisfied: mpmath<1.4.0,>=1.1.0 in c:\\users\\prasad\\appdata\\local\\programs\\python\\python312\\lib\\site-packages (from sympy) (1.3.0)\n"
     ]
    }
   ],
   "source": [
    "pip install sympy"
   ]
  },
  {
   "cell_type": "code",
   "execution_count": 34,
   "id": "f63b602d-97b0-4dfa-a07c-99c4d5d2523f",
   "metadata": {},
   "outputs": [
    {
     "name": "stdout",
     "output_type": "stream",
     "text": [
      "Requirement already satisfied: pip in c:\\users\\prasad\\appdata\\local\\programs\\python\\python312\\lib\\site-packages (24.0)\n",
      "Note: you may need to restart the kernel to use updated packages.\n"
     ]
    }
   ],
   "source": [
    "pip install --upgrade pip"
   ]
  },
  {
   "cell_type": "code",
   "execution_count": 35,
   "id": "4fe8687e-0d8b-487c-83ad-ec1fa05fbc8f",
   "metadata": {},
   "outputs": [],
   "source": [
    "import sympy as sp"
   ]
  },
  {
   "cell_type": "code",
   "execution_count": 36,
   "id": "91c935ef-4b23-4ee5-bee2-d8f085cf2fa8",
   "metadata": {},
   "outputs": [
    {
     "data": {
      "text/latex": [
       "$\\displaystyle \\sqrt{10}$"
      ],
      "text/plain": [
       "sqrt(10)"
      ]
     },
     "execution_count": 36,
     "metadata": {},
     "output_type": "execute_result"
    }
   ],
   "source": [
    "sp.sqrt(10)"
   ]
  },
  {
   "cell_type": "code",
   "execution_count": 43,
   "id": "dd4128d5-afcd-4093-a15f-a3257be35865",
   "metadata": {},
   "outputs": [],
   "source": [
    "import numpy as np\n",
    "import sympy as sp\n",
    "from sympy.vector import *\n",
    "import matplotlib.pyplot as plt\n",
    "from scipy.integrate import quad\n",
    "from scipy.integrate import quad_vec"
   ]
  },
  {
   "cell_type": "markdown",
   "id": "175ebdf2-9ef7-4754-a219-ff7c8a2c00d9",
   "metadata": {},
   "source": [
    "x## Vector and Geometry"
   ]
  },
  {
   "cell_type": "code",
   "execution_count": 59,
   "id": "7ba62115-9cb2-4b37-8f83-bd7e534841b3",
   "metadata": {},
   "outputs": [],
   "source": [
    "x,y,z,u1,u2,u3,v1,v2,v3,t = sp.symbols('x y z u_1 u_2 u_3 v_1 v_2 v_3 t')\n",
    "a=np.array([1,2,3])\n",
    "b=np.array([7,8,9])\n",
    "u=sp.Matrix([u1,u2,u3])\n",
    "v=sp.Matrix([v1,v2,v3])\n"
   ]
  },
  {
   "cell_type": "code",
   "execution_count": 60,
   "id": "05951f99-ecd3-44c8-b973-48223e57ff81",
   "metadata": {},
   "outputs": [
    {
     "data": {
      "text/latex": [
       "$\\displaystyle \\sqrt{\\left|{u_{1}}\\right|^{2} + \\left|{u_{2}}\\right|^{2} + \\left|{u_{3}}\\right|^{2}}$"
      ],
      "text/plain": [
       "sqrt(Abs(u_1)**2 + Abs(u_2)**2 + Abs(u_3)**2)"
      ]
     },
     "execution_count": 60,
     "metadata": {},
     "output_type": "execute_result"
    }
   ],
   "source": [
    "u.norm()"
   ]
  },
  {
   "cell_type": "markdown",
   "id": "86073378-1af3-4ac8-b933-2d5ce1d5ae43",
   "metadata": {},
   "source": [
    "## Vector Projection "
   ]
  },
  {
   "cell_type": "code",
   "execution_count": null,
   "id": "4e737726-87ef-4961-bf3a-56b6296e2547",
   "metadata": {},
   "outputs": [],
   "source": [
    "proj_b_a=np.dot(a,b)/np.lia"
   ]
  }
 ],
 "metadata": {
  "kernelspec": {
   "display_name": "Python 3 (ipykernel)",
   "language": "python",
   "name": "python3"
  },
  "language_info": {
   "codemirror_mode": {
    "name": "ipython",
    "version": 3
   },
   "file_extension": ".py",
   "mimetype": "text/x-python",
   "name": "python",
   "nbconvert_exporter": "python",
   "pygments_lexer": "ipython3",
   "version": "3.12.1"
  }
 },
 "nbformat": 4,
 "nbformat_minor": 5
}
