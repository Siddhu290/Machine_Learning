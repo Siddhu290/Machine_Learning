{
  "nbformat": 4,
  "nbformat_minor": 0,
  "metadata": {
    "colab": {
      "provenance": [],
      "include_colab_link": true
    },
    "kernelspec": {
      "name": "python3",
      "display_name": "Python 3"
    },
    "language_info": {
      "name": "python"
    }
  },
  "cells": [
    {
      "cell_type": "markdown",
      "metadata": {
        "id": "view-in-github",
        "colab_type": "text"
      },
      "source": [
        "<a href=\"https://colab.research.google.com/github/Siddhu290/Machine_Learning/blob/main/2024-07-09/EDA.ipynb\" target=\"_parent\"><img src=\"https://colab.research.google.com/assets/colab-badge.svg\" alt=\"Open In Colab\"/></a>"
      ]
    },
    {
      "cell_type": "code",
      "source": [
        "def calculate_length_without_repeats(input_string):\n",
        "    seen = set()\n",
        "    length = 0\n",
        "    for char in input_string:\n",
        "        if char not in seen:\n",
        "            seen.add(char)\n",
        "            length += 1\n",
        "    return length\n",
        "\n",
        "\n",
        "input_str = \"Hello World\"\n",
        "length_without_repeats = calculate_length_without_repeats(input_str)\n",
        "print(f\"Length of '{input_str}' without repeating characters: {length_without_repeats}\")\n"
      ],
      "metadata": {
        "colab": {
          "base_uri": "https://localhost:8080/"
        },
        "id": "OXkrIzK3nVNC",
        "outputId": "826c4208-9be4-495c-c1a3-02426f338a8e"
      },
      "execution_count": null,
      "outputs": [
        {
          "output_type": "stream",
          "name": "stdout",
          "text": [
            "Length of 'Hello World' without repeating characters: 8\n"
          ]
        }
      ]
    },
    {
      "cell_type": "code",
      "source": [
        "string=\"aba\"\n",
        "\n",
        "reversed_string = string[::-1]\n",
        "if string == reversed_string:\n",
        "    print(\"Yes\")\n",
        "else:\n",
        "    print(\"No\")"
      ],
      "metadata": {
        "colab": {
          "base_uri": "https://localhost:8080/"
        },
        "id": "cLmd_p1MsOu3",
        "outputId": "95d00f51-5877-4510-eacc-043041de911a"
      },
      "execution_count": null,
      "outputs": [
        {
          "output_type": "stream",
          "name": "stdout",
          "text": [
            "Yes\n"
          ]
        }
      ]
    },
    {
      "cell_type": "code",
      "source": [
        "def longest_palindrome_substring(input_string):\n",
        "    if not input_string:\n",
        "        return \"\"\n",
        "\n",
        "    max_length = 1\n",
        "    start = 0\n",
        "\n",
        "    def expand_around_center(left, right):\n",
        "        nonlocal max_length, start\n",
        "        while left >= 0 and right < len(input_string) and input_string[left] == input_string[right]:\n",
        "            current_length = right - left + 1\n",
        "            if current_length > max_length:\n",
        "                max_length = current_length\n",
        "                start = left\n",
        "            left -= 1\n",
        "            right += 1\n",
        "\n",
        "    for i in range(len(input_string)):\n",
        "\n",
        "        expand_around_center(i, i)\n",
        "        expand_around_center(i, i + 1)\n",
        "\n",
        "    return input_string[start:start + max_length]\n",
        "\n",
        "\n",
        "input_str = \"babad\"\n",
        "result = longest_palindrome_substring(input_str)\n",
        "print(f\"Longest palindrome substring in '{input_str}' is: {result}\")\n"
      ],
      "metadata": {
        "colab": {
          "base_uri": "https://localhost:8080/"
        },
        "id": "ehHzGFM4u33l",
        "outputId": "966c9d97-ec0f-4e63-cdf4-da4a155eee55"
      },
      "execution_count": null,
      "outputs": [
        {
          "output_type": "stream",
          "name": "stdout",
          "text": [
            "Longest palindrome substring in 'babad' is: bab\n"
          ]
        }
      ]
    },
    {
      "cell_type": "code",
      "source": [
        "A=[\"A\",\"B\",\"C\",\"D\",\"E\"]\n",
        "B=[1,2,3,4,5]\n",
        "\n",
        "print(dict(zip(A,B)))\n",
        "print(list(zip(A,B)))"
      ],
      "metadata": {
        "colab": {
          "base_uri": "https://localhost:8080/"
        },
        "id": "troEfna9zLol",
        "outputId": "71625469-2b00-4f30-ae70-9890e4b4b13c"
      },
      "execution_count": null,
      "outputs": [
        {
          "output_type": "stream",
          "name": "stdout",
          "text": [
            "{'A': 1, 'B': 2, 'C': 3, 'D': 4, 'E': 5}\n",
            "[('A', 1), ('B', 2), ('C', 3), ('D', 4), ('E', 5)]\n"
          ]
        }
      ]
    },
    {
      "cell_type": "code",
      "source": [
        "D={'a':1,'b':2,'c':3}\n",
        "print(D.items())\n",
        "print(D.values())\n",
        "print(D.keys())"
      ],
      "metadata": {
        "colab": {
          "base_uri": "https://localhost:8080/"
        },
        "id": "XIcKya2_1vcB",
        "outputId": "b2c58eee-ff81-4915-da1d-16a88a28984e"
      },
      "execution_count": null,
      "outputs": [
        {
          "output_type": "stream",
          "name": "stdout",
          "text": [
            "dict_items([('a', 1), ('b', 2), ('c', 3)])\n",
            "dict_values([1, 2, 3])\n",
            "dict_keys(['a', 'b', 'c'])\n"
          ]
        }
      ]
    },
    {
      "cell_type": "code",
      "source": [
        "I=iter(D)\n",
        "next(I)\n"
      ],
      "metadata": {
        "colab": {
          "base_uri": "https://localhost:8080/",
          "height": 35
        },
        "id": "qPxbSPRz2fji",
        "outputId": "41384e88-1b7e-4f03-90c3-2b60bca6693c"
      },
      "execution_count": null,
      "outputs": [
        {
          "output_type": "execute_result",
          "data": {
            "text/plain": [
              "'a'"
            ],
            "application/vnd.google.colaboratory.intrinsic+json": {
              "type": "string"
            }
          },
          "metadata": {},
          "execution_count": 125
        }
      ]
    },
    {
      "cell_type": "code",
      "source": [
        "next(I)"
      ],
      "metadata": {
        "colab": {
          "base_uri": "https://localhost:8080/",
          "height": 35
        },
        "id": "Rx1yeOH825y0",
        "outputId": "6c89f415-ff68-4c91-c7cb-ec49c8e62b7f"
      },
      "execution_count": null,
      "outputs": [
        {
          "output_type": "execute_result",
          "data": {
            "text/plain": [
              "'b'"
            ],
            "application/vnd.google.colaboratory.intrinsic+json": {
              "type": "string"
            }
          },
          "metadata": {},
          "execution_count": 126
        }
      ]
    },
    {
      "cell_type": "code",
      "source": [
        "next(I)"
      ],
      "metadata": {
        "colab": {
          "base_uri": "https://localhost:8080/",
          "height": 35
        },
        "id": "lmJMuBFu3xrM",
        "outputId": "0fb13b9c-0a2c-4f43-aff0-924c0df7fd23"
      },
      "execution_count": null,
      "outputs": [
        {
          "output_type": "execute_result",
          "data": {
            "text/plain": [
              "'c'"
            ],
            "application/vnd.google.colaboratory.intrinsic+json": {
              "type": "string"
            }
          },
          "metadata": {},
          "execution_count": 127
        }
      ]
    },
    {
      "cell_type": "markdown",
      "source": [
        "## EDA"
      ],
      "metadata": {
        "id": "-gs22KOK7_Qx"
      }
    },
    {
      "cell_type": "markdown",
      "source": [
        "#### What is the standard deviation of maximum windspeed across all the days"
      ],
      "metadata": {
        "id": "oxqhLPkhgWwz"
      }
    },
    {
      "cell_type": "code",
      "source": [
        "import pandas as pd\n",
        "import numpy as np\n",
        "import matplotlib.pyplot as plt\n",
        "import seaborn as sns\n",
        "\n",
        "df=pd.read_csv(\"data.csv\")\n",
        "df.head()\n",
        "\n",
        "df[\"Maximum windspeed (mph)\"].std()"
      ],
      "metadata": {
        "colab": {
          "base_uri": "https://localhost:8080/"
        },
        "id": "WM6CpzNL8CbX",
        "outputId": "8378fafa-584d-4909-e0f3-3440174eb4f4"
      },
      "execution_count": null,
      "outputs": [
        {
          "output_type": "execute_result",
          "data": {
            "text/plain": [
              "13.060875060425204"
            ]
          },
          "metadata": {},
          "execution_count": 128
        }
      ]
    },
    {
      "cell_type": "markdown",
      "source": [
        "#### What is the difference between 50th percentile and 75th percentile of average temperature"
      ],
      "metadata": {
        "id": "VKW0ctepgfPr"
      }
    },
    {
      "cell_type": "code",
      "source": [
        "A=np.percentile(df[\"Average temperature (°F)\"],50)\n",
        "B=np.percentile(df[\"Average temperature (°F)\"],75)"
      ],
      "metadata": {
        "id": "jTFcayHu8K5X"
      },
      "execution_count": null,
      "outputs": []
    },
    {
      "cell_type": "code",
      "source": [
        "B-A"
      ],
      "metadata": {
        "colab": {
          "base_uri": "https://localhost:8080/"
        },
        "id": "MVvOMb4Q9TfE",
        "outputId": "669ad7ca-2e09-4941-8939-a06a086b0e3a"
      },
      "execution_count": null,
      "outputs": [
        {
          "output_type": "execute_result",
          "data": {
            "text/plain": [
              "12.200000000000003"
            ]
          },
          "metadata": {},
          "execution_count": 130
        }
      ]
    },
    {
      "cell_type": "markdown",
      "source": [
        "#### What is the pearson correlation between average dew point and average temperature"
      ],
      "metadata": {
        "id": "XB9YmgRogv71"
      }
    },
    {
      "cell_type": "code",
      "source": [
        "import scipy.stats as sp\n"
      ],
      "metadata": {
        "id": "vn5PvdCQ-Cgk"
      },
      "execution_count": null,
      "outputs": []
    },
    {
      "cell_type": "code",
      "source": [
        "A=df[\"Average dewpoint (°F)\"]\n",
        "B=df[\"Average temperature (°F)\"]\n",
        "print(sp.pearsonr(A,B))\n"
      ],
      "metadata": {
        "colab": {
          "base_uri": "https://localhost:8080/"
        },
        "id": "Xeh9EzS9-U2c",
        "outputId": "83f80813-c466-443e-9453-a6f8ef6d5b51"
      },
      "execution_count": null,
      "outputs": [
        {
          "output_type": "stream",
          "name": "stdout",
          "text": [
            "PearsonRResult(statistic=0.7596091253567395, pvalue=0.0)\n"
          ]
        }
      ]
    },
    {
      "cell_type": "code",
      "source": [
        "df['Day'] = pd.to_datetime(df['Day'], format='%d/%m/%Y')"
      ],
      "metadata": {
        "id": "WtISZBYw_hjx"
      },
      "execution_count": null,
      "outputs": []
    },
    {
      "cell_type": "code",
      "source": [
        "df['Month'] = df['Day'].dt.month"
      ],
      "metadata": {
        "id": "dUHmG3HVCFf7"
      },
      "execution_count": null,
      "outputs": []
    },
    {
      "cell_type": "code",
      "source": [
        "df.groupby('Month')['Average humidity (%)'].min()"
      ],
      "metadata": {
        "colab": {
          "base_uri": "https://localhost:8080/"
        },
        "id": "_8ZzpNjtDOsO",
        "outputId": "c8b9a119-2f30-4c7d-86c8-7791c8ce3531"
      },
      "execution_count": null,
      "outputs": [
        {
          "output_type": "execute_result",
          "data": {
            "text/plain": [
              "Month\n",
              "1      9\n",
              "2     12\n",
              "3     12\n",
              "4     13\n",
              "5     17\n",
              "6     11\n",
              "7     18\n",
              "8     22\n",
              "9     10\n",
              "10    13\n",
              "11    11\n",
              "12    13\n",
              "Name: Average humidity (%), dtype: int64"
            ]
          },
          "metadata": {},
          "execution_count": 183
        }
      ]
    },
    {
      "cell_type": "code",
      "source": [
        "df.groupby('Month')['Maximum gust speed (mph)'].median()\n"
      ],
      "metadata": {
        "colab": {
          "base_uri": "https://localhost:8080/"
        },
        "id": "rhKAFQkRCZSt",
        "outputId": "4ad59c18-0900-4425-ef83-92d132896311"
      },
      "execution_count": null,
      "outputs": [
        {
          "output_type": "execute_result",
          "data": {
            "text/plain": [
              "Month\n",
              "1     32.2\n",
              "2     34.5\n",
              "3     31.1\n",
              "4     27.6\n",
              "5     26.0\n",
              "6     26.5\n",
              "7     24.2\n",
              "8     24.2\n",
              "9     24.2\n",
              "10    26.5\n",
              "11    32.2\n",
              "12    33.4\n",
              "Name: Maximum gust speed (mph), dtype: float64"
            ]
          },
          "metadata": {},
          "execution_count": 137
        }
      ]
    },
    {
      "cell_type": "code",
      "source": [
        "df.groupby('Month')['Maximum gust speed (mph)'].max()"
      ],
      "metadata": {
        "colab": {
          "base_uri": "https://localhost:8080/"
        },
        "id": "Zl95cTr3Cfwh",
        "outputId": "47152d80-e181-4681-bcc2-a280734d4e45"
      },
      "execution_count": null,
      "outputs": [
        {
          "output_type": "execute_result",
          "data": {
            "text/plain": [
              "Month\n",
              "1     255.3\n",
              "2      66.7\n",
              "3     255.0\n",
              "4      51.0\n",
              "5     255.0\n",
              "6     255.0\n",
              "7     255.3\n",
              "8     255.0\n",
              "9     255.3\n",
              "10    255.0\n",
              "11    255.0\n",
              "12    255.3\n",
              "Name: Maximum gust speed (mph), dtype: float64"
            ]
          },
          "metadata": {},
          "execution_count": 138
        }
      ]
    },
    {
      "cell_type": "markdown",
      "source": [
        "####Which month has the highest median for maximum_gust_speed out of all the available records. Also find the repective value"
      ],
      "metadata": {
        "id": "2G7AtSBQhUG7"
      }
    },
    {
      "cell_type": "code",
      "source": [
        "df_grouped_median[(df_grouped_median.values == df_grouped_median.max())]"
      ],
      "metadata": {
        "colab": {
          "base_uri": "https://localhost:8080/"
        },
        "id": "0PbHgnU5Gay-",
        "outputId": "8de5e6f5-5635-4e31-8258-4965a90bf599"
      },
      "execution_count": null,
      "outputs": [
        {
          "output_type": "execute_result",
          "data": {
            "text/plain": [
              "Month\n",
              "2    34.5\n",
              "Name: Maximum gust speed (mph), dtype: float64"
            ]
          },
          "metadata": {},
          "execution_count": 141
        }
      ]
    },
    {
      "cell_type": "markdown",
      "source": [
        "#### Determine the average temperature between the months of March 2010 to May 2012 (including both the months)"
      ],
      "metadata": {
        "id": "tnJJJGrhhgM9"
      }
    },
    {
      "cell_type": "code",
      "source": [
        "start_date = '2010-03-01'\n",
        "end_date = '2012-05-31'"
      ],
      "metadata": {
        "id": "gl6EDr2QGiJH"
      },
      "execution_count": null,
      "outputs": []
    },
    {
      "cell_type": "code",
      "source": [
        "filtered_df = df[(df['Day'] >= start_date) & (df['Day'] <= end_date)]"
      ],
      "metadata": {
        "id": "oThCnhywVwV8"
      },
      "execution_count": null,
      "outputs": []
    },
    {
      "cell_type": "code",
      "source": [
        "\n",
        " filtered_df['Average temperature (°F)'].mean()"
      ],
      "metadata": {
        "colab": {
          "base_uri": "https://localhost:8080/"
        },
        "id": "JQWQG0E1WGri",
        "outputId": "3c354aaa-b620-4d6a-fe30-a88ec8d2161c"
      },
      "execution_count": null,
      "outputs": [
        {
          "output_type": "execute_result",
          "data": {
            "text/plain": [
              "45.3322962962963"
            ]
          },
          "metadata": {},
          "execution_count": 144
        }
      ]
    },
    {
      "cell_type": "markdown",
      "source": [
        "#### Find the range of averange temperature on Dec 2010"
      ],
      "metadata": {
        "id": "O4sOQF7lhnqM"
      }
    },
    {
      "cell_type": "code",
      "source": [
        "filtered_df2=df[(df[\"Day\"].dt.year==2010) & (df[\"Day\"].dt.month==12)]"
      ],
      "metadata": {
        "id": "I4uBPYUgWm08"
      },
      "execution_count": null,
      "outputs": []
    },
    {
      "cell_type": "code",
      "source": [
        "filtered_df2['Average temperature (°F)'].max() - filtered_df2['Average temperature (°F)'].min()"
      ],
      "metadata": {
        "colab": {
          "base_uri": "https://localhost:8080/"
        },
        "id": "oOjo5sWzW4xE",
        "outputId": "dacb44de-925d-42b3-de83-f200572a69fc"
      },
      "execution_count": null,
      "outputs": [
        {
          "output_type": "execute_result",
          "data": {
            "text/plain": [
              "44.8"
            ]
          },
          "metadata": {},
          "execution_count": 146
        }
      ]
    },
    {
      "cell_type": "code",
      "source": [
        "df.columns"
      ],
      "metadata": {
        "colab": {
          "base_uri": "https://localhost:8080/"
        },
        "id": "XcnKd8YkaYSz",
        "outputId": "a78eb452-9585-41ab-b6c6-f0fa298b08bc"
      },
      "execution_count": null,
      "outputs": [
        {
          "output_type": "execute_result",
          "data": {
            "text/plain": [
              "Index(['Day', 'Average temperature (°F)', 'Average humidity (%)',\n",
              "       'Average dewpoint (°F)', 'Average barometer (in)',\n",
              "       'Average windspeed (mph)', 'Average gustspeed (mph)',\n",
              "       'Average direction (°deg)', 'Rainfall for month (in)',\n",
              "       'Rainfall for year (in)', 'Maximum rain per minute ',\n",
              "       'Maximum temperature (°F)', 'Minimum temperature (°F)',\n",
              "       'Maximum humidity (%)', 'Minimum humidity (%)', 'Maximum pressure ',\n",
              "       'Minimum pressure ', 'Maximum windspeed (mph)',\n",
              "       'Maximum gust speed (mph)', 'Maximum heat index (°F)', 'Month'],\n",
              "      dtype='object')"
            ]
          },
          "metadata": {},
          "execution_count": 151
        }
      ]
    },
    {
      "cell_type": "markdown",
      "source": [
        "#### out of all available records which day has the highest difference between maximum_pressure and minimum_pressure"
      ],
      "metadata": {
        "id": "cX1YvsMHhwDF"
      }
    },
    {
      "cell_type": "code",
      "source": [
        "df[\"pressure_difference\"]=df['Maximum pressure '] - df['Minimum pressure ']"
      ],
      "metadata": {
        "id": "sQnBi25PYsQ8"
      },
      "execution_count": null,
      "outputs": []
    },
    {
      "cell_type": "code",
      "source": [
        "df.loc[df['pressure_difference'].idxmax()]"
      ],
      "metadata": {
        "colab": {
          "base_uri": "https://localhost:8080/"
        },
        "id": "qCQb10L6Z0bw",
        "outputId": "14725353-cbda-4324-ff54-cab0bf17a5f9"
      },
      "execution_count": null,
      "outputs": [
        {
          "output_type": "execute_result",
          "data": {
            "text/plain": [
              "Day                         2018-03-23 00:00:00\n",
              "Average temperature (°F)                   42.0\n",
              "Average humidity (%)                         59\n",
              "Average dewpoint (°F)                      28.1\n",
              "Average barometer (in)                     29.5\n",
              "Average windspeed (mph)                    12.9\n",
              "Average gustspeed (mph)                    19.0\n",
              "Average direction (°deg)                    279\n",
              "Rainfall for month (in)                    0.09\n",
              "Rainfall for year (in)                     0.09\n",
              "Maximum rain per minute                    0.01\n",
              "Maximum temperature (°F)                   51.4\n",
              "Minimum temperature (°F)                   34.7\n",
              "Maximum humidity (%)                         90\n",
              "Minimum humidity (%)                         20\n",
              "Maximum pressure                         29.868\n",
              "Minimum pressure                         13.266\n",
              "Maximum windspeed (mph)                    27.6\n",
              "Maximum gust speed (mph)                   38.0\n",
              "Maximum heat index (°F)                    51.4\n",
              "Month                                         3\n",
              "pressure_difference                      16.602\n",
              "Name: 3067, dtype: object"
            ]
          },
          "metadata": {},
          "execution_count": 168
        }
      ]
    },
    {
      "cell_type": "markdown",
      "source": [
        "#### How many days falls under median (i.e equal to median value) of barrometer reading."
      ],
      "metadata": {
        "id": "gjYogtYciFfT"
      }
    },
    {
      "cell_type": "code",
      "source": [
        "median_value = df['Average barometer (in)'].median()"
      ],
      "metadata": {
        "id": "49tsUk_HaCLu"
      },
      "execution_count": null,
      "outputs": []
    },
    {
      "cell_type": "code",
      "source": [
        "df[df['Average barometer (in)'] == median_value].shape[0]"
      ],
      "metadata": {
        "colab": {
          "base_uri": "https://localhost:8080/"
        },
        "id": "TNtHrefBaQLt",
        "outputId": "e81fa0aa-a846-43e0-cb1b-4c0b1fc28ed5"
      },
      "execution_count": null,
      "outputs": [
        {
          "output_type": "execute_result",
          "data": {
            "text/plain": [
              "534"
            ]
          },
          "metadata": {},
          "execution_count": 176
        }
      ]
    },
    {
      "cell_type": "markdown",
      "source": [
        "#### Out of all the available records how many days are within one standard deviation of average temperaturem\n"
      ],
      "metadata": {
        "id": "iAZGAdDwh4s1"
      }
    },
    {
      "cell_type": "code",
      "source": [
        "mean_temp = df['Average temperature (°F)'].mean()\n",
        "std_temp = df['Average temperature (°F)'].std()"
      ],
      "metadata": {
        "id": "P4wzGQXreGZ9"
      },
      "execution_count": null,
      "outputs": []
    },
    {
      "cell_type": "code",
      "source": [
        "lower_bound = mean_temp - std_temp\n",
        "upper_bound = mean_temp + std_temp"
      ],
      "metadata": {
        "id": "VDwfMseGfx7P"
      },
      "execution_count": null,
      "outputs": []
    },
    {
      "cell_type": "code",
      "source": [
        "df[(df['Average temperature (°F)'] >= lower_bound) & (df['Average temperature (°F)'] <= upper_bound)].shape[0]"
      ],
      "metadata": {
        "colab": {
          "base_uri": "https://localhost:8080/"
        },
        "id": "RsOwP8kEf2vL",
        "outputId": "e7f41180-a0bc-4d24-9618-ff522265a333"
      },
      "execution_count": null,
      "outputs": [
        {
          "output_type": "execute_result",
          "data": {
            "text/plain": [
              "2092"
            ]
          },
          "metadata": {},
          "execution_count": 181
        }
      ]
    },
    {
      "cell_type": "markdown",
      "source": [
        "### Print ASCII values of each character in the string"
      ],
      "metadata": {
        "id": "PCXNYiETk68O"
      }
    },
    {
      "cell_type": "code",
      "source": [
        "\n",
        "string = 'Hello World!'\n",
        "\n",
        "\n",
        "for char in string:\n",
        "    print(f\"ASCII value of '{char}' is {ord(char)}\")\n"
      ],
      "metadata": {
        "id": "xZ-mIGgVf7Bx",
        "outputId": "6f560330-cc03-4766-c117-c3f8abc29da5",
        "colab": {
          "base_uri": "https://localhost:8080/"
        }
      },
      "execution_count": 1,
      "outputs": [
        {
          "output_type": "stream",
          "name": "stdout",
          "text": [
            "ASCII value of 'H' is 72\n",
            "ASCII value of 'e' is 101\n",
            "ASCII value of 'l' is 108\n",
            "ASCII value of 'l' is 108\n",
            "ASCII value of 'o' is 111\n",
            "ASCII value of ' ' is 32\n",
            "ASCII value of 'W' is 87\n",
            "ASCII value of 'o' is 111\n",
            "ASCII value of 'r' is 114\n",
            "ASCII value of 'l' is 108\n",
            "ASCII value of 'd' is 100\n",
            "ASCII value of '!' is 33\n"
          ]
        }
      ]
    },
    {
      "cell_type": "markdown",
      "source": [
        "###wRITE a simple program to add to octal numbers\n"
      ],
      "metadata": {
        "id": "ndCJmNTtlhhd"
      }
    },
    {
      "cell_type": "code",
      "source": [
        "def add_octal_numbers(num1, num2):\n",
        "\n",
        "  int1 = int(num1, 8)\n",
        "  int2 = int(num2, 8)\n",
        "  sum = int1 + int2\n",
        "  octal_sum = oct(sum)[2:]\n",
        "  return octal_sum\n",
        "num1 = \"123\"\n",
        "num2 = \"456\"\n",
        "\n",
        "result = add_octal_numbers(num1, num2)\n",
        "\n",
        "print(f\"The sum of {num1} and {num2} in octal is: {result}\")\n"
      ],
      "metadata": {
        "id": "u_VznQSXk-xT",
        "outputId": "9f6562bf-a1ef-4dcb-e3a8-7b106c4110c5",
        "colab": {
          "base_uri": "https://localhost:8080/"
        }
      },
      "execution_count": 3,
      "outputs": [
        {
          "output_type": "stream",
          "name": "stdout",
          "text": [
            "The sum of 123 and 456 in octal is: 601\n"
          ]
        }
      ]
    },
    {
      "cell_type": "code",
      "source": [],
      "metadata": {
        "id": "B_aNXDWtlet2"
      },
      "execution_count": null,
      "outputs": []
    }
  ]
}