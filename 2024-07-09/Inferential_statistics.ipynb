{
  "nbformat": 4,
  "nbformat_minor": 0,
  "metadata": {
    "colab": {
      "provenance": [],
      "authorship_tag": "ABX9TyNE1PKEZQ/YAF50suE5NFVk",
      "include_colab_link": true
    },
    "kernelspec": {
      "name": "python3",
      "display_name": "Python 3"
    },
    "language_info": {
      "name": "python"
    }
  },
  "cells": [
    {
      "cell_type": "markdown",
      "metadata": {
        "id": "view-in-github",
        "colab_type": "text"
      },
      "source": [
        "<a href=\"https://colab.research.google.com/github/Siddhu290/Machine_Learning/blob/main/2024-07-09/Inferential_statistics.ipynb\" target=\"_parent\"><img src=\"https://colab.research.google.com/assets/colab-badge.svg\" alt=\"Open In Colab\"/></a>"
      ]
    },
    {
      "cell_type": "markdown",
      "source": [
        "#**Sampling Error**\n",
        "\n",
        "Sampling error is the difference between the value of a statistic calculated from a sample and the true population value. It arises because we rarely, if ever, have the resources to study an entire population. Instead, we rely on samples, which are subsets of the larger population.\n",
        "\n",
        "---\n",
        "\n",
        "## Type I and Type II Errors in Hypothesis Testing\n",
        "\n",
        "In statistical hypothesis testing, we face two foes: Type I and Type II errors. These errors stem from the inherent uncertainty of using samples to make decisions about entire populations.\n",
        "\n",
        "**Type I Error (False Positive)**\n",
        "\n",
        "Imagine a scenario where you **wrongfully reject a true null hypothesis (H₀)**. This means you mistakenly conclude an effect exists when, in reality, it doesn't. It's like accusing someone innocent! This error is often called a **false positive**.\n",
        "\n",
        "**Type II Error (False Negative)**\n",
        "\n",
        "Here, you make the opposite mistake: **failing to reject a false null hypothesis (H₀)**. You miss an existing effect and conclude there's no difference when there truly is. Think of letting a criminal go free. This error is often called a **false negative**.\n",
        "\n",
        "**Balancing the Tightrope**\n",
        "\n",
        "There's a balancing act between these errors. A stricter significance level (alpha) reduces the chance of a Type I error (finding a false effect) but increases the risk of a Type II error (missing a real effect). On the other hand, a looser significance level reduces the chance of a Type II error but increases the chance of a Type I error.\n",
        "\n",
        "Statisticians strive to find the sweet spot by carefully choosing the significance level, considering the research question and the potential consequences of each type of error.\n",
        "\n"
      ],
      "metadata": {
        "id": "stJNulJgXDwy"
      }
    },
    {
      "cell_type": "markdown",
      "source": [
        "## Level of Significance (alpha)\n",
        "\n",
        "In statistical hypothesis testing, the **level of significance (alpha)** is the chance of making a Type I error. It's the threshold we set for rejecting the null hypothesis (H₀). Here's the gist:\n",
        "\n",
        "* **Lower alpha:** Stricter significance level, less likely to find a false effect (good), but more likely to miss a real effect (bad).\n",
        "* **Higher alpha:** Looser significance level, less likely to miss a real effect (good), but more likely to find a false effect (bad).\n",
        "\n",
        "**Choosing the Right Level**\n",
        "\n",
        "The ideal alpha depends on the research and the consequences of errors. Here's a glimpse:\n",
        "\n",
        "* **Fields fearing Type I errors (medicine):** Stricter alpha (like 0.05) to avoid false effects (harmful treatments).\n",
        "* **Fields fearing Type II errors (marketing):** Looser alpha (like 0.10) to avoid missing real effects (effective campaigns).\n",
        "\n",
        "**Remember:** Alpha is a critical decision based on the research context.\n",
        "\n",
        "---"
      ],
      "metadata": {
        "id": "Zv8q7_8YcwsJ"
      }
    },
    {
      "cell_type": "markdown",
      "source": [
        "###**Test for Infarential Statistics**\n",
        "\n",
        "## t-Test: A Workhorse for Comparing Means\n",
        "\n",
        "The t-test is a cornerstone of inferential statistics. It helps us determine if the observed difference in means between two groups is likely due to chance (sampling error) or reflects a genuine difference in the populations they represent.\n",
        "\n",
        "There are two main flavors of t-tests:\n",
        "\n",
        "1. **Independent Samples (Two-Sample) t-Test:** Used when observations in the groups are independent (e.g., comparing heights of men and women from separate surveys).\n",
        "2. **Paired Samples (One-Sample) t-Test:** Used when observations are paired (e.g., measuring performance before and after training).\n",
        "\n",
        "**Assumptions for the t-Test Party**\n",
        "\n",
        "Before the t-test party begins, we need to ensure the data plays fair:\n",
        "\n",
        "* **Normality:** The data in both groups should be roughly normally distributed.\n",
        "* **Homoscedasticity (Independent t-test only):** The variances of the two groups should be similar.\n",
        "* **Independence (Independent t-test only):** Observations in the groups should be independent.\n",
        "\n",
        "**Interpreting the t-Test Results**\n",
        "\n",
        "The t-test throws a **t-statistic** and a **p-value** at us. The t-statistic tells us the size and direction of the mean difference. The p-value tells us how likely it is to observe such a difference if there's truly no difference (null hypothesis).\n",
        "\n",
        "* **Lower p-value (usually < 0.05):** The mean difference is statistically significant, meaning it's probably not due to chance.\n",
        "* **Higher p-value:** The difference might be due to chance, and we don't reject the null hypothesis.\n",
        "\n",
        "---"
      ],
      "metadata": {
        "id": "_OotmE7OdLZP"
      }
    },
    {
      "cell_type": "markdown",
      "source": [
        "## ANOVA: The Analysis of Variance\n",
        "\n",
        "ANOVA, or Analysis of Variance, is a statistical powerhouse for comparing means across more than two groups. Unlike the t-test (limited to two groups), ANOVA tackles the question: is there a significant difference in means among multiple groups?\n",
        "\n",
        "**The Core Concept**\n",
        "\n",
        "ANOVA breaks down the total variation in the data into two pieces:\n",
        "\n",
        "* **Variance between groups (explained variance):** This reflects the differences between the group means.\n",
        "* **Variance within groups (unexplained variance):** This captures the variability within each group due to chance or individual quirks.\n",
        "\n",
        "ANOVA then tests the null hypothesis that all groups have the same mean. If the p-value is low (usually < 0.05), we reject the null hypothesis and conclude at least one group mean is statistically different from the others. But ANOVA doesn't tell us which specific groups differ, just that there's a difference somewhere.\n",
        "\n",
        "**ANOVA's Many Faces**\n",
        "\n",
        "ANOVA comes in various flavors depending on the study design:\n",
        "\n",
        "* **One-way ANOVA:** The basic type, comparing means across three or more groups with one independent variable.\n",
        "* **Two-way ANOVA:** Expands the analysis to explore the effects of two independent variables on the dependent variable.\n",
        "* **Repeated-measures ANOVA:** Used when the same individuals are measured across multiple groups or conditions.\n",
        "\n",
        "---\n"
      ],
      "metadata": {
        "id": "VQZ1mIRddqbv"
      }
    },
    {
      "cell_type": "markdown",
      "source": [
        "## Chi-Square Test: Unveiling Relationships Between Categorical Variables\n",
        "\n",
        "The chi-square test (χ²), a statistical workhorse, helps us assess the relationship between two categorical variables. It tells us whether the observed distribution of frequencies in a contingency table is likely due to chance or reflects a genuine association between the categories.\n",
        "\n",
        "**The Investigation**\n",
        "\n",
        "Imagine you're exploring the connection between **hair color (blonde, brunette, redhead)** and **eye color (blue, brown, green)**. You collect data and organize the counts into a contingency table:\n",
        "\n",
        "| Hair Color | Blue Eyes | Brown Eyes | Green Eyes | Total |\n",
        "|---|---|---|---|---|\n",
        "| Blonde |  |  |  |  |\n",
        "| Brunette |  |  |  |  |\n",
        "| Redhead |  |  |  |  |\n",
        "| Total |  |  |  |  |\n",
        "\n",
        "The chi-square test analyzes this table, comparing the observed frequencies (counts) with what we'd expect if there's no association between hair color and eye color.\n",
        "\n",
        "**Assumptions for the Chi-Square Test Party**\n",
        "\n",
        "Before the chi-square test party begins, let's make sure the data plays fair:\n",
        "\n",
        "* **Nominal or ordinal data:** Both variables must be categorical (nominal or ordinal).\n",
        "* **Enough guests:** Expected frequencies in each cell of the table should ideally be greater than 5.\n",
        "\n",
        "**Interpreting the Chi-Square Results**\n",
        "\n",
        "The chi-square test throws a chi-square statistic (χ²) and a p-value at us.\n",
        "\n",
        "* **Lower p-value (usually < 0.05):** The observed distribution is statistically significant, meaning it's probably not due to chance, suggesting a potential association between the variables.\n",
        "* **Higher p-value:** The observed distribution might be due to chance, and we don't reject the null hypothesis (no association).\n",
        "\n",
        "**Limitations to Consider**\n",
        "\n",
        "The chi-square test only tells us if an association exists, not the nature or strength of that association. Additionally, it can be sensitive to sample size and violate assumptions for small samples.\n",
        "\n",
        "---\n"
      ],
      "metadata": {
        "id": "-bSe13M1edNL"
      }
    },
    {
      "cell_type": "markdown",
      "source": [
        "\n",
        "| 1 | 2  |3  |count #heads  |  |\n",
        "|---|---|---|---|---|\n",
        "|  |  |  |0  |  |\n",
        "| H |  |  |1  |  |\n",
        "|  |  H|  |  1|  |\n",
        "|  |  | H |  1|  |\n",
        "| H |H  |  |  2|  |\n",
        "|  | H | H |  2|  |\n",
        "| H |  | H |  2|  |\n",
        "| H | H |  H|  3|  |"
      ],
      "metadata": {
        "id": "K-cHUsFWg0-5"
      }
    },
    {
      "cell_type": "code",
      "source": [
        "import matplotlib.pyplot as plt\n",
        "import numpy as np\n",
        "import pandas as pd\n",
        "import seaborn as sns\n",
        "import scipy.stats"
      ],
      "metadata": {
        "id": "2uSB7wEeh6c3"
      },
      "execution_count": 5,
      "outputs": []
    },
    {
      "cell_type": "code",
      "execution_count": 2,
      "metadata": {
        "colab": {
          "base_uri": "https://localhost:8080/",
          "height": 311
        },
        "id": "lZKjChfRXCJv",
        "outputId": "63e0fb1b-f539-4dcf-dd14-e1ac4bb245db"
      },
      "outputs": [
        {
          "output_type": "display_data",
          "data": {
            "text/plain": [
              "<Figure size 500x300 with 1 Axes>"
            ],
            "image/png": "[encoded data removed]"
          },
          "metadata": {}
        }
      ],
      "source": [
        "plt.figure(figsize=(5, 3))\n",
        "plt.bar([0,1,2,3],[1/8,3/8,3/8,1/8], width=0.9)\n",
        "_ = plt.xticks([0,1,2,3],[0,1,2,3])\n",
        "plt.xlabel(\"Number of Heads\")\n",
        "plt.ylabel(\"Probability\")\n",
        "plt.show()"
      ]
    },
    {
      "cell_type": "markdown",
      "source": [
        " Compute the probability (p-value) to observe a value larger or equal that 2 under the nullhypothesis ? This probability is the p-value:\n",
        "\n",
        " P(x ≥2|H0) = P(x = 2)+P(x =3)=3 8+1 8=4 8=1 2"
      ],
      "metadata": {
        "id": "khUC0sVTj8Bj"
      }
    },
    {
      "cell_type": "code",
      "source": [
        "succes = np.linspace(30, 70, 41)\n",
        "plt.plot(succes, scipy.stats.binom.pmf(succes, 100, 0.5),\n",
        "'b-', label=\"Binomial(100, 0.5)\")\n",
        "upper_succes_tvalues = succes[succes > 60]\n",
        "plt.fill_between(upper_succes_tvalues, 0,\n",
        "scipy.stats.binom.pmf(upper_succes_tvalues, 100, 0.5),\n",
        "alpha=.8, label=\"p-value\")\n",
        "_ = plt.legend()\n",
        "pval = 1- scipy.stats.binom.cdf(60, 100, 0.5)\n",
        "print(pval)"
      ],
      "metadata": {
        "colab": {
          "base_uri": "https://localhost:8080/",
          "height": 448
        },
        "id": "7buod1ttifMl",
        "outputId": "cb9d960c-68f3-4b3b-9c77-26e90b68b95c"
      },
      "execution_count": 6,
      "outputs": [
        {
          "output_type": "stream",
          "name": "stdout",
          "text": [
            "0.01760010010885238\n"
          ]
        },
        {
          "output_type": "display_data",
          "data": {
            "text/plain": [
              "<Figure size 640x480 with 1 Axes>"
            ],
            "image/png": "[encoded data removed]"
          },
          "metadata": {}
        }
      ]
    },
    {
      "cell_type": "code",
      "source": [
        "a=\"hello\"\n",
        "print(len(a))\n"
      ],
      "metadata": {
        "colab": {
          "base_uri": "https://localhost:8080/"
        },
        "id": "jQ9jU4eVnCye",
        "outputId": "ddcbcf3d-742a-49c9-8adc-fa6617b355ff"
      },
      "execution_count": 9,
      "outputs": [
        {
          "output_type": "stream",
          "name": "stdout",
          "text": [
            "5\n"
          ]
        }
      ]
    },
    {
      "cell_type": "code",
      "source": [
        "def longest_unique_substring(string):\n",
        "  longest_substring = 0\n",
        "  start = 0\n",
        "  char_seen = {}\n",
        "\n",
        "  for index, char in enumerate(string):\n",
        "    if char in char_seen and start <= char_seen[char]:\n",
        "      start = char_seen[char] + 1\n",
        "    else:\n",
        "      longest_substring = max(longest_substring, index - start + 1)\n",
        "\n",
        "    char_seen[char] = index\n",
        "\n",
        "  return longest_substring\n",
        "\n",
        "string = \"Hello\"\n",
        "longest_substring_length = longest_unique_substring(string)\n",
        "\n",
        "print(f\"Longest substring without repeating characters: {longest_substring_length}\")\n"
      ],
      "metadata": {
        "colab": {
          "base_uri": "https://localhost:8080/"
        },
        "id": "4VkBAOJQq5al",
        "outputId": "7fea2528-b0d0-4b4e-968d-d2d78a2b8325"
      },
      "execution_count": 11,
      "outputs": [
        {
          "output_type": "stream",
          "name": "stdout",
          "text": [
            "Longest substring without repeating characters: 3\n"
          ]
        }
      ]
    },
    {
      "cell_type": "code",
      "source": [],
      "metadata": {
        "id": "5zIt4UGF3A-q"
      },
      "execution_count": null,
      "outputs": []
    },
    {
      "cell_type": "code",
      "source": [],
      "metadata": {
        "id": "GqKNPJFur2RW"
      },
      "execution_count": 11,
      "outputs": []
    }
  ]
}